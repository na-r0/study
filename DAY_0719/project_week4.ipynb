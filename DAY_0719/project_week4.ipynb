{
 "cells": [
  {
   "cell_type": "markdown",
   "id": "218d92ad",
   "metadata": {},
   "source": [
    "#### 코스피/코스닥 자료 출처: http://data.krx.co.kr/contents/MDC/MDI/mdiLoader/index.cmd?menuId=MDC0201010105"
   ]
  },
  {
   "cell_type": "markdown",
   "id": "782b63a0",
   "metadata": {},
   "source": [
    "## 1. 미국 금리 2019~2022 전처리"
   ]
  },
  {
   "cell_type": "code",
   "execution_count": 99,
   "id": "2f853e77",
   "metadata": {},
   "outputs": [
    {
     "data": {
      "text/html": [
       "<div>\n",
       "<style scoped>\n",
       "    .dataframe tbody tr th:only-of-type {\n",
       "        vertical-align: middle;\n",
       "    }\n",
       "\n",
       "    .dataframe tbody tr th {\n",
       "        vertical-align: top;\n",
       "    }\n",
       "\n",
       "    .dataframe thead th {\n",
       "        text-align: right;\n",
       "    }\n",
       "</style>\n",
       "<table border=\"1\" class=\"dataframe\">\n",
       "  <thead>\n",
       "    <tr style=\"text-align: right;\">\n",
       "      <th></th>\n",
       "      <th>날짜</th>\n",
       "      <th>실제</th>\n",
       "      <th>이전</th>\n",
       "    </tr>\n",
       "  </thead>\n",
       "  <tbody>\n",
       "    <tr>\n",
       "      <th>0</th>\n",
       "      <td>2019-01-01</td>\n",
       "      <td>2.50%</td>\n",
       "      <td>2.25%</td>\n",
       "    </tr>\n",
       "    <tr>\n",
       "      <th>1</th>\n",
       "      <td>2019-02-01</td>\n",
       "      <td>2.50%</td>\n",
       "      <td>2.50%</td>\n",
       "    </tr>\n",
       "    <tr>\n",
       "      <th>2</th>\n",
       "      <td>2019-03-01</td>\n",
       "      <td>2.50%</td>\n",
       "      <td>2.50%</td>\n",
       "    </tr>\n",
       "    <tr>\n",
       "      <th>3</th>\n",
       "      <td>2019-04-01</td>\n",
       "      <td>2.50%</td>\n",
       "      <td>2.50%</td>\n",
       "    </tr>\n",
       "    <tr>\n",
       "      <th>4</th>\n",
       "      <td>2019-05-01</td>\n",
       "      <td>2.50%</td>\n",
       "      <td>2.50%</td>\n",
       "    </tr>\n",
       "  </tbody>\n",
       "</table>\n",
       "</div>"
      ],
      "text/plain": [
       "           날짜     실제     이전\n",
       "0  2019-01-01  2.50%  2.25%\n",
       "1  2019-02-01  2.50%  2.50%\n",
       "2  2019-03-01  2.50%  2.50%\n",
       "3  2019-04-01  2.50%  2.50%\n",
       "4  2019-05-01  2.50%  2.50%"
      ]
     },
     "execution_count": 99,
     "metadata": {},
     "output_type": "execute_result"
    }
   ],
   "source": [
    "import pandas as pd\n",
    "import platform\n",
    "import matplotlib.pyplot as plt\n",
    "import warnings\n",
    "warnings.filterwarnings(action='ignore')\n",
    "\n",
    "amDF=pd.read_csv('미국금리_월.csv',encoding='euc_kr')\n",
    "amDF.head()"
   ]
  },
  {
   "cell_type": "code",
   "execution_count": 100,
   "id": "4713a02b",
   "metadata": {},
   "outputs": [
    {
     "data": {
      "text/plain": [
       "날짜    0\n",
       "실제    0\n",
       "이전    0\n",
       "dtype: int64"
      ]
     },
     "execution_count": 100,
     "metadata": {},
     "output_type": "execute_result"
    }
   ],
   "source": [
    "# 결측치 있는지 확인\n",
    "amDF.isnull().sum()"
   ]
  },
  {
   "cell_type": "code",
   "execution_count": 101,
   "id": "31652994",
   "metadata": {
    "scrolled": false
   },
   "outputs": [
    {
     "name": "stdout",
     "output_type": "stream",
     "text": [
      "<class 'pandas.core.frame.DataFrame'>\n",
      "RangeIndex: 42 entries, 0 to 41\n",
      "Data columns (total 3 columns):\n",
      " #   Column  Non-Null Count  Dtype \n",
      "---  ------  --------------  ----- \n",
      " 0   날짜      42 non-null     object\n",
      " 1   실제      42 non-null     object\n",
      " 2   이전      42 non-null     object\n",
      "dtypes: object(3)\n",
      "memory usage: 1.1+ KB\n"
     ]
    }
   ],
   "source": [
    "amDF.info()"
   ]
  },
  {
   "cell_type": "code",
   "execution_count": 102,
   "id": "99992cd5",
   "metadata": {},
   "outputs": [],
   "source": [
    "# 값만 따오고 싶어서 % 없애고 실수형으로 data 바꿔줌\n",
    "amDF['실제']=amDF['실제'].apply(lambda x : x.replace('%','')).astype('float')"
   ]
  },
  {
   "cell_type": "code",
   "execution_count": 103,
   "id": "7fa5048d",
   "metadata": {},
   "outputs": [],
   "source": [
    "dateDF=amDF['날짜'].apply(lambda x : x.split('-')[:2]) # 연, 월, 일 분리 ('-' 기준)\n",
    "dateDF=pd.DataFrame(dateDF.tolist(),columns=('연','월')) # list 형태로 바꾼 걸 다시 DF로 생성"
   ]
  },
  {
   "cell_type": "code",
   "execution_count": 104,
   "id": "f29a63e2",
   "metadata": {},
   "outputs": [
    {
     "data": {
      "text/html": [
       "<div>\n",
       "<style scoped>\n",
       "    .dataframe tbody tr th:only-of-type {\n",
       "        vertical-align: middle;\n",
       "    }\n",
       "\n",
       "    .dataframe tbody tr th {\n",
       "        vertical-align: top;\n",
       "    }\n",
       "\n",
       "    .dataframe thead th {\n",
       "        text-align: right;\n",
       "    }\n",
       "</style>\n",
       "<table border=\"1\" class=\"dataframe\">\n",
       "  <thead>\n",
       "    <tr style=\"text-align: right;\">\n",
       "      <th></th>\n",
       "      <th>연</th>\n",
       "      <th>월</th>\n",
       "      <th>실제</th>\n",
       "    </tr>\n",
       "  </thead>\n",
       "  <tbody>\n",
       "    <tr>\n",
       "      <th>0</th>\n",
       "      <td>2019</td>\n",
       "      <td>01</td>\n",
       "      <td>2.5</td>\n",
       "    </tr>\n",
       "    <tr>\n",
       "      <th>1</th>\n",
       "      <td>2019</td>\n",
       "      <td>02</td>\n",
       "      <td>2.5</td>\n",
       "    </tr>\n",
       "    <tr>\n",
       "      <th>2</th>\n",
       "      <td>2019</td>\n",
       "      <td>03</td>\n",
       "      <td>2.5</td>\n",
       "    </tr>\n",
       "    <tr>\n",
       "      <th>3</th>\n",
       "      <td>2019</td>\n",
       "      <td>04</td>\n",
       "      <td>2.5</td>\n",
       "    </tr>\n",
       "    <tr>\n",
       "      <th>4</th>\n",
       "      <td>2019</td>\n",
       "      <td>05</td>\n",
       "      <td>2.5</td>\n",
       "    </tr>\n",
       "  </tbody>\n",
       "</table>\n",
       "</div>"
      ],
      "text/plain": [
       "      연   월   실제\n",
       "0  2019  01  2.5\n",
       "1  2019  02  2.5\n",
       "2  2019  03  2.5\n",
       "3  2019  04  2.5\n",
       "4  2019  05  2.5"
      ]
     },
     "execution_count": 104,
     "metadata": {},
     "output_type": "execute_result"
    }
   ],
   "source": [
    "# 연, 월, 일 분리한 DF에 원데이터 '실제' 컬럼 연결\n",
    "amDF=pd.concat([dateDF,amDF['실제']],axis=1)\n",
    "amDF.head()"
   ]
  },
  {
   "cell_type": "code",
   "execution_count": 105,
   "id": "ce89f13e",
   "metadata": {
    "scrolled": false
   },
   "outputs": [
    {
     "data": {
      "text/html": [
       "<div>\n",
       "<style scoped>\n",
       "    .dataframe tbody tr th:only-of-type {\n",
       "        vertical-align: middle;\n",
       "    }\n",
       "\n",
       "    .dataframe tbody tr th {\n",
       "        vertical-align: top;\n",
       "    }\n",
       "\n",
       "    .dataframe thead th {\n",
       "        text-align: right;\n",
       "    }\n",
       "</style>\n",
       "<table border=\"1\" class=\"dataframe\">\n",
       "  <thead>\n",
       "    <tr style=\"text-align: right;\">\n",
       "      <th></th>\n",
       "      <th>연</th>\n",
       "      <th>월</th>\n",
       "      <th>실제</th>\n",
       "    </tr>\n",
       "  </thead>\n",
       "  <tbody>\n",
       "    <tr>\n",
       "      <th>0</th>\n",
       "      <td>2019</td>\n",
       "      <td>01</td>\n",
       "      <td>2.5</td>\n",
       "    </tr>\n",
       "    <tr>\n",
       "      <th>1</th>\n",
       "      <td>2019</td>\n",
       "      <td>02</td>\n",
       "      <td>2.5</td>\n",
       "    </tr>\n",
       "    <tr>\n",
       "      <th>2</th>\n",
       "      <td>2019</td>\n",
       "      <td>03</td>\n",
       "      <td>2.5</td>\n",
       "    </tr>\n",
       "    <tr>\n",
       "      <th>3</th>\n",
       "      <td>2019</td>\n",
       "      <td>04</td>\n",
       "      <td>2.5</td>\n",
       "    </tr>\n",
       "    <tr>\n",
       "      <th>4</th>\n",
       "      <td>2019</td>\n",
       "      <td>05</td>\n",
       "      <td>2.5</td>\n",
       "    </tr>\n",
       "  </tbody>\n",
       "</table>\n",
       "</div>"
      ],
      "text/plain": [
       "      연   월   실제\n",
       "0  2019  01  2.5\n",
       "1  2019  02  2.5\n",
       "2  2019  03  2.5\n",
       "3  2019  04  2.5\n",
       "4  2019  05  2.5"
      ]
     },
     "execution_count": 105,
     "metadata": {},
     "output_type": "execute_result"
    }
   ],
   "source": [
    "# 2019년 데이터\n",
    "amDF_2019=amDF[amDF.연=='2019']\n",
    "# 2020년 데이터\n",
    "amDF_2020=amDF[amDF.연=='2020']\n",
    "# 2021년 데이터\n",
    "amDF_2021=amDF[amDF.연=='2021']\n",
    "# 2022년 데이터\n",
    "amDF_2022=amDF[amDF.연=='2022']\n",
    "amDF_2019.head()"
   ]
  },
  {
   "cell_type": "code",
   "execution_count": 106,
   "id": "26d937ec",
   "metadata": {},
   "outputs": [],
   "source": [
    "# '연', '월' data 사이에 '-' 넣어서 저장해 주는 함수\n",
    "def interest_rate(data):\n",
    "    data['날짜']=data.apply(lambda x:str(x['연'])+'-'+x['월'],axis=1)\n",
    "    data=data.iloc[:,2:]\n",
    "    data.set_index('날짜',inplace=True)\n",
    "    return data"
   ]
  },
  {
   "cell_type": "code",
   "execution_count": 107,
   "id": "0f8e754e",
   "metadata": {},
   "outputs": [],
   "source": [
    "amDF_2019=interest_rate(amDF_2019)\n",
    "amDF_2020=interest_rate(amDF_2020)\n",
    "amDF_2021=interest_rate(amDF_2021)\n",
    "amDF_2022=interest_rate(amDF_2022)"
   ]
  },
  {
   "cell_type": "code",
   "execution_count": 109,
   "id": "0b2ccb85",
   "metadata": {
    "scrolled": true
   },
   "outputs": [
    {
     "data": {
      "text/html": [
       "<div>\n",
       "<style scoped>\n",
       "    .dataframe tbody tr th:only-of-type {\n",
       "        vertical-align: middle;\n",
       "    }\n",
       "\n",
       "    .dataframe tbody tr th {\n",
       "        vertical-align: top;\n",
       "    }\n",
       "\n",
       "    .dataframe thead th {\n",
       "        text-align: right;\n",
       "    }\n",
       "</style>\n",
       "<table border=\"1\" class=\"dataframe\">\n",
       "  <thead>\n",
       "    <tr style=\"text-align: right;\">\n",
       "      <th></th>\n",
       "      <th>실제</th>\n",
       "    </tr>\n",
       "    <tr>\n",
       "      <th>날짜</th>\n",
       "      <th></th>\n",
       "    </tr>\n",
       "  </thead>\n",
       "  <tbody>\n",
       "    <tr>\n",
       "      <th>2019-01</th>\n",
       "      <td>2.5</td>\n",
       "    </tr>\n",
       "    <tr>\n",
       "      <th>2019-02</th>\n",
       "      <td>2.5</td>\n",
       "    </tr>\n",
       "    <tr>\n",
       "      <th>2019-03</th>\n",
       "      <td>2.5</td>\n",
       "    </tr>\n",
       "    <tr>\n",
       "      <th>2019-04</th>\n",
       "      <td>2.5</td>\n",
       "    </tr>\n",
       "    <tr>\n",
       "      <th>2019-05</th>\n",
       "      <td>2.5</td>\n",
       "    </tr>\n",
       "  </tbody>\n",
       "</table>\n",
       "</div>"
      ],
      "text/plain": [
       "          실제\n",
       "날짜          \n",
       "2019-01  2.5\n",
       "2019-02  2.5\n",
       "2019-03  2.5\n",
       "2019-04  2.5\n",
       "2019-05  2.5"
      ]
     },
     "execution_count": 109,
     "metadata": {},
     "output_type": "execute_result"
    }
   ],
   "source": [
    "amDF_total=pd.concat([amDF_2019,amDF_2020,amDF_2021,amDF_2022])\n",
    "amDF_total.head()"
   ]
  },
  {
   "cell_type": "code",
   "execution_count": 186,
   "id": "279e8d90",
   "metadata": {},
   "outputs": [],
   "source": [
    "# 금리 ,코스피, 코스닥 그래프 그리는 함수\n",
    "def draw_graph(data,name):    \n",
    "    if(platform.system()=='Windows'):\n",
    "        plt.rc('font',family='Malgun Gothic')\n",
    "    else:\n",
    "        plt.rc('font',family='AppleGothic')       \n",
    "    plt.rcParams['axes.unicode_minus']=False\n",
    "    plt.figure(figsize=(20,10))\n",
    "    plt.title('2019~2022년 {}'.format(name),size=20)\n",
    "    plt.plot(data,'orange',marker='o',label=name+' 2019~2022')\n",
    "    plt.xticks(data.index,rotation=60,size=12)\n",
    "    plt.xlabel('기간',size=15)\n",
    "    if name=='미국 금리': plt.ylabel('금리',size=15)\n",
    "    else: plt.ylabel('종가',size=15)\n",
    "    plt.legend(fontsize=13)\n",
    "    plt.show()"
   ]
  },
  {
   "cell_type": "code",
   "execution_count": 187,
   "id": "ebf5ebc1",
   "metadata": {},
   "outputs": [
    {
     "data": {
      "image/png": "[encoded data removed]",
      "text/plain": [
       "<Figure size 1440x720 with 1 Axes>"
      ]
     },
     "metadata": {
      "needs_background": "light"
     },
     "output_type": "display_data"
    }
   ],
   "source": [
    "# 미국 금리 그래프\n",
    "draw_graph(amDF_total,'미국 금리')"
   ]
  },
  {
   "cell_type": "markdown",
   "id": "a046759a",
   "metadata": {},
   "source": [
    "## 2. KOSPI 데이터 2019~2022 전처리"
   ]
  },
  {
   "cell_type": "code",
   "execution_count": 110,
   "id": "694387a3",
   "metadata": {
    "scrolled": false
   },
   "outputs": [
    {
     "data": {
      "text/html": [
       "<div>\n",
       "<style scoped>\n",
       "    .dataframe tbody tr th:only-of-type {\n",
       "        vertical-align: middle;\n",
       "    }\n",
       "\n",
       "    .dataframe tbody tr th {\n",
       "        vertical-align: top;\n",
       "    }\n",
       "\n",
       "    .dataframe thead th {\n",
       "        text-align: right;\n",
       "    }\n",
       "</style>\n",
       "<table border=\"1\" class=\"dataframe\">\n",
       "  <thead>\n",
       "    <tr style=\"text-align: right;\">\n",
       "      <th></th>\n",
       "      <th>일자</th>\n",
       "      <th>종가</th>\n",
       "      <th>대비</th>\n",
       "      <th>등락률</th>\n",
       "      <th>시가</th>\n",
       "      <th>고가</th>\n",
       "      <th>저가</th>\n",
       "      <th>거래량</th>\n",
       "      <th>거래대금</th>\n",
       "      <th>상장시가총액</th>\n",
       "    </tr>\n",
       "  </thead>\n",
       "  <tbody>\n",
       "    <tr>\n",
       "      <th>0</th>\n",
       "      <td>2022/06/30</td>\n",
       "      <td>2332.64</td>\n",
       "      <td>-45.35</td>\n",
       "      <td>-1.91</td>\n",
       "      <td>2368.57</td>\n",
       "      <td>2368.57</td>\n",
       "      <td>2332.59</td>\n",
       "      <td>515396.0</td>\n",
       "      <td>8923481.0</td>\n",
       "      <td>1.835493e+09</td>\n",
       "    </tr>\n",
       "    <tr>\n",
       "      <th>1</th>\n",
       "      <td>2022/06/29</td>\n",
       "      <td>2377.99</td>\n",
       "      <td>-44.10</td>\n",
       "      <td>-1.82</td>\n",
       "      <td>2387.10</td>\n",
       "      <td>2393.25</td>\n",
       "      <td>2375.45</td>\n",
       "      <td>422127.0</td>\n",
       "      <td>7965810.0</td>\n",
       "      <td>1.871276e+09</td>\n",
       "    </tr>\n",
       "    <tr>\n",
       "      <th>2</th>\n",
       "      <td>2022/06/28</td>\n",
       "      <td>2422.09</td>\n",
       "      <td>20.17</td>\n",
       "      <td>0.84</td>\n",
       "      <td>2405.20</td>\n",
       "      <td>2422.10</td>\n",
       "      <td>2393.96</td>\n",
       "      <td>564986.0</td>\n",
       "      <td>7193434.0</td>\n",
       "      <td>1.906215e+09</td>\n",
       "    </tr>\n",
       "    <tr>\n",
       "      <th>3</th>\n",
       "      <td>2022/06/27</td>\n",
       "      <td>2401.92</td>\n",
       "      <td>35.32</td>\n",
       "      <td>1.49</td>\n",
       "      <td>2383.20</td>\n",
       "      <td>2418.94</td>\n",
       "      <td>2365.86</td>\n",
       "      <td>510587.0</td>\n",
       "      <td>7656358.0</td>\n",
       "      <td>1.890526e+09</td>\n",
       "    </tr>\n",
       "    <tr>\n",
       "      <th>4</th>\n",
       "      <td>2022/06/24</td>\n",
       "      <td>2366.60</td>\n",
       "      <td>52.28</td>\n",
       "      <td>2.26</td>\n",
       "      <td>2327.11</td>\n",
       "      <td>2373.48</td>\n",
       "      <td>2319.99</td>\n",
       "      <td>654446.0</td>\n",
       "      <td>8469156.0</td>\n",
       "      <td>1.862321e+09</td>\n",
       "    </tr>\n",
       "  </tbody>\n",
       "</table>\n",
       "</div>"
      ],
      "text/plain": [
       "           일자       종가     대비   등락률       시가       고가       저가       거래량  \\\n",
       "0  2022/06/30  2332.64 -45.35 -1.91  2368.57  2368.57  2332.59  515396.0   \n",
       "1  2022/06/29  2377.99 -44.10 -1.82  2387.10  2393.25  2375.45  422127.0   \n",
       "2  2022/06/28  2422.09  20.17  0.84  2405.20  2422.10  2393.96  564986.0   \n",
       "3  2022/06/27  2401.92  35.32  1.49  2383.20  2418.94  2365.86  510587.0   \n",
       "4  2022/06/24  2366.60  52.28  2.26  2327.11  2373.48  2319.99  654446.0   \n",
       "\n",
       "        거래대금        상장시가총액  \n",
       "0  8923481.0  1.835493e+09  \n",
       "1  7965810.0  1.871276e+09  \n",
       "2  7193434.0  1.906215e+09  \n",
       "3  7656358.0  1.890526e+09  \n",
       "4  8469156.0  1.862321e+09  "
      ]
     },
     "execution_count": 110,
     "metadata": {},
     "output_type": "execute_result"
    }
   ],
   "source": [
    "kospiDF=pd.read_csv('KOSPI2019~2022.csv',encoding='euc_kr')\n",
    "kospiDF.head()"
   ]
  },
  {
   "cell_type": "code",
   "execution_count": 111,
   "id": "fc2a745f",
   "metadata": {},
   "outputs": [
    {
     "data": {
      "text/plain": [
       "일자        0\n",
       "종가        0\n",
       "대비        0\n",
       "등락률       0\n",
       "시가        0\n",
       "고가        0\n",
       "저가        0\n",
       "거래량       0\n",
       "거래대금      0\n",
       "상장시가총액    0\n",
       "dtype: int64"
      ]
     },
     "execution_count": 111,
     "metadata": {},
     "output_type": "execute_result"
    }
   ],
   "source": [
    "# 결측치 있는지 확인\n",
    "kospiDF.isnull().sum()"
   ]
  },
  {
   "cell_type": "code",
   "execution_count": 112,
   "id": "eb2c916a",
   "metadata": {},
   "outputs": [],
   "source": [
    "dateDF1=kospiDF['일자'].apply(lambda x : x.split('/')[:3]) # 연, 월, 일 분리 ('/' 기준)\n",
    "dateDF1=pd.DataFrame(dateDF1.tolist(),columns=('연','월','일')) # list 형태로 바꾼 걸 다시 DF로 생성"
   ]
  },
  {
   "cell_type": "code",
   "execution_count": 113,
   "id": "e8c55c99",
   "metadata": {},
   "outputs": [
    {
     "data": {
      "text/html": [
       "<div>\n",
       "<style scoped>\n",
       "    .dataframe tbody tr th:only-of-type {\n",
       "        vertical-align: middle;\n",
       "    }\n",
       "\n",
       "    .dataframe tbody tr th {\n",
       "        vertical-align: top;\n",
       "    }\n",
       "\n",
       "    .dataframe thead th {\n",
       "        text-align: right;\n",
       "    }\n",
       "</style>\n",
       "<table border=\"1\" class=\"dataframe\">\n",
       "  <thead>\n",
       "    <tr style=\"text-align: right;\">\n",
       "      <th></th>\n",
       "      <th>연</th>\n",
       "      <th>월</th>\n",
       "      <th>일</th>\n",
       "      <th>종가</th>\n",
       "    </tr>\n",
       "  </thead>\n",
       "  <tbody>\n",
       "    <tr>\n",
       "      <th>0</th>\n",
       "      <td>2022</td>\n",
       "      <td>06</td>\n",
       "      <td>30</td>\n",
       "      <td>2332.64</td>\n",
       "    </tr>\n",
       "    <tr>\n",
       "      <th>1</th>\n",
       "      <td>2022</td>\n",
       "      <td>06</td>\n",
       "      <td>29</td>\n",
       "      <td>2377.99</td>\n",
       "    </tr>\n",
       "    <tr>\n",
       "      <th>2</th>\n",
       "      <td>2022</td>\n",
       "      <td>06</td>\n",
       "      <td>28</td>\n",
       "      <td>2422.09</td>\n",
       "    </tr>\n",
       "    <tr>\n",
       "      <th>3</th>\n",
       "      <td>2022</td>\n",
       "      <td>06</td>\n",
       "      <td>27</td>\n",
       "      <td>2401.92</td>\n",
       "    </tr>\n",
       "    <tr>\n",
       "      <th>4</th>\n",
       "      <td>2022</td>\n",
       "      <td>06</td>\n",
       "      <td>24</td>\n",
       "      <td>2366.60</td>\n",
       "    </tr>\n",
       "  </tbody>\n",
       "</table>\n",
       "</div>"
      ],
      "text/plain": [
       "      연   월   일       종가\n",
       "0  2022  06  30  2332.64\n",
       "1  2022  06  29  2377.99\n",
       "2  2022  06  28  2422.09\n",
       "3  2022  06  27  2401.92\n",
       "4  2022  06  24  2366.60"
      ]
     },
     "execution_count": 113,
     "metadata": {},
     "output_type": "execute_result"
    }
   ],
   "source": [
    "# 연, 월, 일 분리한 DF에 원데이터 '종가' 컬럼 연결\n",
    "kospiDF=pd.concat([dateDF1,kospiDF['종가']],axis=1)\n",
    "kospiDF.head()"
   ]
  },
  {
   "cell_type": "code",
   "execution_count": 114,
   "id": "f9b8a9e0",
   "metadata": {
    "scrolled": true
   },
   "outputs": [
    {
     "data": {
      "text/html": [
       "<div>\n",
       "<style scoped>\n",
       "    .dataframe tbody tr th:only-of-type {\n",
       "        vertical-align: middle;\n",
       "    }\n",
       "\n",
       "    .dataframe tbody tr th {\n",
       "        vertical-align: top;\n",
       "    }\n",
       "\n",
       "    .dataframe thead th {\n",
       "        text-align: right;\n",
       "    }\n",
       "</style>\n",
       "<table border=\"1\" class=\"dataframe\">\n",
       "  <thead>\n",
       "    <tr style=\"text-align: right;\">\n",
       "      <th></th>\n",
       "      <th>연</th>\n",
       "      <th>월</th>\n",
       "      <th>일</th>\n",
       "      <th>종가</th>\n",
       "    </tr>\n",
       "  </thead>\n",
       "  <tbody>\n",
       "    <tr>\n",
       "      <th>617</th>\n",
       "      <td>2019</td>\n",
       "      <td>12</td>\n",
       "      <td>30</td>\n",
       "      <td>2197.67</td>\n",
       "    </tr>\n",
       "    <tr>\n",
       "      <th>618</th>\n",
       "      <td>2019</td>\n",
       "      <td>12</td>\n",
       "      <td>27</td>\n",
       "      <td>2204.21</td>\n",
       "    </tr>\n",
       "    <tr>\n",
       "      <th>619</th>\n",
       "      <td>2019</td>\n",
       "      <td>12</td>\n",
       "      <td>26</td>\n",
       "      <td>2197.93</td>\n",
       "    </tr>\n",
       "    <tr>\n",
       "      <th>620</th>\n",
       "      <td>2019</td>\n",
       "      <td>12</td>\n",
       "      <td>24</td>\n",
       "      <td>2190.08</td>\n",
       "    </tr>\n",
       "    <tr>\n",
       "      <th>621</th>\n",
       "      <td>2019</td>\n",
       "      <td>12</td>\n",
       "      <td>23</td>\n",
       "      <td>2203.71</td>\n",
       "    </tr>\n",
       "  </tbody>\n",
       "</table>\n",
       "</div>"
      ],
      "text/plain": [
       "        연   월   일       종가\n",
       "617  2019  12  30  2197.67\n",
       "618  2019  12  27  2204.21\n",
       "619  2019  12  26  2197.93\n",
       "620  2019  12  24  2190.08\n",
       "621  2019  12  23  2203.71"
      ]
     },
     "execution_count": 114,
     "metadata": {},
     "output_type": "execute_result"
    }
   ],
   "source": [
    "# 2019년 데이터\n",
    "kospiDF_2019=kospiDF[kospiDF.연=='2019']\n",
    "# 2020년 데이터\n",
    "kospiDF_2020=kospiDF[kospiDF.연=='2020']\n",
    "# 2021년 데이터\n",
    "kospiDF_2021=kospiDF[kospiDF.연=='2021']\n",
    "# 2022년 데이터\n",
    "kospiDF_2022=kospiDF[kospiDF.연=='2022']\n",
    "kospiDF_2019.head()"
   ]
  },
  {
   "cell_type": "code",
   "execution_count": 115,
   "id": "3fcf3b49",
   "metadata": {},
   "outputs": [],
   "source": [
    "# 년도-월마다 평균\n",
    "kospiDF_2019_mean=kospiDF_2019.groupby(by=['월']).mean()\n",
    "kospiDF_2020_mean=kospiDF_2020.groupby(by=['월']).mean()\n",
    "kospiDF_2021_mean=kospiDF_2021.groupby(by=['월']).mean()\n",
    "kospiDF_2022_mean=kospiDF_2022.groupby(by=['월']).mean()"
   ]
  },
  {
   "cell_type": "code",
   "execution_count": 116,
   "id": "2cce3628",
   "metadata": {},
   "outputs": [],
   "source": [
    "# 코스피, 코스닥 둘 다 연도 붙여서 쓰려고 함수 만듦\n",
    "def stock_year_mean(data,year):\n",
    "    data['연']=year\n",
    "    data=data.reset_index()\n",
    "    data['날짜']=data.apply(lambda x:str(x['연'])+'-'+x['월'],axis=1)\n",
    "    data=data.set_index('날짜')['종가']\n",
    "    return data"
   ]
  },
  {
   "cell_type": "code",
   "execution_count": 117,
   "id": "a7fcf81a",
   "metadata": {},
   "outputs": [],
   "source": [
    "kospiDF_2019_mean=stock_year_mean(kospiDF_2019_mean,2019)\n",
    "kospiDF_2020_mean=stock_year_mean(kospiDF_2020_mean,2020)\n",
    "kospiDF_2021_mean=stock_year_mean(kospiDF_2021_mean,2021)\n",
    "kospiDF_2022_mean=stock_year_mean(kospiDF_2022_mean,2022)"
   ]
  },
  {
   "cell_type": "code",
   "execution_count": 118,
   "id": "ebc444da",
   "metadata": {
    "scrolled": true
   },
   "outputs": [
    {
     "data": {
      "text/plain": [
       "날짜\n",
       "2019-01    2101.984091\n",
       "2019-02    2210.198824\n",
       "2019-03    2161.914500\n",
       "2019-04    2212.120455\n",
       "2019-05    2086.898095\n",
       "Name: 종가, dtype: float64"
      ]
     },
     "execution_count": 118,
     "metadata": {},
     "output_type": "execute_result"
    }
   ],
   "source": [
    "kospiDF_total_mean=pd.concat([kospiDF_2019_mean,kospiDF_2020_mean,kospiDF_2021_mean,kospiDF_2022_mean])\n",
    "kospiDF_total_mean.head()"
   ]
  },
  {
   "cell_type": "code",
   "execution_count": 172,
   "id": "355d690d",
   "metadata": {},
   "outputs": [],
   "source": [
    "# # 코스피 그래프\n",
    "# draw_graph(kospiDF_total_mean,'KOSPI')"
   ]
  },
  {
   "cell_type": "markdown",
   "id": "ced37841",
   "metadata": {},
   "source": [
    "## 3. KOSDAQ 데이터 2019~2022 전처리"
   ]
  },
  {
   "cell_type": "code",
   "execution_count": 119,
   "id": "015eaf11",
   "metadata": {},
   "outputs": [
    {
     "data": {
      "text/html": [
       "<div>\n",
       "<style scoped>\n",
       "    .dataframe tbody tr th:only-of-type {\n",
       "        vertical-align: middle;\n",
       "    }\n",
       "\n",
       "    .dataframe tbody tr th {\n",
       "        vertical-align: top;\n",
       "    }\n",
       "\n",
       "    .dataframe thead th {\n",
       "        text-align: right;\n",
       "    }\n",
       "</style>\n",
       "<table border=\"1\" class=\"dataframe\">\n",
       "  <thead>\n",
       "    <tr style=\"text-align: right;\">\n",
       "      <th></th>\n",
       "      <th>일자</th>\n",
       "      <th>종가</th>\n",
       "      <th>대비</th>\n",
       "      <th>등락률</th>\n",
       "      <th>시가</th>\n",
       "      <th>고가</th>\n",
       "      <th>저가</th>\n",
       "      <th>거래량</th>\n",
       "      <th>거래대금</th>\n",
       "      <th>상장시가총액</th>\n",
       "    </tr>\n",
       "  </thead>\n",
       "  <tbody>\n",
       "    <tr>\n",
       "      <th>0</th>\n",
       "      <td>2022/06/30</td>\n",
       "      <td>745.44</td>\n",
       "      <td>-16.91</td>\n",
       "      <td>-2.22</td>\n",
       "      <td>762.45</td>\n",
       "      <td>762.45</td>\n",
       "      <td>744.24</td>\n",
       "      <td>910029.0</td>\n",
       "      <td>6318523.0</td>\n",
       "      <td>325164482.0</td>\n",
       "    </tr>\n",
       "    <tr>\n",
       "      <th>1</th>\n",
       "      <td>2022/06/29</td>\n",
       "      <td>762.35</td>\n",
       "      <td>-7.16</td>\n",
       "      <td>-0.93</td>\n",
       "      <td>759.21</td>\n",
       "      <td>765.79</td>\n",
       "      <td>753.32</td>\n",
       "      <td>819568.0</td>\n",
       "      <td>5970952.0</td>\n",
       "      <td>331666597.0</td>\n",
       "    </tr>\n",
       "    <tr>\n",
       "      <th>2</th>\n",
       "      <td>2022/06/28</td>\n",
       "      <td>769.51</td>\n",
       "      <td>-1.09</td>\n",
       "      <td>-0.14</td>\n",
       "      <td>770.69</td>\n",
       "      <td>774.80</td>\n",
       "      <td>759.83</td>\n",
       "      <td>978287.0</td>\n",
       "      <td>6455444.0</td>\n",
       "      <td>334683635.0</td>\n",
       "    </tr>\n",
       "    <tr>\n",
       "      <th>3</th>\n",
       "      <td>2022/06/27</td>\n",
       "      <td>770.60</td>\n",
       "      <td>20.30</td>\n",
       "      <td>2.71</td>\n",
       "      <td>758.00</td>\n",
       "      <td>774.57</td>\n",
       "      <td>754.62</td>\n",
       "      <td>893324.0</td>\n",
       "      <td>6699471.0</td>\n",
       "      <td>334545525.0</td>\n",
       "    </tr>\n",
       "    <tr>\n",
       "      <th>4</th>\n",
       "      <td>2022/06/24</td>\n",
       "      <td>750.30</td>\n",
       "      <td>35.92</td>\n",
       "      <td>5.03</td>\n",
       "      <td>719.47</td>\n",
       "      <td>750.41</td>\n",
       "      <td>719.47</td>\n",
       "      <td>837119.0</td>\n",
       "      <td>6287370.0</td>\n",
       "      <td>334693540.0</td>\n",
       "    </tr>\n",
       "  </tbody>\n",
       "</table>\n",
       "</div>"
      ],
      "text/plain": [
       "           일자      종가     대비   등락률      시가      고가      저가       거래량  \\\n",
       "0  2022/06/30  745.44 -16.91 -2.22  762.45  762.45  744.24  910029.0   \n",
       "1  2022/06/29  762.35  -7.16 -0.93  759.21  765.79  753.32  819568.0   \n",
       "2  2022/06/28  769.51  -1.09 -0.14  770.69  774.80  759.83  978287.0   \n",
       "3  2022/06/27  770.60  20.30  2.71  758.00  774.57  754.62  893324.0   \n",
       "4  2022/06/24  750.30  35.92  5.03  719.47  750.41  719.47  837119.0   \n",
       "\n",
       "        거래대금       상장시가총액  \n",
       "0  6318523.0  325164482.0  \n",
       "1  5970952.0  331666597.0  \n",
       "2  6455444.0  334683635.0  \n",
       "3  6699471.0  334545525.0  \n",
       "4  6287370.0  334693540.0  "
      ]
     },
     "execution_count": 119,
     "metadata": {},
     "output_type": "execute_result"
    }
   ],
   "source": [
    "kosdaqDF=pd.read_csv('KOSDAQ2019~2022.csv',encoding='euc_kr')\n",
    "kosdaqDF.head()"
   ]
  },
  {
   "cell_type": "code",
   "execution_count": 120,
   "id": "0c766109",
   "metadata": {},
   "outputs": [
    {
     "data": {
      "text/plain": [
       "일자        0\n",
       "종가        0\n",
       "대비        0\n",
       "등락률       0\n",
       "시가        0\n",
       "고가        0\n",
       "저가        0\n",
       "거래량       0\n",
       "거래대금      0\n",
       "상장시가총액    0\n",
       "dtype: int64"
      ]
     },
     "execution_count": 120,
     "metadata": {},
     "output_type": "execute_result"
    }
   ],
   "source": [
    "# 결측치 있는지 확인\n",
    "kosdaqDF.isnull().sum()"
   ]
  },
  {
   "cell_type": "code",
   "execution_count": 121,
   "id": "f2bf9387",
   "metadata": {},
   "outputs": [],
   "source": [
    "dateDF2=kosdaqDF['일자'].apply(lambda x : x.split('/')[:3]) # 연, 월, 일 분리 ('/' 기준)\n",
    "dateDF2=pd.DataFrame(dateDF2.tolist(),columns=('연','월','일')) # list 형태로 바꾼 걸 다시 DF로 생성"
   ]
  },
  {
   "cell_type": "code",
   "execution_count": 122,
   "id": "900521e0",
   "metadata": {},
   "outputs": [
    {
     "data": {
      "text/html": [
       "<div>\n",
       "<style scoped>\n",
       "    .dataframe tbody tr th:only-of-type {\n",
       "        vertical-align: middle;\n",
       "    }\n",
       "\n",
       "    .dataframe tbody tr th {\n",
       "        vertical-align: top;\n",
       "    }\n",
       "\n",
       "    .dataframe thead th {\n",
       "        text-align: right;\n",
       "    }\n",
       "</style>\n",
       "<table border=\"1\" class=\"dataframe\">\n",
       "  <thead>\n",
       "    <tr style=\"text-align: right;\">\n",
       "      <th></th>\n",
       "      <th>연</th>\n",
       "      <th>월</th>\n",
       "      <th>일</th>\n",
       "      <th>종가</th>\n",
       "    </tr>\n",
       "  </thead>\n",
       "  <tbody>\n",
       "    <tr>\n",
       "      <th>0</th>\n",
       "      <td>2022</td>\n",
       "      <td>06</td>\n",
       "      <td>30</td>\n",
       "      <td>745.44</td>\n",
       "    </tr>\n",
       "    <tr>\n",
       "      <th>1</th>\n",
       "      <td>2022</td>\n",
       "      <td>06</td>\n",
       "      <td>29</td>\n",
       "      <td>762.35</td>\n",
       "    </tr>\n",
       "    <tr>\n",
       "      <th>2</th>\n",
       "      <td>2022</td>\n",
       "      <td>06</td>\n",
       "      <td>28</td>\n",
       "      <td>769.51</td>\n",
       "    </tr>\n",
       "    <tr>\n",
       "      <th>3</th>\n",
       "      <td>2022</td>\n",
       "      <td>06</td>\n",
       "      <td>27</td>\n",
       "      <td>770.60</td>\n",
       "    </tr>\n",
       "    <tr>\n",
       "      <th>4</th>\n",
       "      <td>2022</td>\n",
       "      <td>06</td>\n",
       "      <td>24</td>\n",
       "      <td>750.30</td>\n",
       "    </tr>\n",
       "  </tbody>\n",
       "</table>\n",
       "</div>"
      ],
      "text/plain": [
       "      연   월   일      종가\n",
       "0  2022  06  30  745.44\n",
       "1  2022  06  29  762.35\n",
       "2  2022  06  28  769.51\n",
       "3  2022  06  27  770.60\n",
       "4  2022  06  24  750.30"
      ]
     },
     "execution_count": 122,
     "metadata": {},
     "output_type": "execute_result"
    }
   ],
   "source": [
    "# 연, 월, 일 분리한 DF에 원데이터 '종가' 컬럼 연결\n",
    "kosdaqDF=pd.concat([dateDF2,kosdaqDF['종가']],axis=1)\n",
    "kosdaqDF.head()"
   ]
  },
  {
   "cell_type": "code",
   "execution_count": 123,
   "id": "76d9cc64",
   "metadata": {},
   "outputs": [
    {
     "data": {
      "text/html": [
       "<div>\n",
       "<style scoped>\n",
       "    .dataframe tbody tr th:only-of-type {\n",
       "        vertical-align: middle;\n",
       "    }\n",
       "\n",
       "    .dataframe tbody tr th {\n",
       "        vertical-align: top;\n",
       "    }\n",
       "\n",
       "    .dataframe thead th {\n",
       "        text-align: right;\n",
       "    }\n",
       "</style>\n",
       "<table border=\"1\" class=\"dataframe\">\n",
       "  <thead>\n",
       "    <tr style=\"text-align: right;\">\n",
       "      <th></th>\n",
       "      <th>연</th>\n",
       "      <th>월</th>\n",
       "      <th>일</th>\n",
       "      <th>종가</th>\n",
       "    </tr>\n",
       "  </thead>\n",
       "  <tbody>\n",
       "    <tr>\n",
       "      <th>617</th>\n",
       "      <td>2019</td>\n",
       "      <td>12</td>\n",
       "      <td>30</td>\n",
       "      <td>669.83</td>\n",
       "    </tr>\n",
       "    <tr>\n",
       "      <th>618</th>\n",
       "      <td>2019</td>\n",
       "      <td>12</td>\n",
       "      <td>27</td>\n",
       "      <td>661.24</td>\n",
       "    </tr>\n",
       "    <tr>\n",
       "      <th>619</th>\n",
       "      <td>2019</td>\n",
       "      <td>12</td>\n",
       "      <td>26</td>\n",
       "      <td>652.07</td>\n",
       "    </tr>\n",
       "    <tr>\n",
       "      <th>620</th>\n",
       "      <td>2019</td>\n",
       "      <td>12</td>\n",
       "      <td>24</td>\n",
       "      <td>638.91</td>\n",
       "    </tr>\n",
       "    <tr>\n",
       "      <th>621</th>\n",
       "      <td>2019</td>\n",
       "      <td>12</td>\n",
       "      <td>23</td>\n",
       "      <td>647.62</td>\n",
       "    </tr>\n",
       "  </tbody>\n",
       "</table>\n",
       "</div>"
      ],
      "text/plain": [
       "        연   월   일      종가\n",
       "617  2019  12  30  669.83\n",
       "618  2019  12  27  661.24\n",
       "619  2019  12  26  652.07\n",
       "620  2019  12  24  638.91\n",
       "621  2019  12  23  647.62"
      ]
     },
     "execution_count": 123,
     "metadata": {},
     "output_type": "execute_result"
    }
   ],
   "source": [
    "# 2019년 데이터\n",
    "kosdaqDF_2019=kosdaqDF[kosdaqDF.연=='2019']\n",
    "# 2020년 데이터\n",
    "kosdaqDF_2020=kosdaqDF[kosdaqDF.연=='2020']\n",
    "# 2021년 데이터\n",
    "kosdaqDF_2021=kosdaqDF[kosdaqDF.연=='2021']\n",
    "# 2022년 데이터\n",
    "kosdaqDF_2022=kosdaqDF[kosdaqDF.연=='2022']\n",
    "kosdaqDF_2019.head()"
   ]
  },
  {
   "cell_type": "code",
   "execution_count": 124,
   "id": "99119732",
   "metadata": {
    "scrolled": false
   },
   "outputs": [
    {
     "data": {
      "text/html": [
       "<div>\n",
       "<style scoped>\n",
       "    .dataframe tbody tr th:only-of-type {\n",
       "        vertical-align: middle;\n",
       "    }\n",
       "\n",
       "    .dataframe tbody tr th {\n",
       "        vertical-align: top;\n",
       "    }\n",
       "\n",
       "    .dataframe thead th {\n",
       "        text-align: right;\n",
       "    }\n",
       "</style>\n",
       "<table border=\"1\" class=\"dataframe\">\n",
       "  <thead>\n",
       "    <tr style=\"text-align: right;\">\n",
       "      <th></th>\n",
       "      <th>종가</th>\n",
       "    </tr>\n",
       "    <tr>\n",
       "      <th>월</th>\n",
       "      <th></th>\n",
       "    </tr>\n",
       "  </thead>\n",
       "  <tbody>\n",
       "    <tr>\n",
       "      <th>01</th>\n",
       "      <td>690.462273</td>\n",
       "    </tr>\n",
       "    <tr>\n",
       "      <th>02</th>\n",
       "      <td>739.707059</td>\n",
       "    </tr>\n",
       "    <tr>\n",
       "      <th>03</th>\n",
       "      <td>742.441500</td>\n",
       "    </tr>\n",
       "    <tr>\n",
       "      <th>04</th>\n",
       "      <td>755.680000</td>\n",
       "    </tr>\n",
       "    <tr>\n",
       "      <th>05</th>\n",
       "      <td>715.130952</td>\n",
       "    </tr>\n",
       "  </tbody>\n",
       "</table>\n",
       "</div>"
      ],
      "text/plain": [
       "            종가\n",
       "월             \n",
       "01  690.462273\n",
       "02  739.707059\n",
       "03  742.441500\n",
       "04  755.680000\n",
       "05  715.130952"
      ]
     },
     "execution_count": 124,
     "metadata": {},
     "output_type": "execute_result"
    }
   ],
   "source": [
    "# 년도-월마다 평균\n",
    "kosdaqDF_2019_mean=kosdaqDF_2019.groupby(by=['월']).mean()\n",
    "kosdaqDF_2020_mean=kosdaqDF_2020.groupby(by=['월']).mean()\n",
    "kosdaqDF_2021_mean=kosdaqDF_2021.groupby(by=['월']).mean()\n",
    "kosdaqDF_2022_mean=kosdaqDF_2022.groupby(by=['월']).mean()\n",
    "kosdaqDF_2019_mean.head()"
   ]
  },
  {
   "cell_type": "code",
   "execution_count": 125,
   "id": "b728e6e7",
   "metadata": {},
   "outputs": [],
   "source": [
    "kosdaqDF_2019_mean=stock_year_mean(kosdaqDF_2019_mean,2019)\n",
    "kosdaqDF_2020_mean=stock_year_mean(kosdaqDF_2020_mean,2020)\n",
    "kosdaqDF_2021_mean=stock_year_mean(kosdaqDF_2021_mean,2021)\n",
    "kosdaqDF_2022_mean=stock_year_mean(kosdaqDF_2022_mean,2022)"
   ]
  },
  {
   "cell_type": "code",
   "execution_count": 126,
   "id": "24246a73",
   "metadata": {
    "scrolled": true
   },
   "outputs": [
    {
     "data": {
      "text/plain": [
       "날짜\n",
       "2019-01    690.462273\n",
       "2019-02    739.707059\n",
       "2019-03    742.441500\n",
       "2019-04    755.680000\n",
       "2019-05    715.130952\n",
       "Name: 종가, dtype: float64"
      ]
     },
     "execution_count": 126,
     "metadata": {},
     "output_type": "execute_result"
    }
   ],
   "source": [
    "kosdaqDF_total_mean=pd.concat([kosdaqDF_2019_mean,kosdaqDF_2020_mean,kosdaqDF_2021_mean,kosdaqDF_2022_mean])\n",
    "kosdaqDF_total_mean.head()"
   ]
  },
  {
   "cell_type": "code",
   "execution_count": 173,
   "id": "e7e50030",
   "metadata": {},
   "outputs": [],
   "source": [
    "# # 코스닥 그래프\n",
    "# draw_graph(kosdaqDF_total_mean,'KOSDAQ')"
   ]
  },
  {
   "cell_type": "markdown",
   "id": "bf735521",
   "metadata": {},
   "source": [
    "## 3. 미국 금리와 KOSPI&KOSDAQ 그래프 그리기"
   ]
  },
  {
   "cell_type": "code",
   "execution_count": 237,
   "id": "a3bdc379",
   "metadata": {},
   "outputs": [],
   "source": [
    "# 두 DF 비교 그래프 함수\n",
    "def compare_draw_graph(data1,data2,name1,name2):    \n",
    "    if(platform.system()=='Windows'):\n",
    "        plt.rc('font',family='Malgun Gothic')\n",
    "    else:\n",
    "        plt.rc('font',family='AppleGothic')       \n",
    "    plt.rcParams['axes.unicode_minus']=False\n",
    "    plt.figure(figsize=(20,10))\n",
    "    plt.title('2019~2022년 {}와 {} 지수 비교'.format(name1,name2),size=20)\n",
    "    plt.plot(data1,label='금리',color='tomato',marker='o')\n",
    "    if name1=='미국 금리': plt.ylabel('금리',size=15)# 왼쪽 Y축 이름\n",
    "    else:\n",
    "        plt.annotate('<= 2020년 3월 급격한 하락',xy=(14.5,1800),rotation=20,fontsize=16)\n",
    "        plt.ylabel('종가',size=15)# 왼쪽 Y축 이름\n",
    "    plt.xlabel('기간',size=15)\n",
    "    plt.legend(loc=2)\n",
    "    plt.xticks(data1.index,rotation=60,size=12)\n",
    "    y_right=plt.twinx()\n",
    "    y_right.plot(data2,label='종가',color='royalblue',marker='s')\n",
    "    plt.ylabel('종가',size=15)# 오른쪽 Y축 이름\n",
    "    y_right.legend(loc=1)\n",
    "    plt.show()"
   ]
  },
  {
   "cell_type": "code",
   "execution_count": 238,
   "id": "2b6c3c59",
   "metadata": {},
   "outputs": [
    {
     "data": {
      "image/png": "[encoded data removed]",
      "text/plain": [
       "<Figure size 1440x720 with 2 Axes>"
      ]
     },
     "metadata": {
      "needs_background": "light"
     },
     "output_type": "display_data"
    }
   ],
   "source": [
    "compare_draw_graph(kospiDF_total_mean,kosdaqDF_total_mean,'코스피','코스닥')"
   ]
  },
  {
   "cell_type": "code",
   "execution_count": 184,
   "id": "75753eee",
   "metadata": {},
   "outputs": [
    {
     "data": {
      "image/png": "[encoded data removed]",
      "text/plain": [
       "<Figure size 1440x720 with 2 Axes>"
      ]
     },
     "metadata": {
      "needs_background": "light"
     },
     "output_type": "display_data"
    }
   ],
   "source": [
    "compare_draw_graph(amDF_total,kospiDF_total_mean,'미국 금리','코스피')"
   ]
  },
  {
   "cell_type": "code",
   "execution_count": 185,
   "id": "0be1076a",
   "metadata": {},
   "outputs": [
    {
     "data": {
      "image/png": "[encoded data removed]",
      "text/plain": [
       "<Figure size 1440x720 with 2 Axes>"
      ]
     },
     "metadata": {
      "needs_background": "light"
     },
     "output_type": "display_data"
    }
   ],
   "source": [
    "compare_draw_graph(amDF_total,kosdaqDF_total_mean,'미국 금리','코스닥')"
   ]
  },
  {
   "cell_type": "code",
   "execution_count": null,
   "id": "2e706250",
   "metadata": {},
   "outputs": [],
   "source": []
  }
 ],
 "metadata": {
  "kernelspec": {
   "display_name": "Python 3 (ipykernel)",
   "language": "python",
   "name": "python3"
  },
  "language_info": {
   "codemirror_mode": {
    "name": "ipython",
    "version": 3
   },
   "file_extension": ".py",
   "mimetype": "text/x-python",
   "name": "python",
   "nbconvert_exporter": "python",
   "pygments_lexer": "ipython3",
   "version": "3.9.12"
  }
 },
 "nbformat": 4,
 "nbformat_minor": 5
}
