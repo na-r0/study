{
 "cells": [
  {
   "cell_type": "markdown",
   "metadata": {},
   "source": [
    "## 언어 분류"
   ]
  },
  {
   "cell_type": "markdown",
   "metadata": {},
   "source": [
    "목    적 => 알파벳(a~z)을 사용하는 언어 식별  \n",
    "데 이 터 => 알파벳 사용하는 4개국의 텍스트 파일  \n",
    "전제조건 => 나라별 자주 사용되는 알파벳이 다름!  "
   ]
  },
  {
   "cell_type": "code",
   "execution_count": 79,
   "metadata": {},
   "outputs": [],
   "source": [
    "# 모듈 로딩\n",
    "from sklearn.model_selection import cross_validate\n",
    "from sklearn.linear_model import LogisticRegression\n",
    "import pandas as pd"
   ]
  },
  {
   "cell_type": "code",
   "execution_count": 80,
   "metadata": {},
   "outputs": [],
   "source": [
    "import warnings\n",
    "\n",
    "warnings.filterwarnings(action='ignore')"
   ]
  },
  {
   "cell_type": "markdown",
   "metadata": {},
   "source": [
    "(1) 전처리\n",
    "- 나라별 알파벳 패턴 분석"
   ]
  },
  {
   "cell_type": "code",
   "execution_count": 81,
   "metadata": {},
   "outputs": [],
   "source": [
    "# a-z 카운팅 함수\n",
    "def countAlpabet(type):\n",
    "    country = ['en','fr','id','tl']\n",
    "    alphabet = 'abcdefghijklmnopqrstuvwxyz'\n",
    "    check_list = []\n",
    "    labels = []\n",
    "    j = 1\n",
    "\n",
    "    for c in country:\n",
    "        if type == 'train':\n",
    "            for _ in range(1,6):\n",
    "                file = open('./lang/{}/{}-{}.txt'.format(type, c,j), 'r', encoding='utf-8')\n",
    "                data = file.read().lower()\n",
    "                count = [0] * 26\n",
    "\n",
    "                for a in data:\n",
    "                    if a in alphabet:\n",
    "                        i = alphabet.find(a)\n",
    "                        count[i] += 1\n",
    "                check_list.append(count)\n",
    "                labels.append(c)\n",
    "                j +=1\n",
    "        \n",
    "        elif type == 'test':\n",
    "            for _ in range(1,3):\n",
    "                file = open('./lang/{}/{}-{}.txt'.format(type, c,j), 'r', encoding='utf-8')\n",
    "                data = file.read().lower()\n",
    "                count = [0] * 26\n",
    "\n",
    "                for a in data:\n",
    "                    if a in alphabet:\n",
    "                        i = alphabet.find(a)\n",
    "                        count[i] += 1\n",
    "                check_list.append(count)\n",
    "                labels.append(c)\n",
    "                j +=1\n",
    "                    \n",
    "        file.close()\n",
    "        df = pd.DataFrame(check_list, columns=['a', 'b', 'c', 'd', 'e', 'f', 'g', 'h', 'i', 'j', 'k', 'l', 'm', 'n', 'o', 'p', 'q', 'r', 's', 't', 'u', 'v', 'w', 'x', 'y', 'z'])\n",
    "        df['label'] = labels\n",
    "        df.to_csv('alphabet_{}.csv'.format(type))\n",
    "\n",
    "countAlpabet('train')\n",
    "countAlpabet('test')"
   ]
  },
  {
   "cell_type": "code",
   "execution_count": 82,
   "metadata": {},
   "outputs": [],
   "source": [
    "train_input = pd.read_csv('./alphabet_train.csv')\n",
    "test_input = pd.read_csv('./alphabet_test.csv')"
   ]
  },
  {
   "cell_type": "code",
   "execution_count": 83,
   "metadata": {},
   "outputs": [],
   "source": [
    "train_X = train_input.iloc[:,1:27]\n",
    "test_X = test_input.iloc[:,1:27]\n",
    "train_y = train_input.iloc[:,27:28]\n",
    "test_y = test_input.iloc[:,27:28]"
   ]
  },
  {
   "cell_type": "code",
   "execution_count": 84,
   "metadata": {},
   "outputs": [],
   "source": [
    "# 비율 맞춰 줌\n",
    "for i in range(20):\n",
    "    train_X.iloc[i] = train_X.iloc[i]/sum(train_X.iloc[i])\n",
    "for i in range(8):\n",
    "    test_X.iloc[i] = test_X.iloc[i]/sum(test_X.iloc[i])"
   ]
  },
  {
   "cell_type": "markdown",
   "metadata": {},
   "source": [
    "(2) 학습\n",
    "- 교차 검증"
   ]
  },
  {
   "cell_type": "code",
   "execution_count": 192,
   "metadata": {},
   "outputs": [],
   "source": [
    "# 모델 객체 생성\n",
    "model = LogisticRegression(max_iter=5)"
   ]
  },
  {
   "cell_type": "code",
   "execution_count": 193,
   "metadata": {},
   "outputs": [],
   "source": [
    "# 기본: 5-Fold 학습/검증 모델 생성 진행\n",
    "result = cross_validate(model, train_X, train_y, return_train_score=True)"
   ]
  },
  {
   "cell_type": "code",
   "execution_count": 194,
   "metadata": {},
   "outputs": [
    {
     "data": {
      "text/plain": [
       "{'fit_time': array([0.0089767 , 0.00697994, 0.00598216, 0.00698161, 0.00598431]),\n",
       " 'score_time': array([0.00299215, 0.00299668, 0.00099778, 0.00199437, 0.00299358]),\n",
       " 'test_score': array([1.  , 0.75, 0.75, 0.75, 0.75]),\n",
       " 'train_score': array([0.8125, 0.8125, 0.8125, 0.875 , 0.8125])}"
      ]
     },
     "execution_count": 194,
     "metadata": {},
     "output_type": "execute_result"
    }
   ],
   "source": [
    "result"
   ]
  },
  {
   "cell_type": "code",
   "execution_count": 195,
   "metadata": {},
   "outputs": [
    {
     "name": "stdout",
     "output_type": "stream",
     "text": [
      "train score: 0.825, test score: 0.8\n"
     ]
    }
   ],
   "source": [
    "print('train score: {}, test score: {}'.format(result['train_score'].mean(), result['test_score'].mean()))"
   ]
  },
  {
   "cell_type": "markdown",
   "metadata": {},
   "source": [
    "- 로지스틱 회귀"
   ]
  },
  {
   "cell_type": "code",
   "execution_count": 168,
   "metadata": {},
   "outputs": [],
   "source": [
    "# 모델 객체 생성\n",
    "model = LogisticRegression(max_iter=2)"
   ]
  },
  {
   "cell_type": "code",
   "execution_count": 169,
   "metadata": {},
   "outputs": [
    {
     "data": {
      "text/plain": [
       "LogisticRegression(max_iter=2)"
      ]
     },
     "execution_count": 169,
     "metadata": {},
     "output_type": "execute_result"
    }
   ],
   "source": [
    "model.fit(train_X, train_y)"
   ]
  },
  {
   "cell_type": "code",
   "execution_count": 170,
   "metadata": {},
   "outputs": [
    {
     "name": "stdout",
     "output_type": "stream",
     "text": [
      "train score: 0.85, test score: 0.875\n"
     ]
    }
   ],
   "source": [
    "print('train score: {}, test score: {}'.format(model.score(train_X, train_y), model.score(test_X, test_y)))"
   ]
  },
  {
   "cell_type": "code",
   "execution_count": 191,
   "metadata": {},
   "outputs": [
    {
     "data": {
      "text/plain": [
       "array(['en', 'en', 'fr', 'fr', 'en', 'id', 'tl', 'tl'], dtype=object)"
      ]
     },
     "execution_count": 191,
     "metadata": {},
     "output_type": "execute_result"
    }
   ],
   "source": [
    "y_pred = model.predict(test_X)\n",
    "y_pred"
   ]
  },
  {
   "cell_type": "code",
   "execution_count": 172,
   "metadata": {},
   "outputs": [],
   "source": [
    "from sklearn.metrics import accuracy_score, confusion_matrix, classification_report\n",
    "ac = accuracy_score(test_y, y_pred)\n",
    "cm = confusion_matrix(test_y, y_pred)"
   ]
  },
  {
   "cell_type": "code",
   "execution_count": 173,
   "metadata": {},
   "outputs": [
    {
     "data": {
      "image/png": "[encoded data removed]",
      "text/plain": [
       "<Figure size 576x360 with 2 Axes>"
      ]
     },
     "metadata": {
      "needs_background": "light"
     },
     "output_type": "display_data"
    }
   ],
   "source": [
    "import matplotlib.pyplot as plt\n",
    "import seaborn as sns\n",
    "\n",
    "plt.figure(figsize=(8,5))\n",
    "sns.heatmap(cm, annot = True)\n",
    "plt.show()"
   ]
  },
  {
   "cell_type": "markdown",
   "metadata": {},
   "source": [
    "- 랜덤포레스트"
   ]
  },
  {
   "cell_type": "code",
   "execution_count": 174,
   "metadata": {},
   "outputs": [],
   "source": [
    "from sklearn.ensemble import RandomForestClassifier"
   ]
  },
  {
   "cell_type": "code",
   "execution_count": 187,
   "metadata": {},
   "outputs": [],
   "source": [
    "forestModel = RandomForestClassifier(max_depth=5)"
   ]
  },
  {
   "cell_type": "code",
   "execution_count": 188,
   "metadata": {},
   "outputs": [
    {
     "data": {
      "text/plain": [
       "RandomForestClassifier(max_depth=5)"
      ]
     },
     "execution_count": 188,
     "metadata": {},
     "output_type": "execute_result"
    }
   ],
   "source": [
    "forestModel.fit(train_X, train_y)"
   ]
  },
  {
   "cell_type": "code",
   "execution_count": 189,
   "metadata": {},
   "outputs": [
    {
     "name": "stdout",
     "output_type": "stream",
     "text": [
      "classes_: ['en' 'fr' 'id' 'tl']\n"
     ]
    }
   ],
   "source": [
    "# 모델 학습 후 속성\n",
    "print('classes_: {}'.format(forestModel.classes_))"
   ]
  },
  {
   "cell_type": "code",
   "execution_count": 190,
   "metadata": {},
   "outputs": [
    {
     "name": "stdout",
     "output_type": "stream",
     "text": [
      "train score: 1.0, test score: 1.0\n"
     ]
    }
   ],
   "source": [
    "print('train score: {}, test score: {}'.format(forestModel.score(train_X, train_y), forestModel.score(test_X, test_y)))"
   ]
  },
  {
   "cell_type": "code",
   "execution_count": 197,
   "metadata": {},
   "outputs": [
    {
     "data": {
      "text/plain": [
       "array(['en', 'en', 'fr', 'fr', 'id', 'id', 'tl', 'tl'], dtype=object)"
      ]
     },
     "execution_count": 197,
     "metadata": {},
     "output_type": "execute_result"
    }
   ],
   "source": [
    "y_pred = forestModel.predict(test_X)\n",
    "y_pred"
   ]
  },
  {
   "cell_type": "markdown",
   "metadata": {},
   "source": [
    "- all_estimators() 확인"
   ]
  },
  {
   "cell_type": "code",
   "execution_count": 100,
   "metadata": {},
   "outputs": [],
   "source": [
    "from sklearn.utils import all_estimators\n",
    "import numpy as np"
   ]
  },
  {
   "cell_type": "code",
   "execution_count": 101,
   "metadata": {},
   "outputs": [],
   "source": [
    "# 필터 타입에 해당하는 sklearn에 존재하는 모든 모델 이름과 객체 리스트로 반환\n",
    "models = all_estimators(type_filter='classifier')"
   ]
  },
  {
   "cell_type": "code",
   "execution_count": 102,
   "metadata": {},
   "outputs": [],
   "source": [
    "scores = []\n",
    "names = []\n",
    "\n",
    "for name, model in models:\n",
    "    try:\n",
    "        # 모델 객체 생성\n",
    "        md = model()\n",
    "        # 학습\n",
    "        md.fit(train_X, train_y)\n",
    "        # 평가\n",
    "        result = md.score(test_X, test_y)\n",
    "        names.append(name)\n",
    "        scores.append((name, np.round(result,3)))\n",
    "    except:\n",
    "        pass"
   ]
  },
  {
   "cell_type": "code",
   "execution_count": 201,
   "metadata": {},
   "outputs": [
    {
     "data": {
      "text/plain": [
       "[('AdaBoostClassifier', 0.625),\n",
       " ('BaggingClassifier', 0.75),\n",
       " ('BernoulliNB', 0.25),\n",
       " ('CalibratedClassifierCV', 0.875),\n",
       " ('CategoricalNB', 0.25),\n",
       " ('ComplementNB', 0.5),\n",
       " ('DecisionTreeClassifier', 0.625),\n",
       " ('DummyClassifier', 0.25),\n",
       " ('ExtraTreeClassifier', 0.875),\n",
       " ('ExtraTreesClassifier', 1.0),\n",
       " ('GaussianNB', 0.75),\n",
       " ('GaussianProcessClassifier', 0.75),\n",
       " ('GradientBoostingClassifier', 1.0),\n",
       " ('HistGradientBoostingClassifier', 0.25),\n",
       " ('KNeighborsClassifier', 0.75),\n",
       " ('LabelPropagation', 1.0),\n",
       " ('LabelSpreading', 1.0),\n",
       " ('LinearDiscriminantAnalysis', 0.875),\n",
       " ('LinearSVC', 0.75),\n",
       " ('LogisticRegression', 0.75),\n",
       " ('LogisticRegressionCV', 1.0),\n",
       " ('MLPClassifier', 1.0),\n",
       " ('MultinomialNB', 0.625),\n",
       " ('NearestCentroid', 1.0),\n",
       " ('NuSVC', 1.0),\n",
       " ('PassiveAggressiveClassifier', 0.5),\n",
       " ('Perceptron', 0.5),\n",
       " ('QuadraticDiscriminantAnalysis', 0.25),\n",
       " ('RadiusNeighborsClassifier', 0.25),\n",
       " ('RandomForestClassifier', 1.0),\n",
       " ('RidgeClassifier', 0.75),\n",
       " ('RidgeClassifierCV', 0.875),\n",
       " ('SGDClassifier', 0.25),\n",
       " ('SVC', 1.0)]"
      ]
     },
     "execution_count": 201,
     "metadata": {},
     "output_type": "execute_result"
    }
   ],
   "source": [
    "scores"
   ]
  },
  {
   "cell_type": "code",
   "execution_count": null,
   "metadata": {},
   "outputs": [],
   "source": []
  }
 ],
 "metadata": {
  "kernelspec": {
   "display_name": "Python 3 (ipykernel)",
   "language": "python",
   "name": "python3"
  },
  "language_info": {
   "codemirror_mode": {
    "name": "ipython",
    "version": 3
   },
   "file_extension": ".py",
   "mimetype": "text/x-python",
   "name": "python",
   "nbconvert_exporter": "python",
   "pygments_lexer": "ipython3",
   "version": "3.9.12"
  },
  "vscode": {
   "interpreter": {
    "hash": "ad2bdc8ecc057115af97d19610ffacc2b4e99fae6737bb82f5d7fb13d2f2c186"
   }
  }
 },
 "nbformat": 4,
 "nbformat_minor": 2
}
