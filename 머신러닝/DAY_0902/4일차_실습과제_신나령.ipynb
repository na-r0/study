{
 "cells": [
  {
   "cell_type": "markdown",
   "metadata": {},
   "source": [
    "### SVM(Support Vector Machine)\n",
    "- ML에서 오랫동안 연구되었고 성능이 좋은 모델\n",
    "- DL보다 성능이 좋은 경우도 있음\n"
   ]
  },
  {
   "cell_type": "code",
   "execution_count": 42,
   "metadata": {},
   "outputs": [],
   "source": [
    "# 모듈 로딩\n",
    "from sklearn.svm import SVC\n",
    "from sklearn.model_selection import train_test_split\n",
    "from sklearn.datasets import load_digits\n",
    "import matplotlib.pyplot as plt\n",
    "import numpy as np\n",
    "from sklearn.preprocessing import StandardScaler"
   ]
  },
  {
   "cell_type": "code",
   "execution_count": 43,
   "metadata": {},
   "outputs": [],
   "source": [
    "import warnings\n",
    "\n",
    "warnings.filterwarnings(action='ignore')"
   ]
  },
  {
   "cell_type": "markdown",
   "metadata": {},
   "source": [
    "[1] 데이터 로딩 및 확인"
   ]
  },
  {
   "cell_type": "code",
   "execution_count": 44,
   "metadata": {},
   "outputs": [
    {
     "data": {
      "text/plain": [
       "<Figure size 432x288 with 0 Axes>"
      ]
     },
     "metadata": {},
     "output_type": "display_data"
    },
    {
     "data": {
      "image/png": "[encoded data removed]",
      "text/plain": [
       "<Figure size 288x288 with 1 Axes>"
      ]
     },
     "metadata": {
      "needs_background": "light"
     },
     "output_type": "display_data"
    }
   ],
   "source": [
    "digits = load_digits()\n",
    "plt.gray()\n",
    "plt.matshow(digits.images[1])\n",
    "plt.show()"
   ]
  },
  {
   "cell_type": "code",
   "execution_count": 45,
   "metadata": {},
   "outputs": [],
   "source": [
    "data = digits['data']\n",
    "target = digits['target']"
   ]
  },
  {
   "cell_type": "code",
   "execution_count": 46,
   "metadata": {},
   "outputs": [
    {
     "data": {
      "text/plain": [
       "(1,\n",
       " array([[ 0.,  0.,  0., 12., 13.,  5.,  0.,  0.],\n",
       "        [ 0.,  0.,  0., 11., 16.,  9.,  0.,  0.],\n",
       "        [ 0.,  0.,  3., 15., 16.,  6.,  0.,  0.],\n",
       "        [ 0.,  7., 15., 16., 16.,  2.,  0.,  0.],\n",
       "        [ 0.,  0.,  1., 16., 16.,  3.,  0.,  0.],\n",
       "        [ 0.,  0.,  1., 16., 16.,  6.,  0.,  0.],\n",
       "        [ 0.,  0.,  1., 16., 16.,  6.,  0.,  0.],\n",
       "        [ 0.,  0.,  0., 11., 16., 10.,  0.,  0.]]))"
      ]
     },
     "execution_count": 46,
     "metadata": {},
     "output_type": "execute_result"
    }
   ],
   "source": [
    "target[1], digits.images[1]"
   ]
  },
  {
   "cell_type": "markdown",
   "metadata": {},
   "source": [
    "[2] 학습 데이터 준비"
   ]
  },
  {
   "cell_type": "code",
   "execution_count": 47,
   "metadata": {},
   "outputs": [],
   "source": [
    "# 학습용/테스트용 데이터 분리 => 8:2\n",
    "train_input, test_input, train_target, test_target = train_test_split(\n",
    "                                                data, target, test_size=0.2, random_state=42)"
   ]
  },
  {
   "cell_type": "code",
   "execution_count": 48,
   "metadata": {},
   "outputs": [
    {
     "data": {
      "text/plain": [
       "((1437, 64), (360, 64))"
      ]
     },
     "execution_count": 48,
     "metadata": {},
     "output_type": "execute_result"
    }
   ],
   "source": [
    "train_input.shape, test_input.shape"
   ]
  },
  {
   "cell_type": "code",
   "execution_count": 49,
   "metadata": {},
   "outputs": [],
   "source": [
    "# 표준화 평균 0, 표준편차 1\n",
    "ss = StandardScaler()\n",
    "ss.fit(train_input)\n",
    "train_scaled = ss.transform(train_input)\n",
    "test_scaled = ss.transform(test_input)"
   ]
  },
  {
   "cell_type": "markdown",
   "metadata": {},
   "source": [
    "##### 1. LR"
   ]
  },
  {
   "cell_type": "markdown",
   "metadata": {},
   "source": [
    "[3] 모델 생성 및 학습"
   ]
  },
  {
   "cell_type": "code",
   "execution_count": 50,
   "metadata": {},
   "outputs": [
    {
     "data": {
      "text/plain": [
       "LogisticRegression(multi_class='multinomial')"
      ]
     },
     "execution_count": 50,
     "metadata": {},
     "output_type": "execute_result"
    }
   ],
   "source": [
    "from sklearn.linear_model import LogisticRegression\n",
    "\n",
    "# 다중분류\n",
    "model = LogisticRegression(multi_class='multinomial')\n",
    "\n",
    "# 학습\n",
    "model.fit(train_input, train_target)"
   ]
  },
  {
   "cell_type": "code",
   "execution_count": 51,
   "metadata": {},
   "outputs": [
    {
     "data": {
      "text/plain": [
       "LogisticRegression(multi_class='multinomial')"
      ]
     },
     "execution_count": 51,
     "metadata": {},
     "output_type": "execute_result"
    }
   ],
   "source": [
    "# 표준화한 모델\n",
    "model2 = LogisticRegression(multi_class='multinomial')\n",
    "model2.fit(train_scaled, train_target)"
   ]
  },
  {
   "cell_type": "markdown",
   "metadata": {},
   "source": [
    "[4] 모델 평가"
   ]
  },
  {
   "cell_type": "code",
   "execution_count": 52,
   "metadata": {},
   "outputs": [
    {
     "name": "stdout",
     "output_type": "stream",
     "text": [
      "train score: 1.0\n",
      "test score: 0.9694444444444444\n"
     ]
    }
   ],
   "source": [
    "print('train score:', model.score(train_input, train_target))\n",
    "print('test score:', model.score(test_input, test_target))"
   ]
  },
  {
   "cell_type": "code",
   "execution_count": 53,
   "metadata": {},
   "outputs": [
    {
     "name": "stdout",
     "output_type": "stream",
     "text": [
      "train score: 0.9986082115518441\n",
      "test score: 0.9722222222222222\n"
     ]
    }
   ],
   "source": [
    "# 표준화한 모델\n",
    "print('train score:', model2.score(train_scaled, train_target))\n",
    "print('test score:', model2.score(test_scaled, test_target))"
   ]
  },
  {
   "cell_type": "markdown",
   "metadata": {},
   "source": [
    "[5] 테스트 -> predict() "
   ]
  },
  {
   "cell_type": "code",
   "execution_count": 54,
   "metadata": {},
   "outputs": [],
   "source": [
    "def drawImage(data):\n",
    "    plt.gray()\n",
    "    plt.matshow(data.reshape(8, 8))\n",
    "    plt.show()"
   ]
  },
  {
   "cell_type": "code",
   "execution_count": 55,
   "metadata": {},
   "outputs": [
    {
     "data": {
      "text/plain": [
       "(array([ 0.,  0.,  0.,  0., 15.,  9.,  0.,  0.,  0.,  0.,  0.,  8., 16.,\n",
       "         5.,  0.,  0.,  0.,  0.,  1., 16., 16.,  5.,  0.,  0.,  0.,  0.,\n",
       "        11., 16., 16.,  1.,  1.,  0.,  0.,  6., 16., 16., 16., 15.,  9.,\n",
       "         0.,  0.,  7., 15., 16., 16., 10.,  1.,  0.,  0.,  0.,  1.,  7.,\n",
       "        16.,  1.,  0.,  0.,  0.,  0.,  0.,  1., 15.,  5.,  0.,  0.]),\n",
       " 4)"
      ]
     },
     "execution_count": 55,
     "metadata": {},
     "output_type": "execute_result"
    }
   ],
   "source": [
    "test_input[100], test_target[100]"
   ]
  },
  {
   "cell_type": "code",
   "execution_count": 56,
   "metadata": {},
   "outputs": [
    {
     "name": "stdout",
     "output_type": "stream",
     "text": [
      "0 [0]\n",
      "1 [1]\n",
      "2 [2]\n",
      "3 [3]\n",
      "4 [4]\n",
      "5 [5]\n",
      "6 [6]\n",
      "7 [7]\n",
      "8 [8]\n",
      "9 [9]\n"
     ]
    }
   ],
   "source": [
    "for i in range(10):\n",
    "    print(i, model.predict([digits['data'][i]]))"
   ]
  },
  {
   "cell_type": "code",
   "execution_count": 57,
   "metadata": {},
   "outputs": [
    {
     "name": "stdout",
     "output_type": "stream",
     "text": [
      "예측 결과 값: [4]\n"
     ]
    }
   ],
   "source": [
    "preY = model.predict([[ 0.,  0.,  0.,  0., 15.,  9.,  0.,  0.,  0.,  0.,  0.,  8., 16.,\n",
    "         5.,  0.,  0.,  0.,  0.,  1., 16., 16.,  5.,  0.,  0.,  0.,  0.,\n",
    "        11., 16., 16.,  1.,  1.,  0.,  0.,  6., 16., 16., 16., 15.,  9.,\n",
    "         0.,  0.,  7., 15., 16., 16., 10.,  1.,  0.,  0.,  0.,  1.,  7.,\n",
    "        16.,  1.,  0.,  0.,  0.,  0.,  0.,  1., 15.,  5.,  0.,  0.]])\n",
    "print('예측 결과 값:',preY)"
   ]
  },
  {
   "cell_type": "code",
   "execution_count": 58,
   "metadata": {},
   "outputs": [
    {
     "data": {
      "text/plain": [
       "<Figure size 432x288 with 0 Axes>"
      ]
     },
     "metadata": {},
     "output_type": "display_data"
    },
    {
     "data": {
      "image/png": "[encoded data removed]",
      "text/plain": [
       "<Figure size 288x288 with 1 Axes>"
      ]
     },
     "metadata": {
      "needs_background": "light"
     },
     "output_type": "display_data"
    }
   ],
   "source": [
    "drawImage(test_input[100])"
   ]
  },
  {
   "cell_type": "code",
   "execution_count": 59,
   "metadata": {},
   "outputs": [
    {
     "data": {
      "text/plain": [
       "(array([ 0.        , -0.34169755,  0.99272923,  0.0415787 ,  0.0255404 ,\n",
       "         1.6262722 ,  0.77307606, -0.13101874, -0.06103492, -0.61725402,\n",
       "         1.04231191, -0.9976119 , -0.49951228, -0.53813097,  0.30292926,\n",
       "        -0.13336005, -0.04991522,  0.41090742,  0.91344677,  0.14825839,\n",
       "        -0.18464006, -1.27307852, -0.552537  , -0.11409248, -0.03733267,\n",
       "         1.19042013,  0.97580609,  0.52549465,  0.66326183,  0.07651178,\n",
       "        -0.62554872, -0.04573894,  0.        , -0.65547642, -1.03737417,\n",
       "        -1.44495478, -1.40758447,  1.26001861, -0.81347241,  0.        ,\n",
       "        -0.06519029, -0.520056  , -1.05122024, -1.13725613, -1.23504336,\n",
       "         1.00362917, -0.10732033, -0.09403434, -0.03963009, -0.40241459,\n",
       "         0.6110394 , -1.07225551, -0.27909905,  1.02207001, -0.15187938,\n",
       "        -0.21608405, -0.02638899, -0.30677646,  0.86457466,  0.89164719,\n",
       "         0.6435399 , -0.30507483, -0.50623083, -0.19710003]),\n",
       " 5)"
      ]
     },
     "execution_count": 59,
     "metadata": {},
     "output_type": "execute_result"
    }
   ],
   "source": [
    "test_scaled[200], test_target[200]"
   ]
  },
  {
   "cell_type": "code",
   "execution_count": 60,
   "metadata": {},
   "outputs": [
    {
     "name": "stdout",
     "output_type": "stream",
     "text": [
      "예측 결과 값: [5]\n"
     ]
    }
   ],
   "source": [
    "preY = model2.predict([[ 0.        , -0.34169755,  0.99272923,  0.0415787 ,  0.0255404 ,\n",
    "         1.6262722 ,  0.77307606, -0.13101874, -0.06103492, -0.61725402,\n",
    "         1.04231191, -0.9976119 , -0.49951228, -0.53813097,  0.30292926,\n",
    "        -0.13336005, -0.04991522,  0.41090742,  0.91344677,  0.14825839,\n",
    "        -0.18464006, -1.27307852, -0.552537  , -0.11409248, -0.03733267,\n",
    "         1.19042013,  0.97580609,  0.52549465,  0.66326183,  0.07651178,\n",
    "        -0.62554872, -0.04573894,  0.        , -0.65547642, -1.03737417,\n",
    "        -1.44495478, -1.40758447,  1.26001861, -0.81347241,  0.        ,\n",
    "        -0.06519029, -0.520056  , -1.05122024, -1.13725613, -1.23504336,\n",
    "         1.00362917, -0.10732033, -0.09403434, -0.03963009, -0.40241459,\n",
    "         0.6110394 , -1.07225551, -0.27909905,  1.02207001, -0.15187938,\n",
    "        -0.21608405, -0.02638899, -0.30677646,  0.86457466,  0.89164719,\n",
    "         0.6435399 , -0.30507483, -0.50623083, -0.19710003]])\n",
    "print('예측 결과 값:',preY)"
   ]
  },
  {
   "cell_type": "code",
   "execution_count": 61,
   "metadata": {},
   "outputs": [
    {
     "data": {
      "text/plain": [
       "<Figure size 432x288 with 0 Axes>"
      ]
     },
     "metadata": {},
     "output_type": "display_data"
    },
    {
     "data": {
      "image/png": "[encoded data removed]",
      "text/plain": [
       "<Figure size 288x288 with 1 Axes>"
      ]
     },
     "metadata": {
      "needs_background": "light"
     },
     "output_type": "display_data"
    }
   ],
   "source": [
    "drawImage(test_scaled[200])"
   ]
  },
  {
   "cell_type": "markdown",
   "metadata": {},
   "source": [
    "##### 2. SVC"
   ]
  },
  {
   "cell_type": "markdown",
   "metadata": {},
   "source": [
    "[3] 모델 생성 및 학습"
   ]
  },
  {
   "cell_type": "code",
   "execution_count": 62,
   "metadata": {},
   "outputs": [
    {
     "data": {
      "text/plain": [
       "SVC(gamma=0.001)"
      ]
     },
     "execution_count": 62,
     "metadata": {},
     "output_type": "execute_result"
    }
   ],
   "source": [
    "# SVC\n",
    "model = SVC(gamma=0.001, C=1.0)\n",
    "model.fit(train_input, train_target)"
   ]
  },
  {
   "cell_type": "code",
   "execution_count": 63,
   "metadata": {},
   "outputs": [
    {
     "data": {
      "text/plain": [
       "SVC(C=2.0, gamma=0.001)"
      ]
     },
     "execution_count": 63,
     "metadata": {},
     "output_type": "execute_result"
    }
   ],
   "source": [
    "# 표준화한 모델\n",
    "model2 = SVC(gamma=0.001, C=2.0)\n",
    "model2.fit(train_scaled, train_target)"
   ]
  },
  {
   "cell_type": "markdown",
   "metadata": {},
   "source": [
    "[4] 모델 평가"
   ]
  },
  {
   "cell_type": "code",
   "execution_count": 64,
   "metadata": {},
   "outputs": [
    {
     "name": "stdout",
     "output_type": "stream",
     "text": [
      "train score: 0.9979123173277662\n",
      "test score: 0.9888888888888889\n"
     ]
    }
   ],
   "source": [
    "print('train score:', model.score(train_input, train_target))\n",
    "print('test score:', model.score(test_input, test_target))"
   ]
  },
  {
   "cell_type": "code",
   "execution_count": 65,
   "metadata": {},
   "outputs": [
    {
     "name": "stdout",
     "output_type": "stream",
     "text": [
      "train score: 0.9742519137091162\n",
      "test score: 0.9666666666666667\n"
     ]
    }
   ],
   "source": [
    "# 표준화한 모델\n",
    "print('train score:', model2.score(train_scaled, train_target))\n",
    "print('test score:', model2.score(test_scaled, test_target))"
   ]
  },
  {
   "cell_type": "markdown",
   "metadata": {},
   "source": [
    "[5] 테스트 -> predict() "
   ]
  },
  {
   "cell_type": "code",
   "execution_count": 66,
   "metadata": {},
   "outputs": [
    {
     "name": "stdout",
     "output_type": "stream",
     "text": [
      "예측 결과 값: [4]\n"
     ]
    }
   ],
   "source": [
    "preY = model.predict([[ 0.,  0.,  0.,  0., 15.,  9.,  0.,  0.,  0.,  0.,  0.,  8., 16.,\n",
    "         5.,  0.,  0.,  0.,  0.,  1., 16., 16.,  5.,  0.,  0.,  0.,  0.,\n",
    "        11., 16., 16.,  1.,  1.,  0.,  0.,  6., 16., 16., 16., 15.,  9.,\n",
    "         0.,  0.,  7., 15., 16., 16., 10.,  1.,  0.,  0.,  0.,  1.,  7.,\n",
    "        16.,  1.,  0.,  0.,  0.,  0.,  0.,  1., 15.,  5.,  0.,  0.]])\n",
    "print('예측 결과 값:',preY)"
   ]
  },
  {
   "cell_type": "code",
   "execution_count": 67,
   "metadata": {},
   "outputs": [
    {
     "name": "stdout",
     "output_type": "stream",
     "text": [
      "0 [0]\n",
      "1 [1]\n",
      "2 [2]\n",
      "3 [3]\n",
      "4 [4]\n",
      "5 [9]\n",
      "6 [6]\n",
      "7 [7]\n",
      "8 [8]\n",
      "9 [9]\n"
     ]
    }
   ],
   "source": [
    "for i in range(10):\n",
    "    print(i, model.predict([digits['data'][i]]))"
   ]
  },
  {
   "cell_type": "code",
   "execution_count": 68,
   "metadata": {},
   "outputs": [
    {
     "name": "stdout",
     "output_type": "stream",
     "text": [
      "예측 결과 값: [5]\n"
     ]
    }
   ],
   "source": [
    "preY = model2.predict([[ 0.        , -0.34169755,  0.99272923,  0.0415787 ,  0.0255404 ,\n",
    "         1.6262722 ,  0.77307606, -0.13101874, -0.06103492, -0.61725402,\n",
    "         1.04231191, -0.9976119 , -0.49951228, -0.53813097,  0.30292926,\n",
    "        -0.13336005, -0.04991522,  0.41090742,  0.91344677,  0.14825839,\n",
    "        -0.18464006, -1.27307852, -0.552537  , -0.11409248, -0.03733267,\n",
    "         1.19042013,  0.97580609,  0.52549465,  0.66326183,  0.07651178,\n",
    "        -0.62554872, -0.04573894,  0.        , -0.65547642, -1.03737417,\n",
    "        -1.44495478, -1.40758447,  1.26001861, -0.81347241,  0.        ,\n",
    "        -0.06519029, -0.520056  , -1.05122024, -1.13725613, -1.23504336,\n",
    "         1.00362917, -0.10732033, -0.09403434, -0.03963009, -0.40241459,\n",
    "         0.6110394 , -1.07225551, -0.27909905,  1.02207001, -0.15187938,\n",
    "        -0.21608405, -0.02638899, -0.30677646,  0.86457466,  0.89164719,\n",
    "         0.6435399 , -0.30507483, -0.50623083, -0.19710003]])\n",
    "print('예측 결과 값:',preY)"
   ]
  },
  {
   "cell_type": "code",
   "execution_count": null,
   "metadata": {},
   "outputs": [],
   "source": []
  }
 ],
 "metadata": {
  "kernelspec": {
   "display_name": "Python 3.9.12 ('base')",
   "language": "python",
   "name": "python3"
  },
  "language_info": {
   "codemirror_mode": {
    "name": "ipython",
    "version": 3
   },
   "file_extension": ".py",
   "mimetype": "text/x-python",
   "name": "python",
   "nbconvert_exporter": "python",
   "pygments_lexer": "ipython3",
   "version": "3.9.12"
  },
  "orig_nbformat": 4,
  "vscode": {
   "interpreter": {
    "hash": "ad2bdc8ecc057115af97d19610ffacc2b4e99fae6737bb82f5d7fb13d2f2c186"
   }
  }
 },
 "nbformat": 4,
 "nbformat_minor": 2
}
