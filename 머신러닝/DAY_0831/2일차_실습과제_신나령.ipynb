{
 "cells": [
  {
   "cell_type": "markdown",
   "metadata": {},
   "source": [
    "### Linear Regression 구현"
   ]
  },
  {
   "cell_type": "markdown",
   "metadata": {},
   "source": [
    "아래 데이터를 이용하여 각 항목별 연관 관계를 분석하고 선형 회귀 분석 기법을 통해 상관 관계를 그래프로 표시하시오.\n",
    "\n",
    "• index_price: 물가지수  \n",
    "• interest_rate: 이자율  \n",
    "• unemployment_rate: 실업률"
   ]
  },
  {
   "cell_type": "code",
   "execution_count": 57,
   "metadata": {},
   "outputs": [
    {
     "name": "stdout",
     "output_type": "stream",
     "text": [
      "    year  month  interest_rate  unemployment_rate  index_price\n",
      "0   2017     12           2.75                5.3         1464\n",
      "1   2017     11           2.50                5.3         1394\n",
      "2   2017     10           2.50                5.3         1357\n",
      "3   2017      9           2.50                5.3         1293\n",
      "4   2017      8           2.50                5.4         1256\n",
      "5   2017      7           2.50                5.6         1254\n",
      "6   2017      6           2.50                5.5         1234\n",
      "7   2017      5           2.25                5.5         1195\n",
      "8   2017      4           2.25                5.5         1159\n",
      "9   2017      3           2.25                5.6         1167\n",
      "10  2017      2           2.00                5.7         1130\n",
      "11  2017      1           2.00                5.9         1075\n",
      "12  2016     12           2.00                6.0         1047\n",
      "13  2016     11           1.75                5.9          965\n",
      "14  2016     10           1.75                5.8          943\n",
      "15  2016      9           1.75                6.1          958\n",
      "16  2016      8           1.75                6.2          971\n",
      "17  2016      7           1.75                6.1          949\n",
      "18  2016      6           1.75                6.1          884\n",
      "19  2016      5           1.75                6.1          866\n",
      "20  2016      4           1.75                5.9          876\n",
      "21  2016      3           1.75                6.2          822\n",
      "22  2016      2           1.75                6.2          704\n",
      "23  2016      1           1.75                6.1          719\n"
     ]
    }
   ],
   "source": [
    "import pandas as pd\n",
    "import matplotlib.pyplot as plt\n",
    "\n",
    "data = {'year': [2017,2017,2017,2017,2017,2017,2017,2017,2017,2017,2017,2017,\n",
    "                2016,2016,2016,2016,2016,2016,2016,2016,2016,2016,2016,2016],\n",
    "        'month': [12,11,10,9,8,7,6,5,4,3,2,1,12,11,10,9,8,7,6,5,4,3,2,1],\n",
    "        'interest_rate': [2.75,2.5,2.5,2.5,2.5,2.5,2.5,2.25,2.25,2.25,2,2,2,\n",
    "                        1.75,1.75,1.75,1.75,1.75,1.75,1.75,1.75,1.75,1.75,1.75],\n",
    "        'unemployment_rate': [5.3,5.3,5.3,5.3,5.4,5.6,5.5,5.5,5.5,5.6,5.7,5.9,6,5.9,\n",
    "                            5.8,6.1,6.2,6.1,6.1,6.1,5.9,6.2,6.2,6.1],\n",
    "        'index_price': [1464,1394,1357,1293,1256,1254,1234,1195,1159,1167,1130,1075,\n",
    "                    1047,965,943,958,971,949,884,866,876,822,704,719]}\n",
    "df = pd.DataFrame(data)\n",
    "print(df)"
   ]
  },
  {
   "cell_type": "markdown",
   "metadata": {},
   "source": [
    "#### 1. 선형 회귀: 이자율과 물가지수 상관 관계 분석"
   ]
  },
  {
   "cell_type": "markdown",
   "metadata": {},
   "source": [
    "##### 1) 물가지수와 이자율 산점도"
   ]
  },
  {
   "cell_type": "code",
   "execution_count": 58,
   "metadata": {},
   "outputs": [
    {
     "data": {
      "image/png": "[encoded data removed]",
      "text/plain": [
       "<Figure size 432x288 with 1 Axes>"
      ]
     },
     "metadata": {
      "needs_background": "light"
     },
     "output_type": "display_data"
    }
   ],
   "source": [
    "import matplotlib.pyplot as plt\n",
    "\n",
    "plt.scatter(df['interest_rate'], df['index_price'], color = 'red')\n",
    "plt.title('Index Price Vs Interest Rate')\n",
    "plt.xlabel('Interest Rate')\n",
    "plt.ylabel('Index Price')\n",
    "plt.grid(True)\n",
    "plt.show()"
   ]
  },
  {
   "cell_type": "code",
   "execution_count": 74,
   "metadata": {},
   "outputs": [],
   "source": [
    "from sklearn.model_selection import train_test_split\n",
    "import numpy as np\n",
    "\n",
    "interest_rate = np.array(list(df['interest_rate']))\n",
    "index_price = np.array(list(df['index_price']))\n",
    "\n",
    "# 훈련 세트와 테스트 세트로 나눔\n",
    "train_input, test_input, train_target, test_target = train_test_split(\n",
    "                                                interest_rate, index_price, random_state=42)\n",
    "\n",
    "# 훈련 세트와 테스트 세트를 2차원 배열로 변경\n",
    "train_input = train_input.reshape(-1, 1)\n",
    "test_input = test_input.reshape(-1, 1)"
   ]
  },
  {
   "cell_type": "code",
   "execution_count": 75,
   "metadata": {},
   "outputs": [
    {
     "name": "stdout",
     "output_type": "stream",
     "text": [
      "Interest Rate vs. Index Price\n",
      "coef_: [574.45637584], intercept_: -127.38255033557084\n"
     ]
    }
   ],
   "source": [
    "from sklearn.linear_model import LinearRegression\n",
    "\n",
    "lr = LinearRegression()\n",
    "lr.fit(train_input, train_target)\n",
    "\n",
    "print('Interest Rate vs. Index Price')\n",
    "print('coef_: {}, intercept_: {}'.format(lr.coef_, lr.intercept_))"
   ]
  },
  {
   "cell_type": "markdown",
   "metadata": {},
   "source": [
    "##### 2) 선형 회귀 분석"
   ]
  },
  {
   "cell_type": "code",
   "execution_count": 76,
   "metadata": {},
   "outputs": [
    {
     "data": {
      "image/png": "[encoded data removed]",
      "text/plain": [
       "<Figure size 432x288 with 1 Axes>"
      ]
     },
     "metadata": {
      "needs_background": "light"
     },
     "output_type": "display_data"
    }
   ],
   "source": [
    "plt.scatter(train_input, train_target)\n",
    "plt.plot([1.75, 2.50], [1.75*lr.coef_ + lr.intercept_, 2.50*lr.coef_ + lr.intercept_], color='red', linestyle='--')\n",
    "plt.title('Index Price Vs Interest Rate')\n",
    "plt.xlabel('Interest Rate')\n",
    "plt.ylabel('Index Price')\n",
    "plt.show()"
   ]
  },
  {
   "cell_type": "code",
   "execution_count": 77,
   "metadata": {},
   "outputs": [
    {
     "name": "stdout",
     "output_type": "stream",
     "text": [
      "train data score: 0.8541859618501457\n",
      "test data score: 0.941892392945057\n"
     ]
    }
   ],
   "source": [
    "print('train data score: {}'.format(lr.score(train_input, train_target)))\n",
    "print('test data score: {}'.format(lr.score(test_input, test_target)))"
   ]
  },
  {
   "cell_type": "markdown",
   "metadata": {},
   "source": [
    "#### 2. 다항 회귀: 이자율과 물가지수 상관 관계 분석"
   ]
  },
  {
   "cell_type": "code",
   "execution_count": 78,
   "metadata": {},
   "outputs": [
    {
     "name": "stdout",
     "output_type": "stream",
     "text": [
      "[[3.0625 1.75  ]\n",
      " [6.25   2.5   ]\n",
      " [3.0625 1.75  ]\n",
      " [6.25   2.5   ]\n",
      " [6.25   2.5   ]]\n",
      "(18, 2) (6, 2)\n"
     ]
    }
   ],
   "source": [
    "train_poly = np.column_stack((train_input**2, train_input))\n",
    "test_poly = np.column_stack((test_input**2, test_input))\n",
    "\n",
    "print(train_poly[:5])\n",
    "print(train_poly.shape, test_poly.shape)"
   ]
  },
  {
   "cell_type": "code",
   "execution_count": 79,
   "metadata": {},
   "outputs": [
    {
     "name": "stdout",
     "output_type": "stream",
     "text": [
      "이자율과 물가지수 다항 회귀\n",
      "다항 회귀 coef_: [-524.84946237 2802.42473118], intercept_: -2429.102822580652\n"
     ]
    }
   ],
   "source": [
    "lr = LinearRegression()\n",
    "lr.fit(train_poly, train_target)\n",
    "\n",
    "print('이자율과 물가지수 다항 회귀')\n",
    "print('다항 회귀 coef_: {}, intercept_: {}'.format(lr.coef_, lr.intercept_))"
   ]
  },
  {
   "cell_type": "code",
   "execution_count": 92,
   "metadata": {},
   "outputs": [
    {
     "data": {
      "image/png": "[encoded data removed]",
      "text/plain": [
       "<Figure size 432x288 with 1 Axes>"
      ]
     },
     "metadata": {
      "needs_background": "light"
     },
     "output_type": "display_data"
    },
    {
     "name": "stdout",
     "output_type": "stream",
     "text": [
      "[1.7 1.8 1.9 2.  2.1 2.2 2.3 2.4 2.5]\n"
     ]
    }
   ],
   "source": [
    "point = np.arange(1.7, 2.6, 0.1) # 간격 0.1\n",
    "\n",
    "plt.scatter(train_input, train_target)\n",
    "plt.plot(point, (-524.84946237)*point**2 + 2802.42473118*point - 2429.102822580652, color = 'red', linestyle='--')\n",
    "plt.xlabel('Interest Rate')\n",
    "plt.ylabel('Index Price')\n",
    "plt.show()\n",
    "\n",
    "print(point)"
   ]
  },
  {
   "cell_type": "code",
   "execution_count": 66,
   "metadata": {},
   "outputs": [
    {
     "name": "stdout",
     "output_type": "stream",
     "text": [
      "train data score: 0.8676269364555872\n",
      "test data score: 0.794526521436733\n"
     ]
    }
   ],
   "source": [
    "print('train data score: {}'.format(lr.score(train_poly, train_target)))\n",
    "print('test data score: {}'.format(lr.score(test_poly, test_target)))"
   ]
  },
  {
   "cell_type": "markdown",
   "metadata": {},
   "source": [
    "#### 3. 선형 회귀: 실업률과 물가지수 상관 관계 분석"
   ]
  },
  {
   "cell_type": "markdown",
   "metadata": {},
   "source": [
    "##### 1) 실업률과 물가지수 산점도"
   ]
  },
  {
   "cell_type": "code",
   "execution_count": 67,
   "metadata": {},
   "outputs": [
    {
     "data": {
      "image/png": "[encoded data removed]",
      "text/plain": [
       "<Figure size 432x288 with 1 Axes>"
      ]
     },
     "metadata": {
      "needs_background": "light"
     },
     "output_type": "display_data"
    }
   ],
   "source": [
    "plt.scatter(df['unemployment_rate'], df['index_price'], color = 'green')\n",
    "plt.title('Index Price Vs Unemployment Rate')\n",
    "plt.xlabel('Unemployment Rate')\n",
    "plt.ylabel('Index Price')\n",
    "plt.grid(True)\n",
    "plt.show()"
   ]
  },
  {
   "cell_type": "markdown",
   "metadata": {},
   "source": [
    "##### 2) 선형 회귀 분석"
   ]
  },
  {
   "cell_type": "code",
   "execution_count": 68,
   "metadata": {},
   "outputs": [],
   "source": [
    "unemployment_rate = np.array(list(df['unemployment_rate']))\n",
    "index_price = np.array(list(df['index_price']))\n",
    "\n",
    "# 훈련 세트와 테스트 세트로 나눔\n",
    "train_input, test_input, train_target, test_target = train_test_split(\n",
    "                                                unemployment_rate, index_price, random_state=42)\n",
    "\n",
    "# 훈련 세트와 테스트 세트를 2차원 배열로 변경\n",
    "train_input = train_input.reshape(-1, 1)\n",
    "test_input = test_input.reshape(-1, 1)"
   ]
  },
  {
   "cell_type": "code",
   "execution_count": 69,
   "metadata": {},
   "outputs": [
    {
     "name": "stdout",
     "output_type": "stream",
     "text": [
      "Unemployment Rate vs. Index Price\n",
      "coef_: [-611.41330166], intercept_: 4586.05463182898\n"
     ]
    }
   ],
   "source": [
    "lr = LinearRegression()\n",
    "lr.fit(train_input, train_target)\n",
    "\n",
    "print('Unemployment Rate vs. Index Price')\n",
    "print('coef_: {}, intercept_: {}'.format(lr.coef_, lr.intercept_))"
   ]
  },
  {
   "cell_type": "code",
   "execution_count": 70,
   "metadata": {},
   "outputs": [
    {
     "data": {
      "image/png": "[encoded data removed]",
      "text/plain": [
       "<Figure size 432x288 with 1 Axes>"
      ]
     },
     "metadata": {
      "needs_background": "light"
     },
     "output_type": "display_data"
    }
   ],
   "source": [
    "plt.scatter(train_input, train_target)\n",
    "plt.plot([5.30, 6.20], [5.30*lr.coef_ + lr.intercept_, 6.20*lr.coef_ + lr.intercept_], color='red', linestyle='--')\n",
    "plt.title('Index Price Vs Unemployment Rate')\n",
    "plt.xlabel('Unemployment Rate')\n",
    "plt.ylabel('Index Price')\n",
    "plt.show()"
   ]
  },
  {
   "cell_type": "code",
   "execution_count": 71,
   "metadata": {},
   "outputs": [
    {
     "name": "stdout",
     "output_type": "stream",
     "text": [
      "train data score: 0.8748908875163574\n",
      "test data score: 0.707475113377226\n"
     ]
    }
   ],
   "source": [
    "print('train data score: {}'.format(lr.score(train_input, train_target)))\n",
    "print('test data score: {}'.format(lr.score(test_input, test_target)))"
   ]
  },
  {
   "cell_type": "code",
   "execution_count": null,
   "metadata": {},
   "outputs": [],
   "source": []
  }
 ],
 "metadata": {
  "kernelspec": {
   "display_name": "Python 3.9.12 ('base')",
   "language": "python",
   "name": "python3"
  },
  "language_info": {
   "codemirror_mode": {
    "name": "ipython",
    "version": 3
   },
   "file_extension": ".py",
   "mimetype": "text/x-python",
   "name": "python",
   "nbconvert_exporter": "python",
   "pygments_lexer": "ipython3",
   "version": "3.9.12"
  },
  "orig_nbformat": 4,
  "vscode": {
   "interpreter": {
    "hash": "ad2bdc8ecc057115af97d19610ffacc2b4e99fae6737bb82f5d7fb13d2f2c186"
   }
  }
 },
 "nbformat": 4,
 "nbformat_minor": 2
}
