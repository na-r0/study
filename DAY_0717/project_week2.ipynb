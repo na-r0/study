{
 "cells": [
  {
   "cell_type": "markdown",
   "id": "6cf2faa9",
   "metadata": {},
   "source": [
    "# <전기차 충전소 데이터를 통한 행정구역별 인프라 분석>"
   ]
  },
  {
   "cell_type": "markdown",
   "id": "a7b02b47",
   "metadata": {},
   "source": [
    "# (1) 서울시 구역별 전기차 현황"
   ]
  },
  {
   "cell_type": "code",
   "execution_count": 17,
   "id": "dc6928da",
   "metadata": {},
   "outputs": [],
   "source": [
    "#한글 폰트 설정\n",
    "from matplotlib import font_manager as fm, rc\n",
    "\n",
    "font_path='../Fonts/malgun.ttf'\n",
    "font_name=fm.FontProperties(fname=font_path).get_name()\n",
    "rc('font',family=font_name)"
   ]
  },
  {
   "cell_type": "code",
   "execution_count": 18,
   "id": "eef0d241",
   "metadata": {
    "scrolled": true
   },
   "outputs": [
    {
     "data": {
      "text/html": [
       "<div>\n",
       "<style scoped>\n",
       "    .dataframe tbody tr th:only-of-type {\n",
       "        vertical-align: middle;\n",
       "    }\n",
       "\n",
       "    .dataframe tbody tr th {\n",
       "        vertical-align: top;\n",
       "    }\n",
       "\n",
       "    .dataframe thead th {\n",
       "        text-align: right;\n",
       "    }\n",
       "</style>\n",
       "<table border=\"1\" class=\"dataframe\">\n",
       "  <thead>\n",
       "    <tr style=\"text-align: right;\">\n",
       "      <th></th>\n",
       "      <th>기준년월</th>\n",
       "      <th>사용본거지시읍면동_행정동기준</th>\n",
       "      <th>차명</th>\n",
       "      <th>연료</th>\n",
       "      <th>최초등록일</th>\n",
       "      <th>현소유자의출생년도</th>\n",
       "    </tr>\n",
       "  </thead>\n",
       "  <tbody>\n",
       "    <tr>\n",
       "      <th>0</th>\n",
       "      <td>2022-02</td>\n",
       "      <td>서울특별시 구로구 신도림동</td>\n",
       "      <td>K7 하이브리드</td>\n",
       "      <td>하이브리드(휘발유+전기)</td>\n",
       "      <td>2014-03-19</td>\n",
       "      <td>1967.0</td>\n",
       "    </tr>\n",
       "    <tr>\n",
       "      <th>1</th>\n",
       "      <td>2022-02</td>\n",
       "      <td>서울특별시 구로구 신도림동</td>\n",
       "      <td>토요타 Prius V</td>\n",
       "      <td>하이브리드(휘발유+전기)</td>\n",
       "      <td>2017-04-28</td>\n",
       "      <td>1980.0</td>\n",
       "    </tr>\n",
       "    <tr>\n",
       "      <th>2</th>\n",
       "      <td>2022-02</td>\n",
       "      <td>서울특별시 구로구 신도림동</td>\n",
       "      <td>니로 하이브리드</td>\n",
       "      <td>하이브리드(휘발유+전기)</td>\n",
       "      <td>2018-04-27</td>\n",
       "      <td>1990.0</td>\n",
       "    </tr>\n",
       "    <tr>\n",
       "      <th>3</th>\n",
       "      <td>2022-02</td>\n",
       "      <td>서울특별시 구로구 신도림동</td>\n",
       "      <td>투싼 하이브리드(TUCSON HYBRI</td>\n",
       "      <td>하이브리드(휘발유+전기)</td>\n",
       "      <td>2021-07-14</td>\n",
       "      <td>1981.0</td>\n",
       "    </tr>\n",
       "    <tr>\n",
       "      <th>4</th>\n",
       "      <td>2022-02</td>\n",
       "      <td>서울특별시 구로구 신도림동</td>\n",
       "      <td>토요타 PRIUS</td>\n",
       "      <td>하이브리드(휘발유+전기)</td>\n",
       "      <td>2012-03-16</td>\n",
       "      <td>1983.0</td>\n",
       "    </tr>\n",
       "  </tbody>\n",
       "</table>\n",
       "</div>"
      ],
      "text/plain": [
       "      기준년월 사용본거지시읍면동_행정동기준                     차명             연료       최초등록일  \\\n",
       "0  2022-02  서울특별시 구로구 신도림동               K7 하이브리드  하이브리드(휘발유+전기)  2014-03-19   \n",
       "1  2022-02  서울특별시 구로구 신도림동            토요타 Prius V  하이브리드(휘발유+전기)  2017-04-28   \n",
       "2  2022-02  서울특별시 구로구 신도림동               니로 하이브리드  하이브리드(휘발유+전기)  2018-04-27   \n",
       "3  2022-02  서울특별시 구로구 신도림동  투싼 하이브리드(TUCSON HYBRI  하이브리드(휘발유+전기)  2021-07-14   \n",
       "4  2022-02  서울특별시 구로구 신도림동              토요타 PRIUS  하이브리드(휘발유+전기)  2012-03-16   \n",
       "\n",
       "   현소유자의출생년도  \n",
       "0     1967.0  \n",
       "1     1980.0  \n",
       "2     1990.0  \n",
       "3     1981.0  \n",
       "4     1983.0  "
      ]
     },
     "execution_count": 18,
     "metadata": {},
     "output_type": "execute_result"
    }
   ],
   "source": [
    "import pandas as pd\n",
    "\n",
    "#서울시 행정동별 친환경자동차 현황 => 전기차만 뽑고, 구역 묶어 주려고 함\n",
    "FILE_NAME1='서울시 행정동별 친환경자동차 현황_2022년2월28일.csv'\n",
    "carDF1=pd.read_csv(FILE_NAME1,encoding='cp949')#인코딩\n",
    "carDF1.head()"
   ]
  },
  {
   "cell_type": "code",
   "execution_count": 19,
   "id": "8e0feccc",
   "metadata": {
    "scrolled": false
   },
   "outputs": [
    {
     "data": {
      "text/plain": [
       "사용본거지시읍면동_행정동기준    11\n",
       "연료                  0\n",
       "dtype: int64"
      ]
     },
     "execution_count": 19,
     "metadata": {},
     "output_type": "execute_result"
    }
   ],
   "source": [
    "# 주소랑 연료 빼고 필요 없는 칼럼 잘라 줌\n",
    "recarDF1=carDF1.drop(['기준년월','차명','최초등록일','현소유자의출생년도'],axis=1)\n",
    "recarDF1.isnull().sum()# 사용본거지시읍면동_행정동기준 데이터 안에 NaN 값이 11개가 있음"
   ]
  },
  {
   "cell_type": "code",
   "execution_count": 20,
   "id": "91e34ceb",
   "metadata": {},
   "outputs": [
    {
     "data": {
      "text/plain": [
       "사용본거지시읍면동_행정동기준    0\n",
       "연료                 0\n",
       "dtype: int64"
      ]
     },
     "execution_count": 20,
     "metadata": {},
     "output_type": "execute_result"
    }
   ],
   "source": [
    "# NaN 값 있는 행 아예 삭제해 줌\n",
    "recarDF1.dropna(inplace=True)\n",
    "recarDF1.isnull().sum()"
   ]
  },
  {
   "cell_type": "code",
   "execution_count": 21,
   "id": "64692eec",
   "metadata": {
    "scrolled": true
   },
   "outputs": [
    {
     "data": {
      "text/html": [
       "<div>\n",
       "<style scoped>\n",
       "    .dataframe tbody tr th:only-of-type {\n",
       "        vertical-align: middle;\n",
       "    }\n",
       "\n",
       "    .dataframe tbody tr th {\n",
       "        vertical-align: top;\n",
       "    }\n",
       "\n",
       "    .dataframe thead th {\n",
       "        text-align: right;\n",
       "    }\n",
       "</style>\n",
       "<table border=\"1\" class=\"dataframe\">\n",
       "  <thead>\n",
       "    <tr style=\"text-align: right;\">\n",
       "      <th></th>\n",
       "      <th>1</th>\n",
       "    </tr>\n",
       "  </thead>\n",
       "  <tbody>\n",
       "    <tr>\n",
       "      <th>0</th>\n",
       "      <td>구로구</td>\n",
       "    </tr>\n",
       "    <tr>\n",
       "      <th>1</th>\n",
       "      <td>구로구</td>\n",
       "    </tr>\n",
       "    <tr>\n",
       "      <th>2</th>\n",
       "      <td>구로구</td>\n",
       "    </tr>\n",
       "    <tr>\n",
       "      <th>3</th>\n",
       "      <td>구로구</td>\n",
       "    </tr>\n",
       "    <tr>\n",
       "      <th>4</th>\n",
       "      <td>구로구</td>\n",
       "    </tr>\n",
       "  </tbody>\n",
       "</table>\n",
       "</div>"
      ],
      "text/plain": [
       "     1\n",
       "0  구로구\n",
       "1  구로구\n",
       "2  구로구\n",
       "3  구로구\n",
       "4  구로구"
      ]
     },
     "execution_count": 21,
     "metadata": {},
     "output_type": "execute_result"
    }
   ],
   "source": [
    "# 주소 전체를 구역별로 나눠 줌\n",
    "discarDF1=recarDF1['사용본거지시읍면동_행정동기준'].str.split(' ',expand=True)#문자열을 3개로 나눠서 별도의 프레임으로 확장\n",
    "discarDF1=discarDF1.drop([0,2],axis=1)#'구'만 저장\n",
    "discarDF1.head()"
   ]
  },
  {
   "cell_type": "code",
   "execution_count": 22,
   "id": "daf42925",
   "metadata": {
    "scrolled": true
   },
   "outputs": [
    {
     "data": {
      "text/html": [
       "<div>\n",
       "<style scoped>\n",
       "    .dataframe tbody tr th:only-of-type {\n",
       "        vertical-align: middle;\n",
       "    }\n",
       "\n",
       "    .dataframe tbody tr th {\n",
       "        vertical-align: top;\n",
       "    }\n",
       "\n",
       "    .dataframe thead th {\n",
       "        text-align: right;\n",
       "    }\n",
       "</style>\n",
       "<table border=\"1\" class=\"dataframe\">\n",
       "  <thead>\n",
       "    <tr style=\"text-align: right;\">\n",
       "      <th></th>\n",
       "      <th>연료</th>\n",
       "    </tr>\n",
       "  </thead>\n",
       "  <tbody>\n",
       "    <tr>\n",
       "      <th>0</th>\n",
       "      <td>하이브리드(휘발유+전기)</td>\n",
       "    </tr>\n",
       "    <tr>\n",
       "      <th>1</th>\n",
       "      <td>하이브리드(휘발유+전기)</td>\n",
       "    </tr>\n",
       "    <tr>\n",
       "      <th>2</th>\n",
       "      <td>하이브리드(휘발유+전기)</td>\n",
       "    </tr>\n",
       "    <tr>\n",
       "      <th>3</th>\n",
       "      <td>하이브리드(휘발유+전기)</td>\n",
       "    </tr>\n",
       "    <tr>\n",
       "      <th>4</th>\n",
       "      <td>하이브리드(휘발유+전기)</td>\n",
       "    </tr>\n",
       "  </tbody>\n",
       "</table>\n",
       "</div>"
      ],
      "text/plain": [
       "              연료\n",
       "0  하이브리드(휘발유+전기)\n",
       "1  하이브리드(휘발유+전기)\n",
       "2  하이브리드(휘발유+전기)\n",
       "3  하이브리드(휘발유+전기)\n",
       "4  하이브리드(휘발유+전기)"
      ]
     },
     "execution_count": 22,
     "metadata": {},
     "output_type": "execute_result"
    }
   ],
   "source": [
    "# recarDF1 데이터에서 주소 칼럼 없애고 연료 칼럼만 따로 저장\n",
    "fuelDF1=recarDF1.drop(['사용본거지시읍면동_행정동기준'],axis=1)\n",
    "fuelDF1.head()"
   ]
  },
  {
   "cell_type": "code",
   "execution_count": 23,
   "id": "9cb056bd",
   "metadata": {
    "scrolled": true
   },
   "outputs": [
    {
     "data": {
      "text/html": [
       "<div>\n",
       "<style scoped>\n",
       "    .dataframe tbody tr th:only-of-type {\n",
       "        vertical-align: middle;\n",
       "    }\n",
       "\n",
       "    .dataframe tbody tr th {\n",
       "        vertical-align: top;\n",
       "    }\n",
       "\n",
       "    .dataframe thead th {\n",
       "        text-align: right;\n",
       "    }\n",
       "</style>\n",
       "<table border=\"1\" class=\"dataframe\">\n",
       "  <thead>\n",
       "    <tr style=\"text-align: right;\">\n",
       "      <th></th>\n",
       "      <th>1</th>\n",
       "      <th>연료</th>\n",
       "    </tr>\n",
       "  </thead>\n",
       "  <tbody>\n",
       "    <tr>\n",
       "      <th>0</th>\n",
       "      <td>구로구</td>\n",
       "      <td>하이브리드(휘발유+전기)</td>\n",
       "    </tr>\n",
       "    <tr>\n",
       "      <th>1</th>\n",
       "      <td>구로구</td>\n",
       "      <td>하이브리드(휘발유+전기)</td>\n",
       "    </tr>\n",
       "    <tr>\n",
       "      <th>2</th>\n",
       "      <td>구로구</td>\n",
       "      <td>하이브리드(휘발유+전기)</td>\n",
       "    </tr>\n",
       "    <tr>\n",
       "      <th>3</th>\n",
       "      <td>구로구</td>\n",
       "      <td>하이브리드(휘발유+전기)</td>\n",
       "    </tr>\n",
       "    <tr>\n",
       "      <th>4</th>\n",
       "      <td>구로구</td>\n",
       "      <td>하이브리드(휘발유+전기)</td>\n",
       "    </tr>\n",
       "  </tbody>\n",
       "</table>\n",
       "</div>"
      ],
      "text/plain": [
       "     1             연료\n",
       "0  구로구  하이브리드(휘발유+전기)\n",
       "1  구로구  하이브리드(휘발유+전기)\n",
       "2  구로구  하이브리드(휘발유+전기)\n",
       "3  구로구  하이브리드(휘발유+전기)\n",
       "4  구로구  하이브리드(휘발유+전기)"
      ]
     },
     "execution_count": 23,
     "metadata": {},
     "output_type": "execute_result"
    }
   ],
   "source": [
    "# 앞에서 분리했던 칼럼들 합쳐 주기\n",
    "totalDF1=pd.concat([discarDF1,fuelDF1],axis=1)\n",
    "totalDF1.head()"
   ]
  },
  {
   "cell_type": "code",
   "execution_count": 24,
   "id": "f4529591",
   "metadata": {
    "scrolled": true
   },
   "outputs": [
    {
     "data": {
      "text/html": [
       "<div>\n",
       "<style scoped>\n",
       "    .dataframe tbody tr th:only-of-type {\n",
       "        vertical-align: middle;\n",
       "    }\n",
       "\n",
       "    .dataframe tbody tr th {\n",
       "        vertical-align: top;\n",
       "    }\n",
       "\n",
       "    .dataframe thead th {\n",
       "        text-align: right;\n",
       "    }\n",
       "</style>\n",
       "<table border=\"1\" class=\"dataframe\">\n",
       "  <thead>\n",
       "    <tr style=\"text-align: right;\">\n",
       "      <th></th>\n",
       "      <th>1</th>\n",
       "      <th>연료</th>\n",
       "    </tr>\n",
       "  </thead>\n",
       "  <tbody>\n",
       "    <tr>\n",
       "      <th>8</th>\n",
       "      <td>구로구</td>\n",
       "      <td>전기</td>\n",
       "    </tr>\n",
       "    <tr>\n",
       "      <th>15</th>\n",
       "      <td>구로구</td>\n",
       "      <td>전기</td>\n",
       "    </tr>\n",
       "    <tr>\n",
       "      <th>17</th>\n",
       "      <td>구로구</td>\n",
       "      <td>전기</td>\n",
       "    </tr>\n",
       "    <tr>\n",
       "      <th>22</th>\n",
       "      <td>구로구</td>\n",
       "      <td>전기</td>\n",
       "    </tr>\n",
       "    <tr>\n",
       "      <th>26</th>\n",
       "      <td>구로구</td>\n",
       "      <td>전기</td>\n",
       "    </tr>\n",
       "  </tbody>\n",
       "</table>\n",
       "</div>"
      ],
      "text/plain": [
       "      1  연료\n",
       "8   구로구  전기\n",
       "15  구로구  전기\n",
       "17  구로구  전기\n",
       "22  구로구  전기\n",
       "26  구로구  전기"
      ]
     },
     "execution_count": 24,
     "metadata": {},
     "output_type": "execute_result"
    }
   ],
   "source": [
    "# 연료가 전기인 것만 뽑음\n",
    "fuel=totalDF1['연료']\n",
    "electric=(fuel=='전기')\n",
    "elecarDF=totalDF1[electric]\n",
    "elecarDF.head()# 전기차"
   ]
  },
  {
   "cell_type": "code",
   "execution_count": 25,
   "id": "e92c1a48",
   "metadata": {
    "scrolled": true
   },
   "outputs": [
    {
     "data": {
      "text/plain": [
       "강남구     12176\n",
       "구로구      3799\n",
       "서초구      3497\n",
       "영등포구     2388\n",
       "송파구      1991\n",
       "Name: 1, dtype: int64"
      ]
     },
     "execution_count": 25,
     "metadata": {},
     "output_type": "execute_result"
    }
   ],
   "source": [
    "# 구역별 값 개수 확인\n",
    "elecarDF[1].value_counts().head()"
   ]
  },
  {
   "cell_type": "code",
   "execution_count": 26,
   "id": "f31a5ff6",
   "metadata": {
    "scrolled": true
   },
   "outputs": [
    {
     "data": {
      "text/html": [
       "<div>\n",
       "<style scoped>\n",
       "    .dataframe tbody tr th:only-of-type {\n",
       "        vertical-align: middle;\n",
       "    }\n",
       "\n",
       "    .dataframe tbody tr th {\n",
       "        vertical-align: top;\n",
       "    }\n",
       "\n",
       "    .dataframe thead th {\n",
       "        text-align: right;\n",
       "    }\n",
       "</style>\n",
       "<table border=\"1\" class=\"dataframe\">\n",
       "  <thead>\n",
       "    <tr style=\"text-align: right;\">\n",
       "      <th></th>\n",
       "      <th>전기차 수</th>\n",
       "    </tr>\n",
       "    <tr>\n",
       "      <th>구역별</th>\n",
       "      <th></th>\n",
       "    </tr>\n",
       "  </thead>\n",
       "  <tbody>\n",
       "    <tr>\n",
       "      <th>강남구</th>\n",
       "      <td>12176</td>\n",
       "    </tr>\n",
       "    <tr>\n",
       "      <th>강동구</th>\n",
       "      <td>1294</td>\n",
       "    </tr>\n",
       "    <tr>\n",
       "      <th>강북구</th>\n",
       "      <td>514</td>\n",
       "    </tr>\n",
       "    <tr>\n",
       "      <th>강서구</th>\n",
       "      <td>1777</td>\n",
       "    </tr>\n",
       "    <tr>\n",
       "      <th>관악구</th>\n",
       "      <td>777</td>\n",
       "    </tr>\n",
       "  </tbody>\n",
       "</table>\n",
       "</div>"
      ],
      "text/plain": [
       "     전기차 수\n",
       "구역별       \n",
       "강남구  12176\n",
       "강동구   1294\n",
       "강북구    514\n",
       "강서구   1777\n",
       "관악구    777"
      ]
     },
     "execution_count": 26,
     "metadata": {},
     "output_type": "execute_result"
    }
   ],
   "source": [
    "# '구역별 전기차 수' 새로운 데이터프레임으로 저장\n",
    "newDF1=pd.DataFrame(elecarDF[1].value_counts())\n",
    "newDF1.reset_index(inplace=True)\n",
    "newDF1.columns=['구역별','전기차 수']\n",
    "newDF1.sort_values('구역별',inplace=True)#구역별 가나다 순으로 정렬\n",
    "newDF1.set_index('구역별',inplace=True)\n",
    "newDF1.head()"
   ]
  },
  {
   "cell_type": "code",
   "execution_count": 27,
   "id": "32020fb9",
   "metadata": {
    "scrolled": true
   },
   "outputs": [
    {
     "data": {
      "text/html": [
       "<div>\n",
       "<style scoped>\n",
       "    .dataframe tbody tr th:only-of-type {\n",
       "        vertical-align: middle;\n",
       "    }\n",
       "\n",
       "    .dataframe tbody tr th {\n",
       "        vertical-align: top;\n",
       "    }\n",
       "\n",
       "    .dataframe thead th {\n",
       "        text-align: right;\n",
       "    }\n",
       "</style>\n",
       "<table border=\"1\" class=\"dataframe\">\n",
       "  <thead>\n",
       "    <tr style=\"text-align: right;\">\n",
       "      <th></th>\n",
       "      <th>전기차 수</th>\n",
       "    </tr>\n",
       "  </thead>\n",
       "  <tbody>\n",
       "    <tr>\n",
       "      <th>mean</th>\n",
       "      <td>1667.720000</td>\n",
       "    </tr>\n",
       "    <tr>\n",
       "      <th>std</th>\n",
       "      <td>2353.401289</td>\n",
       "    </tr>\n",
       "    <tr>\n",
       "      <th>min</th>\n",
       "      <td>514.000000</td>\n",
       "    </tr>\n",
       "    <tr>\n",
       "      <th>max</th>\n",
       "      <td>12176.000000</td>\n",
       "    </tr>\n",
       "  </tbody>\n",
       "</table>\n",
       "</div>"
      ],
      "text/plain": [
       "             전기차 수\n",
       "mean   1667.720000\n",
       "std    2353.401289\n",
       "min     514.000000\n",
       "max   12176.000000"
      ]
     },
     "execution_count": 27,
     "metadata": {},
     "output_type": "execute_result"
    }
   ],
   "source": [
    "# 전기차 수의 평균, 표준편차, 최소값, 최대값 확인\n",
    "newDF1.describe().iloc[[1,2,3,7]]"
   ]
  },
  {
   "cell_type": "code",
   "execution_count": 28,
   "id": "2004ecee",
   "metadata": {
    "scrolled": false
   },
   "outputs": [
    {
     "data": {
      "image/png": "[encoded data removed]",
      "text/plain": [
       "<Figure size 1584x720 with 1 Axes>"
      ]
     },
     "metadata": {
      "needs_background": "light"
     },
     "output_type": "display_data"
    }
   ],
   "source": [
    "# '구역별 전기차 수' 그래프로 나타내기\n",
    "import matplotlib.pyplot as plt\n",
    "\n",
    "plt.rcParams[\"figure.figsize\"]=(22,10)#그래프 사이즈 설정\n",
    "newDF1.plot(kind='bar',color='#FFFF00')#막대 그래프\n",
    "plt.xlabel('<구역별>',size=16)#X축 이름\n",
    "plt.ylabel('<전기차 수>',size=16)#Y축 이름\n",
    "plt.xticks(rotation=20,size=13)\n",
    "plt.yticks(size=13)\n",
    "plt.show()"
   ]
  },
  {
   "cell_type": "code",
   "execution_count": 29,
   "id": "abf6cad7",
   "metadata": {
    "scrolled": false
   },
   "outputs": [
    {
     "name": "stderr",
     "output_type": "stream",
     "text": [
      "C:\\ProgramData\\Anaconda3\\lib\\site-packages\\seaborn\\distributions.py:1699: FutureWarning: The `bw` parameter is deprecated in favor of `bw_method` and `bw_adjust`. Using 0.1 for `bw_method`, but please see the docs for the new parameters and update your code.\n",
      "  warnings.warn(msg, FutureWarning)\n"
     ]
    },
    {
     "data": {
      "text/plain": [
       "<AxesSubplot:xlabel='전기차 수', ylabel='Density'>"
      ]
     },
     "execution_count": 29,
     "metadata": {},
     "output_type": "execute_result"
    },
    {
     "data": {
      "image/png": "[encoded data removed]",
      "text/plain": [
       "<Figure size 1584x720 with 1 Axes>"
      ]
     },
     "metadata": {
      "needs_background": "light"
     },
     "output_type": "display_data"
    }
   ],
   "source": [
    "#분포도\n",
    "import seaborn as sns\n",
    "sns.kdeplot(newDF1['전기차 수'],bw=0.1)"
   ]
  },
  {
   "cell_type": "markdown",
   "id": "6084c09d",
   "metadata": {},
   "source": [
    "# (2) 서울시 구역별 충전소 현황"
   ]
  },
  {
   "cell_type": "code",
   "execution_count": 30,
   "id": "7db21db8",
   "metadata": {
    "scrolled": true
   },
   "outputs": [
    {
     "data": {
      "text/html": [
       "<div>\n",
       "<style scoped>\n",
       "    .dataframe tbody tr th:only-of-type {\n",
       "        vertical-align: middle;\n",
       "    }\n",
       "\n",
       "    .dataframe tbody tr th {\n",
       "        vertical-align: top;\n",
       "    }\n",
       "\n",
       "    .dataframe thead th {\n",
       "        text-align: right;\n",
       "    }\n",
       "</style>\n",
       "<table border=\"1\" class=\"dataframe\">\n",
       "  <thead>\n",
       "    <tr style=\"text-align: right;\">\n",
       "      <th></th>\n",
       "      <th>광역지자체</th>\n",
       "      <th>시군구</th>\n",
       "      <th>50KW</th>\n",
       "      <th>100KW싱글</th>\n",
       "      <th>100KW듀얼</th>\n",
       "      <th>200KW듀얼</th>\n",
       "      <th>300KW이상</th>\n",
       "      <th>사용량(kWh)</th>\n",
       "      <th>등록일시</th>\n",
       "    </tr>\n",
       "  </thead>\n",
       "  <tbody>\n",
       "    <tr>\n",
       "      <th>0</th>\n",
       "      <td>서울특별시</td>\n",
       "      <td>마포구</td>\n",
       "      <td>0</td>\n",
       "      <td>0</td>\n",
       "      <td>6</td>\n",
       "      <td>0</td>\n",
       "      <td>0</td>\n",
       "      <td>3717.56</td>\n",
       "      <td>2020-11-01 23:07:00.0</td>\n",
       "    </tr>\n",
       "    <tr>\n",
       "      <th>1</th>\n",
       "      <td>서울특별시</td>\n",
       "      <td>강남구</td>\n",
       "      <td>0</td>\n",
       "      <td>8</td>\n",
       "      <td>0</td>\n",
       "      <td>0</td>\n",
       "      <td>0</td>\n",
       "      <td>18207.24</td>\n",
       "      <td>2020-11-01 23:07:00.0</td>\n",
       "    </tr>\n",
       "    <tr>\n",
       "      <th>2</th>\n",
       "      <td>서울특별시</td>\n",
       "      <td>중랑구</td>\n",
       "      <td>1</td>\n",
       "      <td>0</td>\n",
       "      <td>0</td>\n",
       "      <td>0</td>\n",
       "      <td>0</td>\n",
       "      <td>42146.62</td>\n",
       "      <td>2020-11-01 23:07:00.0</td>\n",
       "    </tr>\n",
       "    <tr>\n",
       "      <th>3</th>\n",
       "      <td>서울특별시</td>\n",
       "      <td>성북구</td>\n",
       "      <td>2</td>\n",
       "      <td>0</td>\n",
       "      <td>0</td>\n",
       "      <td>0</td>\n",
       "      <td>0</td>\n",
       "      <td>40423.83</td>\n",
       "      <td>2020-11-01 23:07:00.0</td>\n",
       "    </tr>\n",
       "    <tr>\n",
       "      <th>4</th>\n",
       "      <td>서울특별시</td>\n",
       "      <td>성동구</td>\n",
       "      <td>2</td>\n",
       "      <td>0</td>\n",
       "      <td>0</td>\n",
       "      <td>0</td>\n",
       "      <td>0</td>\n",
       "      <td>39226.96</td>\n",
       "      <td>2020-11-01 23:07:00.0</td>\n",
       "    </tr>\n",
       "  </tbody>\n",
       "</table>\n",
       "</div>"
      ],
      "text/plain": [
       "   광역지자체  시군구  50KW  100KW싱글  100KW듀얼  200KW듀얼  300KW이상  사용량(kWh)  \\\n",
       "0  서울특별시  마포구     0        0        6        0        0   3717.56   \n",
       "1  서울특별시  강남구     0        8        0        0        0  18207.24   \n",
       "2  서울특별시  중랑구     1        0        0        0        0  42146.62   \n",
       "3  서울특별시  성북구     2        0        0        0        0  40423.83   \n",
       "4  서울특별시  성동구     2        0        0        0        0  39226.96   \n",
       "\n",
       "                    등록일시  \n",
       "0  2020-11-01 23:07:00.0  \n",
       "1  2020-11-01 23:07:00.0  \n",
       "2  2020-11-01 23:07:00.0  \n",
       "3  2020-11-01 23:07:00.0  \n",
       "4  2020-11-01 23:07:00.0  "
      ]
     },
     "execution_count": 30,
     "metadata": {},
     "output_type": "execute_result"
    }
   ],
   "source": [
    "#서울시 충전소 현황 => 전기차만 뽑고, 구역 묶어 주기\n",
    "FILE_NAME2='서울시 전기차 급속충전기 정보 현황.csv'\n",
    "carDF2=pd.read_csv(FILE_NAME2,encoding='cp949')#인코딩\n",
    "carDF2.head()"
   ]
  },
  {
   "cell_type": "code",
   "execution_count": 31,
   "id": "492aeb11",
   "metadata": {
    "scrolled": false
   },
   "outputs": [
    {
     "data": {
      "text/plain": [
       "시군구        0\n",
       "50KW       0\n",
       "100KW싱글    0\n",
       "100KW듀얼    0\n",
       "200KW듀얼    0\n",
       "300KW이상    0\n",
       "dtype: int64"
      ]
     },
     "execution_count": 31,
     "metadata": {},
     "output_type": "execute_result"
    }
   ],
   "source": [
    "# 필요 없는 칼럼 잘라 줌\n",
    "recarDF2=carDF2.drop(['광역지자체','사용량(kWh)','등록일시'],axis=1)\n",
    "recarDF2.isnull().sum()"
   ]
  },
  {
   "cell_type": "code",
   "execution_count": 32,
   "id": "531c6639",
   "metadata": {},
   "outputs": [
    {
     "data": {
      "text/html": [
       "<div>\n",
       "<style scoped>\n",
       "    .dataframe tbody tr th:only-of-type {\n",
       "        vertical-align: middle;\n",
       "    }\n",
       "\n",
       "    .dataframe tbody tr th {\n",
       "        vertical-align: top;\n",
       "    }\n",
       "\n",
       "    .dataframe thead th {\n",
       "        text-align: right;\n",
       "    }\n",
       "</style>\n",
       "<table border=\"1\" class=\"dataframe\">\n",
       "  <thead>\n",
       "    <tr style=\"text-align: right;\">\n",
       "      <th></th>\n",
       "      <th>시군구</th>\n",
       "    </tr>\n",
       "  </thead>\n",
       "  <tbody>\n",
       "    <tr>\n",
       "      <th>0</th>\n",
       "      <td>마포구</td>\n",
       "    </tr>\n",
       "    <tr>\n",
       "      <th>1</th>\n",
       "      <td>강남구</td>\n",
       "    </tr>\n",
       "    <tr>\n",
       "      <th>2</th>\n",
       "      <td>중랑구</td>\n",
       "    </tr>\n",
       "    <tr>\n",
       "      <th>3</th>\n",
       "      <td>성북구</td>\n",
       "    </tr>\n",
       "    <tr>\n",
       "      <th>4</th>\n",
       "      <td>성동구</td>\n",
       "    </tr>\n",
       "  </tbody>\n",
       "</table>\n",
       "</div>"
      ],
      "text/plain": [
       "   시군구\n",
       "0  마포구\n",
       "1  강남구\n",
       "2  중랑구\n",
       "3  성북구\n",
       "4  성동구"
      ]
     },
     "execution_count": 32,
     "metadata": {},
     "output_type": "execute_result"
    }
   ],
   "source": [
    "# recarDF2 데이터에서 '시군구' 칼럼 빼고 지워 줌\n",
    "discarDF2=recarDF2.drop(['50KW','100KW싱글','100KW듀얼','200KW듀얼','300KW이상'],axis=1)\n",
    "discarDF2.head()"
   ]
  },
  {
   "cell_type": "code",
   "execution_count": 33,
   "id": "f9f43493",
   "metadata": {},
   "outputs": [
    {
     "data": {
      "text/html": [
       "<div>\n",
       "<style scoped>\n",
       "    .dataframe tbody tr th:only-of-type {\n",
       "        vertical-align: middle;\n",
       "    }\n",
       "\n",
       "    .dataframe tbody tr th {\n",
       "        vertical-align: top;\n",
       "    }\n",
       "\n",
       "    .dataframe thead th {\n",
       "        text-align: right;\n",
       "    }\n",
       "</style>\n",
       "<table border=\"1\" class=\"dataframe\">\n",
       "  <thead>\n",
       "    <tr style=\"text-align: right;\">\n",
       "      <th></th>\n",
       "      <th>0</th>\n",
       "    </tr>\n",
       "  </thead>\n",
       "  <tbody>\n",
       "    <tr>\n",
       "      <th>0</th>\n",
       "      <td>6</td>\n",
       "    </tr>\n",
       "    <tr>\n",
       "      <th>1</th>\n",
       "      <td>8</td>\n",
       "    </tr>\n",
       "    <tr>\n",
       "      <th>2</th>\n",
       "      <td>1</td>\n",
       "    </tr>\n",
       "    <tr>\n",
       "      <th>3</th>\n",
       "      <td>2</td>\n",
       "    </tr>\n",
       "    <tr>\n",
       "      <th>4</th>\n",
       "      <td>2</td>\n",
       "    </tr>\n",
       "  </tbody>\n",
       "</table>\n",
       "</div>"
      ],
      "text/plain": [
       "   0\n",
       "0  6\n",
       "1  8\n",
       "2  1\n",
       "3  2\n",
       "4  2"
      ]
     },
     "execution_count": 33,
     "metadata": {},
     "output_type": "execute_result"
    }
   ],
   "source": [
    "# recarDF2에서 충전소 수를 계산하기 위해 값들 더해서 새로운 DF 생성\n",
    "countDF=recarDF2['50KW']+recarDF2['100KW싱글']+recarDF2['100KW듀얼']+recarDF2['200KW듀얼']+recarDF2['300KW이상']\n",
    "countDF=pd.DataFrame(countDF)\n",
    "countDF.head()"
   ]
  },
  {
   "cell_type": "code",
   "execution_count": 34,
   "id": "0af1bd4a",
   "metadata": {
    "scrolled": true
   },
   "outputs": [
    {
     "data": {
      "text/html": [
       "<div>\n",
       "<style scoped>\n",
       "    .dataframe tbody tr th:only-of-type {\n",
       "        vertical-align: middle;\n",
       "    }\n",
       "\n",
       "    .dataframe tbody tr th {\n",
       "        vertical-align: top;\n",
       "    }\n",
       "\n",
       "    .dataframe thead th {\n",
       "        text-align: right;\n",
       "    }\n",
       "</style>\n",
       "<table border=\"1\" class=\"dataframe\">\n",
       "  <thead>\n",
       "    <tr style=\"text-align: right;\">\n",
       "      <th></th>\n",
       "      <th>시군구</th>\n",
       "      <th>0</th>\n",
       "    </tr>\n",
       "  </thead>\n",
       "  <tbody>\n",
       "    <tr>\n",
       "      <th>0</th>\n",
       "      <td>마포구</td>\n",
       "      <td>6</td>\n",
       "    </tr>\n",
       "    <tr>\n",
       "      <th>1</th>\n",
       "      <td>강남구</td>\n",
       "      <td>8</td>\n",
       "    </tr>\n",
       "    <tr>\n",
       "      <th>2</th>\n",
       "      <td>중랑구</td>\n",
       "      <td>1</td>\n",
       "    </tr>\n",
       "    <tr>\n",
       "      <th>3</th>\n",
       "      <td>성북구</td>\n",
       "      <td>2</td>\n",
       "    </tr>\n",
       "    <tr>\n",
       "      <th>4</th>\n",
       "      <td>성동구</td>\n",
       "      <td>2</td>\n",
       "    </tr>\n",
       "  </tbody>\n",
       "</table>\n",
       "</div>"
      ],
      "text/plain": [
       "   시군구  0\n",
       "0  마포구  6\n",
       "1  강남구  8\n",
       "2  중랑구  1\n",
       "3  성북구  2\n",
       "4  성동구  2"
      ]
     },
     "execution_count": 34,
     "metadata": {},
     "output_type": "execute_result"
    }
   ],
   "source": [
    "# 앞에 데이터 2개 합쳐 주기\n",
    "totalDF2=pd.concat([discarDF2,countDF],axis=1)\n",
    "totalDF2.head()"
   ]
  },
  {
   "cell_type": "code",
   "execution_count": 35,
   "id": "1c7156a5",
   "metadata": {
    "scrolled": true
   },
   "outputs": [
    {
     "data": {
      "text/plain": [
       "강남구     32\n",
       "강서구     23\n",
       "송파구     21\n",
       "서초구     21\n",
       "영등포구    20\n",
       "Name: 시군구, dtype: int64"
      ]
     },
     "execution_count": 35,
     "metadata": {},
     "output_type": "execute_result"
    }
   ],
   "source": [
    "# 시군구별 개수\n",
    "totalDF2.시군구.value_counts().head()"
   ]
  },
  {
   "cell_type": "code",
   "execution_count": 36,
   "id": "5c2f3078",
   "metadata": {
    "scrolled": true
   },
   "outputs": [
    {
     "data": {
      "text/html": [
       "<div>\n",
       "<style scoped>\n",
       "    .dataframe tbody tr th:only-of-type {\n",
       "        vertical-align: middle;\n",
       "    }\n",
       "\n",
       "    .dataframe tbody tr th {\n",
       "        vertical-align: top;\n",
       "    }\n",
       "\n",
       "    .dataframe thead th {\n",
       "        text-align: right;\n",
       "    }\n",
       "</style>\n",
       "<table border=\"1\" class=\"dataframe\">\n",
       "  <thead>\n",
       "    <tr style=\"text-align: right;\">\n",
       "      <th></th>\n",
       "      <th>충전소 수</th>\n",
       "    </tr>\n",
       "    <tr>\n",
       "      <th>구역별</th>\n",
       "      <th></th>\n",
       "    </tr>\n",
       "  </thead>\n",
       "  <tbody>\n",
       "    <tr>\n",
       "      <th>강남구</th>\n",
       "      <td>32</td>\n",
       "    </tr>\n",
       "    <tr>\n",
       "      <th>강동구</th>\n",
       "      <td>12</td>\n",
       "    </tr>\n",
       "    <tr>\n",
       "      <th>강북구</th>\n",
       "      <td>7</td>\n",
       "    </tr>\n",
       "    <tr>\n",
       "      <th>강서구</th>\n",
       "      <td>23</td>\n",
       "    </tr>\n",
       "    <tr>\n",
       "      <th>관악구</th>\n",
       "      <td>11</td>\n",
       "    </tr>\n",
       "  </tbody>\n",
       "</table>\n",
       "</div>"
      ],
      "text/plain": [
       "     충전소 수\n",
       "구역별       \n",
       "강남구     32\n",
       "강동구     12\n",
       "강북구      7\n",
       "강서구     23\n",
       "관악구     11"
      ]
     },
     "execution_count": 36,
     "metadata": {},
     "output_type": "execute_result"
    }
   ],
   "source": [
    "# 새로운 데이터프레임으로 저장\n",
    "newDF2=pd.DataFrame(totalDF2.시군구.value_counts())\n",
    "newDF2.reset_index(inplace=True)\n",
    "newDF2.columns=['구역별','충전소 수']\n",
    "newDF2.sort_values('구역별',inplace=True)#구역별 가나다 순으로 정렬\n",
    "newDF2.set_index('구역별',inplace=True)\n",
    "newDF2.head()"
   ]
  },
  {
   "cell_type": "code",
   "execution_count": 37,
   "id": "0b18529f",
   "metadata": {},
   "outputs": [
    {
     "data": {
      "text/html": [
       "<div>\n",
       "<style scoped>\n",
       "    .dataframe tbody tr th:only-of-type {\n",
       "        vertical-align: middle;\n",
       "    }\n",
       "\n",
       "    .dataframe tbody tr th {\n",
       "        vertical-align: top;\n",
       "    }\n",
       "\n",
       "    .dataframe thead th {\n",
       "        text-align: right;\n",
       "    }\n",
       "</style>\n",
       "<table border=\"1\" class=\"dataframe\">\n",
       "  <thead>\n",
       "    <tr style=\"text-align: right;\">\n",
       "      <th></th>\n",
       "      <th>충전소 수</th>\n",
       "    </tr>\n",
       "  </thead>\n",
       "  <tbody>\n",
       "    <tr>\n",
       "      <th>mean</th>\n",
       "      <td>13.800000</td>\n",
       "    </tr>\n",
       "    <tr>\n",
       "      <th>std</th>\n",
       "      <td>6.278269</td>\n",
       "    </tr>\n",
       "    <tr>\n",
       "      <th>min</th>\n",
       "      <td>6.000000</td>\n",
       "    </tr>\n",
       "    <tr>\n",
       "      <th>max</th>\n",
       "      <td>32.000000</td>\n",
       "    </tr>\n",
       "  </tbody>\n",
       "</table>\n",
       "</div>"
      ],
      "text/plain": [
       "          충전소 수\n",
       "mean  13.800000\n",
       "std    6.278269\n",
       "min    6.000000\n",
       "max   32.000000"
      ]
     },
     "execution_count": 37,
     "metadata": {},
     "output_type": "execute_result"
    }
   ],
   "source": [
    "# 충전소 평균값, 표준편차, 최소값, 최대값\n",
    "newDF2.describe().iloc[[1,2,3,7]]"
   ]
  },
  {
   "cell_type": "code",
   "execution_count": 38,
   "id": "96789816",
   "metadata": {
    "scrolled": false
   },
   "outputs": [
    {
     "data": {
      "image/png": "[encoded data removed]",
      "text/plain": [
       "<Figure size 1584x720 with 1 Axes>"
      ]
     },
     "metadata": {
      "needs_background": "light"
     },
     "output_type": "display_data"
    }
   ],
   "source": [
    "# '구역별 충전소 수' 그래프로 나타내기\n",
    "newDF2.plot(kind='bar',color='#008200')#막대 그래프\n",
    "plt.xlabel('<구역별>',size=16)#X축 이름\n",
    "plt.ylabel('<충전소 수>',size=16)#Y축 이름\n",
    "plt.xticks(rotation=20,size=13)\n",
    "plt.yticks(size=13)\n",
    "plt.show()"
   ]
  },
  {
   "cell_type": "code",
   "execution_count": 39,
   "id": "f2735032",
   "metadata": {
    "scrolled": false
   },
   "outputs": [
    {
     "data": {
      "image/png": "[encoded data removed]",
      "text/plain": [
       "<Figure size 1584x720 with 1 Axes>"
      ]
     },
     "metadata": {
      "needs_background": "light"
     },
     "output_type": "display_data"
    }
   ],
   "source": [
    "# 전기차 수와 충전소 수 비교 그래프\n",
    "plt.plot(newDF1,label='전기차 수',color='blue',marker='o')\n",
    "plt.plot(newDF2,label='충전소 수',color='red',marker='o')\n",
    "plt.xlabel('<구역별>',size=16)\n",
    "plt.legend(['전기차 수','충전소 수'],fontsize=17)\n",
    "plt.xticks(rotation=20,size=13)\n",
    "plt.yticks(size=13)\n",
    "plt.show()"
   ]
  },
  {
   "cell_type": "markdown",
   "id": "1b299d54",
   "metadata": {},
   "source": [
    "# (3) 1-2를 바탕으로 결과 도출"
   ]
  },
  {
   "cell_type": "code",
   "execution_count": 40,
   "id": "9b1b2b69",
   "metadata": {
    "scrolled": true
   },
   "outputs": [
    {
     "data": {
      "text/html": [
       "<div>\n",
       "<style scoped>\n",
       "    .dataframe tbody tr th:only-of-type {\n",
       "        vertical-align: middle;\n",
       "    }\n",
       "\n",
       "    .dataframe tbody tr th {\n",
       "        vertical-align: top;\n",
       "    }\n",
       "\n",
       "    .dataframe thead th {\n",
       "        text-align: right;\n",
       "    }\n",
       "</style>\n",
       "<table border=\"1\" class=\"dataframe\">\n",
       "  <thead>\n",
       "    <tr style=\"text-align: right;\">\n",
       "      <th></th>\n",
       "      <th>구역별</th>\n",
       "      <th>전기차 수</th>\n",
       "      <th>충전소 수</th>\n",
       "    </tr>\n",
       "  </thead>\n",
       "  <tbody>\n",
       "    <tr>\n",
       "      <th>0</th>\n",
       "      <td>강남구</td>\n",
       "      <td>12176</td>\n",
       "      <td>32</td>\n",
       "    </tr>\n",
       "    <tr>\n",
       "      <th>1</th>\n",
       "      <td>강동구</td>\n",
       "      <td>1294</td>\n",
       "      <td>12</td>\n",
       "    </tr>\n",
       "    <tr>\n",
       "      <th>2</th>\n",
       "      <td>강북구</td>\n",
       "      <td>514</td>\n",
       "      <td>7</td>\n",
       "    </tr>\n",
       "    <tr>\n",
       "      <th>3</th>\n",
       "      <td>강서구</td>\n",
       "      <td>1777</td>\n",
       "      <td>23</td>\n",
       "    </tr>\n",
       "    <tr>\n",
       "      <th>4</th>\n",
       "      <td>관악구</td>\n",
       "      <td>777</td>\n",
       "      <td>11</td>\n",
       "    </tr>\n",
       "  </tbody>\n",
       "</table>\n",
       "</div>"
      ],
      "text/plain": [
       "   구역별  전기차 수  충전소 수\n",
       "0  강남구  12176     32\n",
       "1  강동구   1294     12\n",
       "2  강북구    514      7\n",
       "3  강서구   1777     23\n",
       "4  관악구    777     11"
      ]
     },
     "execution_count": 40,
     "metadata": {},
     "output_type": "execute_result"
    }
   ],
   "source": [
    "# 1번, 2번 데이터 합치기\n",
    "reDF=pd.merge(newDF1,newDF2,on='구역별')\n",
    "reDF.reset_index('구역별',inplace=True)\n",
    "reDF.head()"
   ]
  },
  {
   "cell_type": "code",
   "execution_count": 41,
   "id": "5d3ebcb5",
   "metadata": {
    "scrolled": true
   },
   "outputs": [
    {
     "data": {
      "text/html": [
       "<div>\n",
       "<style scoped>\n",
       "    .dataframe tbody tr th:only-of-type {\n",
       "        vertical-align: middle;\n",
       "    }\n",
       "\n",
       "    .dataframe tbody tr th {\n",
       "        vertical-align: top;\n",
       "    }\n",
       "\n",
       "    .dataframe thead th {\n",
       "        text-align: right;\n",
       "    }\n",
       "</style>\n",
       "<table border=\"1\" class=\"dataframe\">\n",
       "  <thead>\n",
       "    <tr style=\"text-align: right;\">\n",
       "      <th></th>\n",
       "      <th>전기차 수</th>\n",
       "      <th>충전소 수</th>\n",
       "      <th>전기차/충전소 수</th>\n",
       "    </tr>\n",
       "    <tr>\n",
       "      <th>구역별</th>\n",
       "      <th></th>\n",
       "      <th></th>\n",
       "      <th></th>\n",
       "    </tr>\n",
       "  </thead>\n",
       "  <tbody>\n",
       "    <tr>\n",
       "      <th>강남구</th>\n",
       "      <td>12176</td>\n",
       "      <td>32</td>\n",
       "      <td>380</td>\n",
       "    </tr>\n",
       "    <tr>\n",
       "      <th>강동구</th>\n",
       "      <td>1294</td>\n",
       "      <td>12</td>\n",
       "      <td>107</td>\n",
       "    </tr>\n",
       "    <tr>\n",
       "      <th>강북구</th>\n",
       "      <td>514</td>\n",
       "      <td>7</td>\n",
       "      <td>73</td>\n",
       "    </tr>\n",
       "    <tr>\n",
       "      <th>강서구</th>\n",
       "      <td>1777</td>\n",
       "      <td>23</td>\n",
       "      <td>77</td>\n",
       "    </tr>\n",
       "    <tr>\n",
       "      <th>관악구</th>\n",
       "      <td>777</td>\n",
       "      <td>11</td>\n",
       "      <td>70</td>\n",
       "    </tr>\n",
       "  </tbody>\n",
       "</table>\n",
       "</div>"
      ],
      "text/plain": [
       "     전기차 수  충전소 수  전기차/충전소 수\n",
       "구역별                         \n",
       "강남구  12176     32        380\n",
       "강동구   1294     12        107\n",
       "강북구    514      7         73\n",
       "강서구   1777     23         77\n",
       "관악구    777     11         70"
      ]
     },
     "execution_count": 41,
     "metadata": {},
     "output_type": "execute_result"
    }
   ],
   "source": [
    "# 구역별 충전소 하나가 감당하는 전기차 수 DF 생성\n",
    "total=[]\n",
    "for i in range(25):\n",
    "    total.append(int(reDF.iloc[i,1]/reDF.iloc[i,2]))#소수점 버림\n",
    "assignDF=pd.DataFrame(total)\n",
    "assignDF.columns=['전기차/충전소 수']\n",
    "resultDF=pd.concat([reDF,assignDF],axis=1)\n",
    "resultDF.set_index('구역별',inplace=True)\n",
    "resultDF.head()"
   ]
  },
  {
   "cell_type": "code",
   "execution_count": 42,
   "id": "cb7c33e8",
   "metadata": {
    "scrolled": false
   },
   "outputs": [
    {
     "data": {
      "image/png": "[encoded data removed]",
      "text/plain": [
       "<Figure size 1584x720 with 1 Axes>"
      ]
     },
     "metadata": {
      "needs_background": "light"
     },
     "output_type": "display_data"
    }
   ],
   "source": [
    "# 구역별 충전소 하나가 감당하는 전기차 수 그래프\n",
    "resultDF['전기차/충전소 수'].plot(kind='bar',color='skyblue')#막대 그래프\n",
    "plt.xlabel('<구역별>',size=16)#X축 이름\n",
    "plt.ylabel('<전기차/충전소 수>',size=16)#Y축 이름\n",
    "plt.xticks(rotation=20,size=13)\n",
    "plt.yticks(size=13)\n",
    "plt.show()"
   ]
  },
  {
   "cell_type": "code",
   "execution_count": 43,
   "id": "908c9d7a",
   "metadata": {},
   "outputs": [
    {
     "data": {
      "text/html": [
       "<div>\n",
       "<style scoped>\n",
       "    .dataframe tbody tr th:only-of-type {\n",
       "        vertical-align: middle;\n",
       "    }\n",
       "\n",
       "    .dataframe tbody tr th {\n",
       "        vertical-align: top;\n",
       "    }\n",
       "\n",
       "    .dataframe thead th {\n",
       "        text-align: right;\n",
       "    }\n",
       "</style>\n",
       "<table border=\"1\" class=\"dataframe\">\n",
       "  <thead>\n",
       "    <tr style=\"text-align: right;\">\n",
       "      <th></th>\n",
       "      <th>전기차 수</th>\n",
       "    </tr>\n",
       "    <tr>\n",
       "      <th>구역별</th>\n",
       "      <th></th>\n",
       "    </tr>\n",
       "  </thead>\n",
       "  <tbody>\n",
       "    <tr>\n",
       "      <th>강남구</th>\n",
       "      <td>12176</td>\n",
       "    </tr>\n",
       "    <tr>\n",
       "      <th>구로구</th>\n",
       "      <td>3799</td>\n",
       "    </tr>\n",
       "    <tr>\n",
       "      <th>서초구</th>\n",
       "      <td>3497</td>\n",
       "    </tr>\n",
       "    <tr>\n",
       "      <th>영등포구</th>\n",
       "      <td>2388</td>\n",
       "    </tr>\n",
       "    <tr>\n",
       "      <th>송파구</th>\n",
       "      <td>1991</td>\n",
       "    </tr>\n",
       "  </tbody>\n",
       "</table>\n",
       "</div>"
      ],
      "text/plain": [
       "      전기차 수\n",
       "구역별        \n",
       "강남구   12176\n",
       "구로구    3799\n",
       "서초구    3497\n",
       "영등포구   2388\n",
       "송파구    1991"
      ]
     },
     "execution_count": 43,
     "metadata": {},
     "output_type": "execute_result"
    }
   ],
   "source": [
    "# 구역별 전기차 수 상위 5위\n",
    "compare=resultDF.sort_values('전기차 수',ascending=False)\n",
    "compare.head()[['전기차 수']]"
   ]
  },
  {
   "cell_type": "code",
   "execution_count": 44,
   "id": "48b7ccca",
   "metadata": {
    "scrolled": false
   },
   "outputs": [
    {
     "data": {
      "text/html": [
       "<div>\n",
       "<style scoped>\n",
       "    .dataframe tbody tr th:only-of-type {\n",
       "        vertical-align: middle;\n",
       "    }\n",
       "\n",
       "    .dataframe tbody tr th {\n",
       "        vertical-align: top;\n",
       "    }\n",
       "\n",
       "    .dataframe thead th {\n",
       "        text-align: right;\n",
       "    }\n",
       "</style>\n",
       "<table border=\"1\" class=\"dataframe\">\n",
       "  <thead>\n",
       "    <tr style=\"text-align: right;\">\n",
       "      <th></th>\n",
       "      <th>충전소 수</th>\n",
       "    </tr>\n",
       "    <tr>\n",
       "      <th>구역별</th>\n",
       "      <th></th>\n",
       "    </tr>\n",
       "  </thead>\n",
       "  <tbody>\n",
       "    <tr>\n",
       "      <th>강남구</th>\n",
       "      <td>32</td>\n",
       "    </tr>\n",
       "    <tr>\n",
       "      <th>강서구</th>\n",
       "      <td>23</td>\n",
       "    </tr>\n",
       "    <tr>\n",
       "      <th>서초구</th>\n",
       "      <td>21</td>\n",
       "    </tr>\n",
       "    <tr>\n",
       "      <th>송파구</th>\n",
       "      <td>21</td>\n",
       "    </tr>\n",
       "    <tr>\n",
       "      <th>영등포구</th>\n",
       "      <td>20</td>\n",
       "    </tr>\n",
       "  </tbody>\n",
       "</table>\n",
       "</div>"
      ],
      "text/plain": [
       "      충전소 수\n",
       "구역별        \n",
       "강남구      32\n",
       "강서구      23\n",
       "서초구      21\n",
       "송파구      21\n",
       "영등포구     20"
      ]
     },
     "execution_count": 44,
     "metadata": {},
     "output_type": "execute_result"
    }
   ],
   "source": [
    "# 구역별 충전소 수 상위 5위\n",
    "compare=resultDF.sort_values('충전소 수',ascending=False)\n",
    "compare.head()[['충전소 수']]"
   ]
  },
  {
   "cell_type": "code",
   "execution_count": 45,
   "id": "d7800d8b",
   "metadata": {
    "scrolled": true
   },
   "outputs": [
    {
     "data": {
      "text/html": [
       "<div>\n",
       "<style scoped>\n",
       "    .dataframe tbody tr th:only-of-type {\n",
       "        vertical-align: middle;\n",
       "    }\n",
       "\n",
       "    .dataframe tbody tr th {\n",
       "        vertical-align: top;\n",
       "    }\n",
       "\n",
       "    .dataframe thead th {\n",
       "        text-align: right;\n",
       "    }\n",
       "</style>\n",
       "<table border=\"1\" class=\"dataframe\">\n",
       "  <thead>\n",
       "    <tr style=\"text-align: right;\">\n",
       "      <th></th>\n",
       "      <th>전기차/충전소 수</th>\n",
       "    </tr>\n",
       "  </thead>\n",
       "  <tbody>\n",
       "    <tr>\n",
       "      <th>mean</th>\n",
       "      <td>105.44</td>\n",
       "    </tr>\n",
       "  </tbody>\n",
       "</table>\n",
       "</div>"
      ],
      "text/plain": [
       "      전기차/충전소 수\n",
       "mean     105.44"
      ]
     },
     "execution_count": 45,
     "metadata": {},
     "output_type": "execute_result"
    }
   ],
   "source": [
    "# 평균값\n",
    "resultDF.describe().iloc[[1]][['전기차/충전소 수']]"
   ]
  },
  {
   "cell_type": "code",
   "execution_count": 46,
   "id": "ef059e3a",
   "metadata": {
    "scrolled": true
   },
   "outputs": [
    {
     "data": {
      "text/html": [
       "<div>\n",
       "<style scoped>\n",
       "    .dataframe tbody tr th:only-of-type {\n",
       "        vertical-align: middle;\n",
       "    }\n",
       "\n",
       "    .dataframe tbody tr th {\n",
       "        vertical-align: top;\n",
       "    }\n",
       "\n",
       "    .dataframe thead th {\n",
       "        text-align: right;\n",
       "    }\n",
       "</style>\n",
       "<table border=\"1\" class=\"dataframe\">\n",
       "  <thead>\n",
       "    <tr style=\"text-align: right;\">\n",
       "      <th></th>\n",
       "      <th>전기차/충전소 수</th>\n",
       "    </tr>\n",
       "    <tr>\n",
       "      <th>구역별</th>\n",
       "      <th></th>\n",
       "    </tr>\n",
       "  </thead>\n",
       "  <tbody>\n",
       "    <tr>\n",
       "      <th>강남구</th>\n",
       "      <td>380</td>\n",
       "    </tr>\n",
       "    <tr>\n",
       "      <th>강동구</th>\n",
       "      <td>107</td>\n",
       "    </tr>\n",
       "    <tr>\n",
       "      <th>구로구</th>\n",
       "      <td>316</td>\n",
       "    </tr>\n",
       "    <tr>\n",
       "      <th>동대문구</th>\n",
       "      <td>109</td>\n",
       "    </tr>\n",
       "    <tr>\n",
       "      <th>서초구</th>\n",
       "      <td>166</td>\n",
       "    </tr>\n",
       "    <tr>\n",
       "      <th>성북구</th>\n",
       "      <td>115</td>\n",
       "    </tr>\n",
       "    <tr>\n",
       "      <th>영등포구</th>\n",
       "      <td>119</td>\n",
       "    </tr>\n",
       "    <tr>\n",
       "      <th>중랑구</th>\n",
       "      <td>111</td>\n",
       "    </tr>\n",
       "  </tbody>\n",
       "</table>\n",
       "</div>"
      ],
      "text/plain": [
       "      전기차/충전소 수\n",
       "구역별            \n",
       "강남구         380\n",
       "강동구         107\n",
       "구로구         316\n",
       "동대문구        109\n",
       "서초구         166\n",
       "성북구         115\n",
       "영등포구        119\n",
       "중랑구         111"
      ]
     },
     "execution_count": 46,
     "metadata": {},
     "output_type": "execute_result"
    }
   ],
   "source": [
    "# 감당해야 할 수가 평균 이상 구역들\n",
    "meanCount=resultDF.describe()['전기차/충전소 수'][1]\n",
    "count=resultDF['전기차/충전소 수']\n",
    "resultDF[count>=meanCount][['전기차/충전소 수']]"
   ]
  },
  {
   "cell_type": "code",
   "execution_count": 47,
   "id": "28f9d5cd",
   "metadata": {
    "scrolled": true
   },
   "outputs": [
    {
     "data": {
      "text/html": [
       "<div>\n",
       "<style scoped>\n",
       "    .dataframe tbody tr th:only-of-type {\n",
       "        vertical-align: middle;\n",
       "    }\n",
       "\n",
       "    .dataframe tbody tr th {\n",
       "        vertical-align: top;\n",
       "    }\n",
       "\n",
       "    .dataframe thead th {\n",
       "        text-align: right;\n",
       "    }\n",
       "</style>\n",
       "<table border=\"1\" class=\"dataframe\">\n",
       "  <thead>\n",
       "    <tr style=\"text-align: right;\">\n",
       "      <th></th>\n",
       "      <th>전기차/충전소 수</th>\n",
       "    </tr>\n",
       "    <tr>\n",
       "      <th>구역별</th>\n",
       "      <th></th>\n",
       "    </tr>\n",
       "  </thead>\n",
       "  <tbody>\n",
       "    <tr>\n",
       "      <th>강남구</th>\n",
       "      <td>380</td>\n",
       "    </tr>\n",
       "    <tr>\n",
       "      <th>구로구</th>\n",
       "      <td>316</td>\n",
       "    </tr>\n",
       "    <tr>\n",
       "      <th>서초구</th>\n",
       "      <td>166</td>\n",
       "    </tr>\n",
       "    <tr>\n",
       "      <th>영등포구</th>\n",
       "      <td>119</td>\n",
       "    </tr>\n",
       "    <tr>\n",
       "      <th>성북구</th>\n",
       "      <td>115</td>\n",
       "    </tr>\n",
       "  </tbody>\n",
       "</table>\n",
       "</div>"
      ],
      "text/plain": [
       "      전기차/충전소 수\n",
       "구역별            \n",
       "강남구         380\n",
       "구로구         316\n",
       "서초구         166\n",
       "영등포구        119\n",
       "성북구         115"
      ]
     },
     "execution_count": 47,
     "metadata": {},
     "output_type": "execute_result"
    }
   ],
   "source": [
    "# => 보충이 필요할 것 같은 구역 5위\n",
    "compare=resultDF.sort_values('전기차/충전소 수',ascending=False)\n",
    "compare.head()[['전기차/충전소 수']]"
   ]
  },
  {
   "cell_type": "markdown",
   "id": "003dd237",
   "metadata": {},
   "source": [
    "### ○ 결론 =>\n",
    "- 1. 전기차 수 & 전기차충전소 수: 상위 5개를 보면 대체적으로 전기차수가 많은 행정구역이 충전소 수도 많다는 것을 알 수 있음. (4개의 구역이 겹침) \n",
    "- 2. 충전소 한대당 감당하는 전기차수: 제일 눈에 띄는 강남구를 살펴봤을 때 충전소 수가 제일 많아 다른 구역에 충전소 분포를 집중해야 할 것 같지만 전기차수도 월등하게 많아 충전소 한대당 감당하는 전기차수 순위도 상위권을 차지함. 그렇기 때문에 마냥 충전소 수가 적은 구역를 따지기보다는 위와 같이 충전소와 전기차수의 비율을 고려해 결정할 필요가 있음."
   ]
  },
  {
   "cell_type": "code",
   "execution_count": null,
   "id": "9ce76e0e",
   "metadata": {},
   "outputs": [],
   "source": []
  }
 ],
 "metadata": {
  "kernelspec": {
   "display_name": "Python 3 (ipykernel)",
   "language": "python",
   "name": "python3"
  },
  "language_info": {
   "codemirror_mode": {
    "name": "ipython",
    "version": 3
   },
   "file_extension": ".py",
   "mimetype": "text/x-python",
   "name": "python",
   "nbconvert_exporter": "python",
   "pygments_lexer": "ipython3",
   "version": "3.9.12"
  },
  "vscode": {
   "interpreter": {
    "hash": "d1dde8d3f1fc6169eb2afb9c884f1482ff31994a855398e316a83a9dc8ff488b"
   }
  }
 },
 "nbformat": 4,
 "nbformat_minor": 5
}
