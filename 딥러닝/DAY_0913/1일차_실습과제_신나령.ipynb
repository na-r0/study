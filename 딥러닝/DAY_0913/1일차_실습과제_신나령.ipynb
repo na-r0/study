{
 "cells": [
  {
   "cell_type": "markdown",
   "metadata": {},
   "source": [
    "#### 자동차 연비 분석 및 예측"
   ]
  },
  {
   "cell_type": "markdown",
   "metadata": {},
   "source": [
    "1. 데이터 불러오기"
   ]
  },
  {
   "cell_type": "code",
   "execution_count": 1,
   "metadata": {},
   "outputs": [
    {
     "data": {
      "text/plain": [
       "('auto_mpg.csv', <http.client.HTTPMessage at 0x2ee72556eb0>)"
      ]
     },
     "execution_count": 1,
     "metadata": {},
     "output_type": "execute_result"
    }
   ],
   "source": [
    "import urllib.request\n",
    "\n",
    "urllib.request.urlretrieve('https://archive.ics.uci.edu/ml/machine-learning-databases/auto-mpg/auto-mpg.data', 'auto_mpg.csv')"
   ]
  },
  {
   "cell_type": "code",
   "execution_count": 2,
   "metadata": {},
   "outputs": [],
   "source": [
    "import warnings\n",
    "\n",
    "warnings.filterwarnings(action='ignore')"
   ]
  },
  {
   "cell_type": "code",
   "execution_count": 3,
   "metadata": {},
   "outputs": [],
   "source": [
    "# re(정규표현식) => \\s: 화이트스페이스, \\S: 제외한 어쩌구\n",
    "import pandas as pd\n",
    "\n",
    "mpgDf = pd.read_csv('auto_mpg.csv', header=None, sep='\\s+')"
   ]
  },
  {
   "cell_type": "code",
   "execution_count": 4,
   "metadata": {},
   "outputs": [
    {
     "data": {
      "text/html": [
       "<div>\n",
       "<style scoped>\n",
       "    .dataframe tbody tr th:only-of-type {\n",
       "        vertical-align: middle;\n",
       "    }\n",
       "\n",
       "    .dataframe tbody tr th {\n",
       "        vertical-align: top;\n",
       "    }\n",
       "\n",
       "    .dataframe thead th {\n",
       "        text-align: right;\n",
       "    }\n",
       "</style>\n",
       "<table border=\"1\" class=\"dataframe\">\n",
       "  <thead>\n",
       "    <tr style=\"text-align: right;\">\n",
       "      <th></th>\n",
       "      <th>0</th>\n",
       "      <th>1</th>\n",
       "      <th>2</th>\n",
       "      <th>3</th>\n",
       "      <th>4</th>\n",
       "      <th>5</th>\n",
       "      <th>6</th>\n",
       "      <th>7</th>\n",
       "      <th>8</th>\n",
       "    </tr>\n",
       "  </thead>\n",
       "  <tbody>\n",
       "    <tr>\n",
       "      <th>0</th>\n",
       "      <td>18.0</td>\n",
       "      <td>8</td>\n",
       "      <td>307.0</td>\n",
       "      <td>130.0</td>\n",
       "      <td>3504.0</td>\n",
       "      <td>12.0</td>\n",
       "      <td>70</td>\n",
       "      <td>1</td>\n",
       "      <td>chevrolet chevelle malibu</td>\n",
       "    </tr>\n",
       "    <tr>\n",
       "      <th>1</th>\n",
       "      <td>15.0</td>\n",
       "      <td>8</td>\n",
       "      <td>350.0</td>\n",
       "      <td>165.0</td>\n",
       "      <td>3693.0</td>\n",
       "      <td>11.5</td>\n",
       "      <td>70</td>\n",
       "      <td>1</td>\n",
       "      <td>buick skylark 320</td>\n",
       "    </tr>\n",
       "    <tr>\n",
       "      <th>2</th>\n",
       "      <td>18.0</td>\n",
       "      <td>8</td>\n",
       "      <td>318.0</td>\n",
       "      <td>150.0</td>\n",
       "      <td>3436.0</td>\n",
       "      <td>11.0</td>\n",
       "      <td>70</td>\n",
       "      <td>1</td>\n",
       "      <td>plymouth satellite</td>\n",
       "    </tr>\n",
       "    <tr>\n",
       "      <th>3</th>\n",
       "      <td>16.0</td>\n",
       "      <td>8</td>\n",
       "      <td>304.0</td>\n",
       "      <td>150.0</td>\n",
       "      <td>3433.0</td>\n",
       "      <td>12.0</td>\n",
       "      <td>70</td>\n",
       "      <td>1</td>\n",
       "      <td>amc rebel sst</td>\n",
       "    </tr>\n",
       "    <tr>\n",
       "      <th>4</th>\n",
       "      <td>17.0</td>\n",
       "      <td>8</td>\n",
       "      <td>302.0</td>\n",
       "      <td>140.0</td>\n",
       "      <td>3449.0</td>\n",
       "      <td>10.5</td>\n",
       "      <td>70</td>\n",
       "      <td>1</td>\n",
       "      <td>ford torino</td>\n",
       "    </tr>\n",
       "  </tbody>\n",
       "</table>\n",
       "</div>"
      ],
      "text/plain": [
       "      0  1      2      3       4     5   6  7                          8\n",
       "0  18.0  8  307.0  130.0  3504.0  12.0  70  1  chevrolet chevelle malibu\n",
       "1  15.0  8  350.0  165.0  3693.0  11.5  70  1          buick skylark 320\n",
       "2  18.0  8  318.0  150.0  3436.0  11.0  70  1         plymouth satellite\n",
       "3  16.0  8  304.0  150.0  3433.0  12.0  70  1              amc rebel sst\n",
       "4  17.0  8  302.0  140.0  3449.0  10.5  70  1                ford torino"
      ]
     },
     "execution_count": 4,
     "metadata": {},
     "output_type": "execute_result"
    }
   ],
   "source": [
    "mpgDf.head()"
   ]
  },
  {
   "cell_type": "markdown",
   "metadata": {},
   "source": [
    "2. 데이터 전처리"
   ]
  },
  {
   "cell_type": "code",
   "execution_count": 5,
   "metadata": {},
   "outputs": [],
   "source": [
    "mpgDf.columns = ['mpg', 'cylinders', 'displacement', 'horsepower', 'weight', 'acceleration',\n",
    "                 'model year', 'origin', 'car name']"
   ]
  },
  {
   "cell_type": "code",
   "execution_count": 6,
   "metadata": {},
   "outputs": [
    {
     "name": "stdout",
     "output_type": "stream",
     "text": [
      "<class 'pandas.core.frame.DataFrame'>\n",
      "RangeIndex: 398 entries, 0 to 397\n",
      "Data columns (total 9 columns):\n",
      " #   Column        Non-Null Count  Dtype  \n",
      "---  ------        --------------  -----  \n",
      " 0   mpg           398 non-null    float64\n",
      " 1   cylinders     398 non-null    int64  \n",
      " 2   displacement  398 non-null    float64\n",
      " 3   horsepower    398 non-null    object \n",
      " 4   weight        398 non-null    float64\n",
      " 5   acceleration  398 non-null    float64\n",
      " 6   model year    398 non-null    int64  \n",
      " 7   origin        398 non-null    int64  \n",
      " 8   car name      398 non-null    object \n",
      "dtypes: float64(4), int64(3), object(2)\n",
      "memory usage: 28.1+ KB\n"
     ]
    }
   ],
   "source": [
    "mpgDf.info()"
   ]
  },
  {
   "cell_type": "code",
   "execution_count": 7,
   "metadata": {},
   "outputs": [
    {
     "data": {
      "text/plain": [
       "mpg             0\n",
       "cylinders       0\n",
       "displacement    0\n",
       "horsepower      0\n",
       "weight          0\n",
       "acceleration    0\n",
       "model year      0\n",
       "origin          0\n",
       "car name        0\n",
       "dtype: int64"
      ]
     },
     "execution_count": 7,
     "metadata": {},
     "output_type": "execute_result"
    }
   ],
   "source": [
    "# 결측치 확인\n",
    "mpgDf.isnull().sum()"
   ]
  },
  {
   "cell_type": "code",
   "execution_count": 8,
   "metadata": {},
   "outputs": [],
   "source": [
    "import numpy as np\n",
    "\n",
    "mpgDf.horsepower.replace('?', np.nan, inplace=True)"
   ]
  },
  {
   "cell_type": "code",
   "execution_count": 9,
   "metadata": {},
   "outputs": [],
   "source": [
    "mpgDf = mpgDf.dropna(axis=0, how='any')"
   ]
  },
  {
   "cell_type": "code",
   "execution_count": 10,
   "metadata": {},
   "outputs": [
    {
     "name": "stdout",
     "output_type": "stream",
     "text": [
      "<class 'pandas.core.frame.DataFrame'>\n",
      "Int64Index: 392 entries, 0 to 397\n",
      "Data columns (total 9 columns):\n",
      " #   Column        Non-Null Count  Dtype  \n",
      "---  ------        --------------  -----  \n",
      " 0   mpg           392 non-null    float64\n",
      " 1   cylinders     392 non-null    int64  \n",
      " 2   displacement  392 non-null    float64\n",
      " 3   horsepower    392 non-null    object \n",
      " 4   weight        392 non-null    float64\n",
      " 5   acceleration  392 non-null    float64\n",
      " 6   model year    392 non-null    int64  \n",
      " 7   origin        392 non-null    int64  \n",
      " 8   car name      392 non-null    object \n",
      "dtypes: float64(4), int64(3), object(2)\n",
      "memory usage: 30.6+ KB\n"
     ]
    }
   ],
   "source": [
    "mpgDf.info()"
   ]
  },
  {
   "cell_type": "code",
   "execution_count": 11,
   "metadata": {},
   "outputs": [
    {
     "data": {
      "text/plain": [
       "<AxesSubplot:>"
      ]
     },
     "execution_count": 11,
     "metadata": {},
     "output_type": "execute_result"
    },
    {
     "data": {
      "image/png": "[encoded data removed]",
      "text/plain": [
       "<Figure size 720x360 with 1 Axes>"
      ]
     },
     "metadata": {
      "needs_background": "light"
     },
     "output_type": "display_data"
    }
   ],
   "source": [
    "import matplotlib.pyplot as plt\n",
    "\n",
    "plt.figure(figsize=(10,5))\n",
    "mpgDf.boxplot()"
   ]
  },
  {
   "cell_type": "code",
   "execution_count": 12,
   "metadata": {},
   "outputs": [],
   "source": [
    "mpgDf.horsepower = mpgDf.horsepower.astype('float')"
   ]
  },
  {
   "cell_type": "code",
   "execution_count": 13,
   "metadata": {},
   "outputs": [
    {
     "name": "stdout",
     "output_type": "stream",
     "text": [
      "<class 'pandas.core.frame.DataFrame'>\n",
      "Int64Index: 392 entries, 0 to 397\n",
      "Data columns (total 9 columns):\n",
      " #   Column        Non-Null Count  Dtype  \n",
      "---  ------        --------------  -----  \n",
      " 0   mpg           392 non-null    float64\n",
      " 1   cylinders     392 non-null    int64  \n",
      " 2   displacement  392 non-null    float64\n",
      " 3   horsepower    392 non-null    float64\n",
      " 4   weight        392 non-null    float64\n",
      " 5   acceleration  392 non-null    float64\n",
      " 6   model year    392 non-null    int64  \n",
      " 7   origin        392 non-null    int64  \n",
      " 8   car name      392 non-null    object \n",
      "dtypes: float64(5), int64(3), object(1)\n",
      "memory usage: 30.6+ KB\n"
     ]
    }
   ],
   "source": [
    "mpgDf.info()"
   ]
  },
  {
   "cell_type": "code",
   "execution_count": 14,
   "metadata": {},
   "outputs": [],
   "source": [
    "mpgDf.insert(1,'Km/L',0.425144*mpgDf['mpg'])# insert(넣을 위치, 칼럼명, 값)"
   ]
  },
  {
   "cell_type": "code",
   "execution_count": 15,
   "metadata": {},
   "outputs": [
    {
     "data": {
      "text/html": [
       "<div>\n",
       "<style scoped>\n",
       "    .dataframe tbody tr th:only-of-type {\n",
       "        vertical-align: middle;\n",
       "    }\n",
       "\n",
       "    .dataframe tbody tr th {\n",
       "        vertical-align: top;\n",
       "    }\n",
       "\n",
       "    .dataframe thead th {\n",
       "        text-align: right;\n",
       "    }\n",
       "</style>\n",
       "<table border=\"1\" class=\"dataframe\">\n",
       "  <thead>\n",
       "    <tr style=\"text-align: right;\">\n",
       "      <th></th>\n",
       "      <th>mpg</th>\n",
       "      <th>Km/L</th>\n",
       "      <th>cylinders</th>\n",
       "      <th>displacement</th>\n",
       "      <th>horsepower</th>\n",
       "      <th>weight</th>\n",
       "      <th>acceleration</th>\n",
       "      <th>model year</th>\n",
       "      <th>origin</th>\n",
       "      <th>car name</th>\n",
       "    </tr>\n",
       "  </thead>\n",
       "  <tbody>\n",
       "    <tr>\n",
       "      <th>0</th>\n",
       "      <td>18.0</td>\n",
       "      <td>7.652592</td>\n",
       "      <td>8</td>\n",
       "      <td>307.0</td>\n",
       "      <td>130.0</td>\n",
       "      <td>3504.0</td>\n",
       "      <td>12.0</td>\n",
       "      <td>70</td>\n",
       "      <td>1</td>\n",
       "      <td>chevrolet chevelle malibu</td>\n",
       "    </tr>\n",
       "    <tr>\n",
       "      <th>1</th>\n",
       "      <td>15.0</td>\n",
       "      <td>6.377160</td>\n",
       "      <td>8</td>\n",
       "      <td>350.0</td>\n",
       "      <td>165.0</td>\n",
       "      <td>3693.0</td>\n",
       "      <td>11.5</td>\n",
       "      <td>70</td>\n",
       "      <td>1</td>\n",
       "      <td>buick skylark 320</td>\n",
       "    </tr>\n",
       "    <tr>\n",
       "      <th>2</th>\n",
       "      <td>18.0</td>\n",
       "      <td>7.652592</td>\n",
       "      <td>8</td>\n",
       "      <td>318.0</td>\n",
       "      <td>150.0</td>\n",
       "      <td>3436.0</td>\n",
       "      <td>11.0</td>\n",
       "      <td>70</td>\n",
       "      <td>1</td>\n",
       "      <td>plymouth satellite</td>\n",
       "    </tr>\n",
       "    <tr>\n",
       "      <th>3</th>\n",
       "      <td>16.0</td>\n",
       "      <td>6.802304</td>\n",
       "      <td>8</td>\n",
       "      <td>304.0</td>\n",
       "      <td>150.0</td>\n",
       "      <td>3433.0</td>\n",
       "      <td>12.0</td>\n",
       "      <td>70</td>\n",
       "      <td>1</td>\n",
       "      <td>amc rebel sst</td>\n",
       "    </tr>\n",
       "    <tr>\n",
       "      <th>4</th>\n",
       "      <td>17.0</td>\n",
       "      <td>7.227448</td>\n",
       "      <td>8</td>\n",
       "      <td>302.0</td>\n",
       "      <td>140.0</td>\n",
       "      <td>3449.0</td>\n",
       "      <td>10.5</td>\n",
       "      <td>70</td>\n",
       "      <td>1</td>\n",
       "      <td>ford torino</td>\n",
       "    </tr>\n",
       "  </tbody>\n",
       "</table>\n",
       "</div>"
      ],
      "text/plain": [
       "    mpg      Km/L  cylinders  displacement  horsepower  weight  acceleration  \\\n",
       "0  18.0  7.652592          8         307.0       130.0  3504.0          12.0   \n",
       "1  15.0  6.377160          8         350.0       165.0  3693.0          11.5   \n",
       "2  18.0  7.652592          8         318.0       150.0  3436.0          11.0   \n",
       "3  16.0  6.802304          8         304.0       150.0  3433.0          12.0   \n",
       "4  17.0  7.227448          8         302.0       140.0  3449.0          10.5   \n",
       "\n",
       "   model year  origin                   car name  \n",
       "0          70       1  chevrolet chevelle malibu  \n",
       "1          70       1          buick skylark 320  \n",
       "2          70       1         plymouth satellite  \n",
       "3          70       1              amc rebel sst  \n",
       "4          70       1                ford torino  "
      ]
     },
     "execution_count": 15,
     "metadata": {},
     "output_type": "execute_result"
    }
   ],
   "source": [
    "mpgDf.head()"
   ]
  },
  {
   "cell_type": "code",
   "execution_count": 16,
   "metadata": {},
   "outputs": [],
   "source": [
    "originLabel=mpgDf.origin.replace({1:'USA',2:'EU',3:'JPA'})\n",
    "# DF에 컬럼 추가\n",
    "mpgDf.insert(9,'origin label',originLabel)"
   ]
  },
  {
   "cell_type": "code",
   "execution_count": 17,
   "metadata": {},
   "outputs": [
    {
     "data": {
      "text/html": [
       "<div>\n",
       "<style scoped>\n",
       "    .dataframe tbody tr th:only-of-type {\n",
       "        vertical-align: middle;\n",
       "    }\n",
       "\n",
       "    .dataframe tbody tr th {\n",
       "        vertical-align: top;\n",
       "    }\n",
       "\n",
       "    .dataframe thead th {\n",
       "        text-align: right;\n",
       "    }\n",
       "</style>\n",
       "<table border=\"1\" class=\"dataframe\">\n",
       "  <thead>\n",
       "    <tr style=\"text-align: right;\">\n",
       "      <th></th>\n",
       "      <th>mpg</th>\n",
       "      <th>Km/L</th>\n",
       "      <th>cylinders</th>\n",
       "      <th>displacement</th>\n",
       "      <th>horsepower</th>\n",
       "      <th>weight</th>\n",
       "      <th>acceleration</th>\n",
       "      <th>model year</th>\n",
       "      <th>origin</th>\n",
       "      <th>origin label</th>\n",
       "      <th>car name</th>\n",
       "    </tr>\n",
       "  </thead>\n",
       "  <tbody>\n",
       "    <tr>\n",
       "      <th>0</th>\n",
       "      <td>18.0</td>\n",
       "      <td>7.652592</td>\n",
       "      <td>8</td>\n",
       "      <td>307.0</td>\n",
       "      <td>130.0</td>\n",
       "      <td>3504.0</td>\n",
       "      <td>12.0</td>\n",
       "      <td>70</td>\n",
       "      <td>1</td>\n",
       "      <td>USA</td>\n",
       "      <td>chevrolet chevelle malibu</td>\n",
       "    </tr>\n",
       "    <tr>\n",
       "      <th>1</th>\n",
       "      <td>15.0</td>\n",
       "      <td>6.377160</td>\n",
       "      <td>8</td>\n",
       "      <td>350.0</td>\n",
       "      <td>165.0</td>\n",
       "      <td>3693.0</td>\n",
       "      <td>11.5</td>\n",
       "      <td>70</td>\n",
       "      <td>1</td>\n",
       "      <td>USA</td>\n",
       "      <td>buick skylark 320</td>\n",
       "    </tr>\n",
       "    <tr>\n",
       "      <th>2</th>\n",
       "      <td>18.0</td>\n",
       "      <td>7.652592</td>\n",
       "      <td>8</td>\n",
       "      <td>318.0</td>\n",
       "      <td>150.0</td>\n",
       "      <td>3436.0</td>\n",
       "      <td>11.0</td>\n",
       "      <td>70</td>\n",
       "      <td>1</td>\n",
       "      <td>USA</td>\n",
       "      <td>plymouth satellite</td>\n",
       "    </tr>\n",
       "    <tr>\n",
       "      <th>3</th>\n",
       "      <td>16.0</td>\n",
       "      <td>6.802304</td>\n",
       "      <td>8</td>\n",
       "      <td>304.0</td>\n",
       "      <td>150.0</td>\n",
       "      <td>3433.0</td>\n",
       "      <td>12.0</td>\n",
       "      <td>70</td>\n",
       "      <td>1</td>\n",
       "      <td>USA</td>\n",
       "      <td>amc rebel sst</td>\n",
       "    </tr>\n",
       "    <tr>\n",
       "      <th>4</th>\n",
       "      <td>17.0</td>\n",
       "      <td>7.227448</td>\n",
       "      <td>8</td>\n",
       "      <td>302.0</td>\n",
       "      <td>140.0</td>\n",
       "      <td>3449.0</td>\n",
       "      <td>10.5</td>\n",
       "      <td>70</td>\n",
       "      <td>1</td>\n",
       "      <td>USA</td>\n",
       "      <td>ford torino</td>\n",
       "    </tr>\n",
       "  </tbody>\n",
       "</table>\n",
       "</div>"
      ],
      "text/plain": [
       "    mpg      Km/L  cylinders  displacement  horsepower  weight  acceleration  \\\n",
       "0  18.0  7.652592          8         307.0       130.0  3504.0          12.0   \n",
       "1  15.0  6.377160          8         350.0       165.0  3693.0          11.5   \n",
       "2  18.0  7.652592          8         318.0       150.0  3436.0          11.0   \n",
       "3  16.0  6.802304          8         304.0       150.0  3433.0          12.0   \n",
       "4  17.0  7.227448          8         302.0       140.0  3449.0          10.5   \n",
       "\n",
       "   model year  origin origin label                   car name  \n",
       "0          70       1          USA  chevrolet chevelle malibu  \n",
       "1          70       1          USA          buick skylark 320  \n",
       "2          70       1          USA         plymouth satellite  \n",
       "3          70       1          USA              amc rebel sst  \n",
       "4          70       1          USA                ford torino  "
      ]
     },
     "execution_count": 17,
     "metadata": {},
     "output_type": "execute_result"
    }
   ],
   "source": [
    "mpgDf.head()"
   ]
  },
  {
   "cell_type": "code",
   "execution_count": 18,
   "metadata": {},
   "outputs": [],
   "source": [
    "# horsepower 컬럼 타입 변경 int 연속형 => 범주형 category 변환\n",
    "# 구간의 라벨 설정 => horsepower_low, horsepower_normal, horsepower_high\n",
    "mpgDf['horsepower_label']=pd.cut(x=mpgDf.horsepower,bins=3,\n",
    "       labels=['horsepower_low','horsepower_normal','horsepower_high'],\n",
    "       include_lowest=True) # 새로운 칼럼 만들어 지정, 뒤에 넣어줌"
   ]
  },
  {
   "cell_type": "code",
   "execution_count": 19,
   "metadata": {},
   "outputs": [
    {
     "data": {
      "text/plain": [
       "mpg                  float64\n",
       "Km/L                 float64\n",
       "cylinders              int64\n",
       "displacement         float64\n",
       "horsepower           float64\n",
       "weight               float64\n",
       "acceleration         float64\n",
       "model year             int64\n",
       "origin                 int64\n",
       "origin label          object\n",
       "car name              object\n",
       "horsepower_label    category\n",
       "dtype: object"
      ]
     },
     "execution_count": 19,
     "metadata": {},
     "output_type": "execute_result"
    }
   ],
   "source": [
    "mpgDf['horsepower_label'].astype('category')\n",
    "mpgDf.dtypes"
   ]
  },
  {
   "cell_type": "code",
   "execution_count": 20,
   "metadata": {},
   "outputs": [
    {
     "data": {
      "text/html": [
       "<div>\n",
       "<style scoped>\n",
       "    .dataframe tbody tr th:only-of-type {\n",
       "        vertical-align: middle;\n",
       "    }\n",
       "\n",
       "    .dataframe tbody tr th {\n",
       "        vertical-align: top;\n",
       "    }\n",
       "\n",
       "    .dataframe thead th {\n",
       "        text-align: right;\n",
       "    }\n",
       "</style>\n",
       "<table border=\"1\" class=\"dataframe\">\n",
       "  <thead>\n",
       "    <tr style=\"text-align: right;\">\n",
       "      <th></th>\n",
       "      <th>mpg</th>\n",
       "      <th>Km/L</th>\n",
       "      <th>cylinders</th>\n",
       "      <th>displacement</th>\n",
       "      <th>horsepower</th>\n",
       "      <th>weight</th>\n",
       "      <th>acceleration</th>\n",
       "      <th>model year</th>\n",
       "      <th>origin</th>\n",
       "      <th>origin label</th>\n",
       "      <th>car name</th>\n",
       "      <th>horsepower_label</th>\n",
       "    </tr>\n",
       "  </thead>\n",
       "  <tbody>\n",
       "    <tr>\n",
       "      <th>0</th>\n",
       "      <td>18.0</td>\n",
       "      <td>7.652592</td>\n",
       "      <td>8</td>\n",
       "      <td>307.0</td>\n",
       "      <td>130.0</td>\n",
       "      <td>3504.0</td>\n",
       "      <td>12.0</td>\n",
       "      <td>70</td>\n",
       "      <td>1</td>\n",
       "      <td>USA</td>\n",
       "      <td>chevrolet chevelle malibu</td>\n",
       "      <td>horsepower_normal</td>\n",
       "    </tr>\n",
       "    <tr>\n",
       "      <th>1</th>\n",
       "      <td>15.0</td>\n",
       "      <td>6.377160</td>\n",
       "      <td>8</td>\n",
       "      <td>350.0</td>\n",
       "      <td>165.0</td>\n",
       "      <td>3693.0</td>\n",
       "      <td>11.5</td>\n",
       "      <td>70</td>\n",
       "      <td>1</td>\n",
       "      <td>USA</td>\n",
       "      <td>buick skylark 320</td>\n",
       "      <td>horsepower_normal</td>\n",
       "    </tr>\n",
       "    <tr>\n",
       "      <th>2</th>\n",
       "      <td>18.0</td>\n",
       "      <td>7.652592</td>\n",
       "      <td>8</td>\n",
       "      <td>318.0</td>\n",
       "      <td>150.0</td>\n",
       "      <td>3436.0</td>\n",
       "      <td>11.0</td>\n",
       "      <td>70</td>\n",
       "      <td>1</td>\n",
       "      <td>USA</td>\n",
       "      <td>plymouth satellite</td>\n",
       "      <td>horsepower_normal</td>\n",
       "    </tr>\n",
       "    <tr>\n",
       "      <th>3</th>\n",
       "      <td>16.0</td>\n",
       "      <td>6.802304</td>\n",
       "      <td>8</td>\n",
       "      <td>304.0</td>\n",
       "      <td>150.0</td>\n",
       "      <td>3433.0</td>\n",
       "      <td>12.0</td>\n",
       "      <td>70</td>\n",
       "      <td>1</td>\n",
       "      <td>USA</td>\n",
       "      <td>amc rebel sst</td>\n",
       "      <td>horsepower_normal</td>\n",
       "    </tr>\n",
       "    <tr>\n",
       "      <th>4</th>\n",
       "      <td>17.0</td>\n",
       "      <td>7.227448</td>\n",
       "      <td>8</td>\n",
       "      <td>302.0</td>\n",
       "      <td>140.0</td>\n",
       "      <td>3449.0</td>\n",
       "      <td>10.5</td>\n",
       "      <td>70</td>\n",
       "      <td>1</td>\n",
       "      <td>USA</td>\n",
       "      <td>ford torino</td>\n",
       "      <td>horsepower_normal</td>\n",
       "    </tr>\n",
       "  </tbody>\n",
       "</table>\n",
       "</div>"
      ],
      "text/plain": [
       "    mpg      Km/L  cylinders  displacement  horsepower  weight  acceleration  \\\n",
       "0  18.0  7.652592          8         307.0       130.0  3504.0          12.0   \n",
       "1  15.0  6.377160          8         350.0       165.0  3693.0          11.5   \n",
       "2  18.0  7.652592          8         318.0       150.0  3436.0          11.0   \n",
       "3  16.0  6.802304          8         304.0       150.0  3433.0          12.0   \n",
       "4  17.0  7.227448          8         302.0       140.0  3449.0          10.5   \n",
       "\n",
       "   model year  origin origin label                   car name  \\\n",
       "0          70       1          USA  chevrolet chevelle malibu   \n",
       "1          70       1          USA          buick skylark 320   \n",
       "2          70       1          USA         plymouth satellite   \n",
       "3          70       1          USA              amc rebel sst   \n",
       "4          70       1          USA                ford torino   \n",
       "\n",
       "    horsepower_label  \n",
       "0  horsepower_normal  \n",
       "1  horsepower_normal  \n",
       "2  horsepower_normal  \n",
       "3  horsepower_normal  \n",
       "4  horsepower_normal  "
      ]
     },
     "execution_count": 20,
     "metadata": {},
     "output_type": "execute_result"
    }
   ],
   "source": [
    "mpgDf.head()"
   ]
  },
  {
   "cell_type": "code",
   "execution_count": 21,
   "metadata": {},
   "outputs": [],
   "source": [
    "# horsepower 컬럼의 One-Hot-Encoding 변환 => pd.get_dummies()\n",
    "oneHot=pd.get_dummies(mpgDf['horsepower_label'])"
   ]
  },
  {
   "cell_type": "code",
   "execution_count": 22,
   "metadata": {},
   "outputs": [
    {
     "data": {
      "text/html": [
       "<div>\n",
       "<style scoped>\n",
       "    .dataframe tbody tr th:only-of-type {\n",
       "        vertical-align: middle;\n",
       "    }\n",
       "\n",
       "    .dataframe tbody tr th {\n",
       "        vertical-align: top;\n",
       "    }\n",
       "\n",
       "    .dataframe thead th {\n",
       "        text-align: right;\n",
       "    }\n",
       "</style>\n",
       "<table border=\"1\" class=\"dataframe\">\n",
       "  <thead>\n",
       "    <tr style=\"text-align: right;\">\n",
       "      <th></th>\n",
       "      <th>mpg</th>\n",
       "      <th>Km/L</th>\n",
       "      <th>cylinders</th>\n",
       "      <th>displacement</th>\n",
       "      <th>horsepower</th>\n",
       "      <th>weight</th>\n",
       "      <th>acceleration</th>\n",
       "      <th>model year</th>\n",
       "      <th>origin</th>\n",
       "      <th>origin label</th>\n",
       "      <th>car name</th>\n",
       "      <th>horsepower_label</th>\n",
       "      <th>horsepower_low</th>\n",
       "      <th>horsepower_normal</th>\n",
       "      <th>horsepower_high</th>\n",
       "    </tr>\n",
       "  </thead>\n",
       "  <tbody>\n",
       "    <tr>\n",
       "      <th>0</th>\n",
       "      <td>18.0</td>\n",
       "      <td>7.652592</td>\n",
       "      <td>8</td>\n",
       "      <td>307.0</td>\n",
       "      <td>130.0</td>\n",
       "      <td>3504.0</td>\n",
       "      <td>12.0</td>\n",
       "      <td>70</td>\n",
       "      <td>1</td>\n",
       "      <td>USA</td>\n",
       "      <td>chevrolet chevelle malibu</td>\n",
       "      <td>horsepower_normal</td>\n",
       "      <td>0</td>\n",
       "      <td>1</td>\n",
       "      <td>0</td>\n",
       "    </tr>\n",
       "    <tr>\n",
       "      <th>1</th>\n",
       "      <td>15.0</td>\n",
       "      <td>6.377160</td>\n",
       "      <td>8</td>\n",
       "      <td>350.0</td>\n",
       "      <td>165.0</td>\n",
       "      <td>3693.0</td>\n",
       "      <td>11.5</td>\n",
       "      <td>70</td>\n",
       "      <td>1</td>\n",
       "      <td>USA</td>\n",
       "      <td>buick skylark 320</td>\n",
       "      <td>horsepower_normal</td>\n",
       "      <td>0</td>\n",
       "      <td>1</td>\n",
       "      <td>0</td>\n",
       "    </tr>\n",
       "    <tr>\n",
       "      <th>2</th>\n",
       "      <td>18.0</td>\n",
       "      <td>7.652592</td>\n",
       "      <td>8</td>\n",
       "      <td>318.0</td>\n",
       "      <td>150.0</td>\n",
       "      <td>3436.0</td>\n",
       "      <td>11.0</td>\n",
       "      <td>70</td>\n",
       "      <td>1</td>\n",
       "      <td>USA</td>\n",
       "      <td>plymouth satellite</td>\n",
       "      <td>horsepower_normal</td>\n",
       "      <td>0</td>\n",
       "      <td>1</td>\n",
       "      <td>0</td>\n",
       "    </tr>\n",
       "    <tr>\n",
       "      <th>3</th>\n",
       "      <td>16.0</td>\n",
       "      <td>6.802304</td>\n",
       "      <td>8</td>\n",
       "      <td>304.0</td>\n",
       "      <td>150.0</td>\n",
       "      <td>3433.0</td>\n",
       "      <td>12.0</td>\n",
       "      <td>70</td>\n",
       "      <td>1</td>\n",
       "      <td>USA</td>\n",
       "      <td>amc rebel sst</td>\n",
       "      <td>horsepower_normal</td>\n",
       "      <td>0</td>\n",
       "      <td>1</td>\n",
       "      <td>0</td>\n",
       "    </tr>\n",
       "    <tr>\n",
       "      <th>4</th>\n",
       "      <td>17.0</td>\n",
       "      <td>7.227448</td>\n",
       "      <td>8</td>\n",
       "      <td>302.0</td>\n",
       "      <td>140.0</td>\n",
       "      <td>3449.0</td>\n",
       "      <td>10.5</td>\n",
       "      <td>70</td>\n",
       "      <td>1</td>\n",
       "      <td>USA</td>\n",
       "      <td>ford torino</td>\n",
       "      <td>horsepower_normal</td>\n",
       "      <td>0</td>\n",
       "      <td>1</td>\n",
       "      <td>0</td>\n",
       "    </tr>\n",
       "  </tbody>\n",
       "</table>\n",
       "</div>"
      ],
      "text/plain": [
       "    mpg      Km/L  cylinders  displacement  horsepower  weight  acceleration  \\\n",
       "0  18.0  7.652592          8         307.0       130.0  3504.0          12.0   \n",
       "1  15.0  6.377160          8         350.0       165.0  3693.0          11.5   \n",
       "2  18.0  7.652592          8         318.0       150.0  3436.0          11.0   \n",
       "3  16.0  6.802304          8         304.0       150.0  3433.0          12.0   \n",
       "4  17.0  7.227448          8         302.0       140.0  3449.0          10.5   \n",
       "\n",
       "   model year  origin origin label                   car name  \\\n",
       "0          70       1          USA  chevrolet chevelle malibu   \n",
       "1          70       1          USA          buick skylark 320   \n",
       "2          70       1          USA         plymouth satellite   \n",
       "3          70       1          USA              amc rebel sst   \n",
       "4          70       1          USA                ford torino   \n",
       "\n",
       "    horsepower_label  horsepower_low  horsepower_normal  horsepower_high  \n",
       "0  horsepower_normal               0                  1                0  \n",
       "1  horsepower_normal               0                  1                0  \n",
       "2  horsepower_normal               0                  1                0  \n",
       "3  horsepower_normal               0                  1                0  \n",
       "4  horsepower_normal               0                  1                0  "
      ]
     },
     "execution_count": 22,
     "metadata": {},
     "output_type": "execute_result"
    }
   ],
   "source": [
    "mpgDf=pd.concat([mpgDf,oneHot],axis=1)\n",
    "mpgDf.head()"
   ]
  },
  {
   "cell_type": "markdown",
   "metadata": {},
   "source": [
    "- 정규화"
   ]
  },
  {
   "cell_type": "code",
   "execution_count": 23,
   "metadata": {},
   "outputs": [],
   "source": [
    "# 수치형인 거 다 정규화\n",
    "# (3-3-1) 방법: 컬럼의 최대값의 절대값으로 전체 데이터 나누기\n",
    "\n",
    "div_list = []\n",
    "\n",
    "newDF=pd.DataFrame()# 새로운 DF 객체 생성\n",
    "for i in range(1, 8): # if문 넣어도 될 것 같음, 컬럼명 빼오기 추가\n",
    "    div_list.append(abs(mpgDf.iloc[:,i].max()))\n",
    "    newDF[i]=mpgDf.iloc[:,i]/abs(mpgDf.iloc[:,i].max())\n",
    "newDF.columns=['reKm/L','recylinders','redisplacement','rehorsepower','reweight','reacceleration','remodel_year']"
   ]
  },
  {
   "cell_type": "code",
   "execution_count": 24,
   "metadata": {},
   "outputs": [
    {
     "data": {
      "text/html": [
       "<div>\n",
       "<style scoped>\n",
       "    .dataframe tbody tr th:only-of-type {\n",
       "        vertical-align: middle;\n",
       "    }\n",
       "\n",
       "    .dataframe tbody tr th {\n",
       "        vertical-align: top;\n",
       "    }\n",
       "\n",
       "    .dataframe thead th {\n",
       "        text-align: right;\n",
       "    }\n",
       "</style>\n",
       "<table border=\"1\" class=\"dataframe\">\n",
       "  <thead>\n",
       "    <tr style=\"text-align: right;\">\n",
       "      <th></th>\n",
       "      <th>reKm/L</th>\n",
       "      <th>recylinders</th>\n",
       "      <th>redisplacement</th>\n",
       "      <th>rehorsepower</th>\n",
       "      <th>reweight</th>\n",
       "      <th>reacceleration</th>\n",
       "      <th>remodel_year</th>\n",
       "    </tr>\n",
       "  </thead>\n",
       "  <tbody>\n",
       "    <tr>\n",
       "      <th>0</th>\n",
       "      <td>0.386266</td>\n",
       "      <td>1.0</td>\n",
       "      <td>0.674725</td>\n",
       "      <td>0.565217</td>\n",
       "      <td>0.681712</td>\n",
       "      <td>0.483871</td>\n",
       "      <td>0.853659</td>\n",
       "    </tr>\n",
       "    <tr>\n",
       "      <th>1</th>\n",
       "      <td>0.321888</td>\n",
       "      <td>1.0</td>\n",
       "      <td>0.769231</td>\n",
       "      <td>0.717391</td>\n",
       "      <td>0.718482</td>\n",
       "      <td>0.463710</td>\n",
       "      <td>0.853659</td>\n",
       "    </tr>\n",
       "    <tr>\n",
       "      <th>2</th>\n",
       "      <td>0.386266</td>\n",
       "      <td>1.0</td>\n",
       "      <td>0.698901</td>\n",
       "      <td>0.652174</td>\n",
       "      <td>0.668482</td>\n",
       "      <td>0.443548</td>\n",
       "      <td>0.853659</td>\n",
       "    </tr>\n",
       "    <tr>\n",
       "      <th>3</th>\n",
       "      <td>0.343348</td>\n",
       "      <td>1.0</td>\n",
       "      <td>0.668132</td>\n",
       "      <td>0.652174</td>\n",
       "      <td>0.667899</td>\n",
       "      <td>0.483871</td>\n",
       "      <td>0.853659</td>\n",
       "    </tr>\n",
       "    <tr>\n",
       "      <th>4</th>\n",
       "      <td>0.364807</td>\n",
       "      <td>1.0</td>\n",
       "      <td>0.663736</td>\n",
       "      <td>0.608696</td>\n",
       "      <td>0.671012</td>\n",
       "      <td>0.423387</td>\n",
       "      <td>0.853659</td>\n",
       "    </tr>\n",
       "  </tbody>\n",
       "</table>\n",
       "</div>"
      ],
      "text/plain": [
       "     reKm/L  recylinders  redisplacement  rehorsepower  reweight  \\\n",
       "0  0.386266          1.0        0.674725      0.565217  0.681712   \n",
       "1  0.321888          1.0        0.769231      0.717391  0.718482   \n",
       "2  0.386266          1.0        0.698901      0.652174  0.668482   \n",
       "3  0.343348          1.0        0.668132      0.652174  0.667899   \n",
       "4  0.364807          1.0        0.663736      0.608696  0.671012   \n",
       "\n",
       "   reacceleration  remodel_year  \n",
       "0        0.483871      0.853659  \n",
       "1        0.463710      0.853659  \n",
       "2        0.443548      0.853659  \n",
       "3        0.483871      0.853659  \n",
       "4        0.423387      0.853659  "
      ]
     },
     "execution_count": 24,
     "metadata": {},
     "output_type": "execute_result"
    }
   ],
   "source": [
    "newDF.head()"
   ]
  },
  {
   "cell_type": "markdown",
   "metadata": {},
   "source": [
    "3. 모델 생성 및 학습 및 평가"
   ]
  },
  {
   "cell_type": "markdown",
   "metadata": {},
   "source": [
    "- 선형회귀"
   ]
  },
  {
   "cell_type": "code",
   "execution_count": 25,
   "metadata": {},
   "outputs": [],
   "source": [
    "# 종속변수: 연비\n",
    "from sklearn.linear_model import LinearRegression"
   ]
  },
  {
   "cell_type": "code",
   "execution_count": 26,
   "metadata": {},
   "outputs": [],
   "source": [
    "data = newDF.iloc[:,1:]\n",
    "target = newDF.iloc[:,0]"
   ]
  },
  {
   "cell_type": "code",
   "execution_count": 27,
   "metadata": {},
   "outputs": [],
   "source": [
    "# 학습용/테스트용 데이터 분리 => 8:2\n",
    "from sklearn.model_selection import train_test_split\n",
    "\n",
    "train_input, test_input, train_target, test_target = train_test_split(\n",
    "                                                data, target, test_size=0.2, random_state=42)"
   ]
  },
  {
   "cell_type": "code",
   "execution_count": 28,
   "metadata": {},
   "outputs": [
    {
     "data": {
      "text/plain": [
       "((313, 6), (313,))"
      ]
     },
     "execution_count": 28,
     "metadata": {},
     "output_type": "execute_result"
    }
   ],
   "source": [
    "train_input.shape, train_target.shape"
   ]
  },
  {
   "cell_type": "code",
   "execution_count": 29,
   "metadata": {},
   "outputs": [],
   "source": [
    "model = LinearRegression()"
   ]
  },
  {
   "cell_type": "code",
   "execution_count": 30,
   "metadata": {},
   "outputs": [
    {
     "data": {
      "text/plain": [
       "LinearRegression()"
      ]
     },
     "execution_count": 30,
     "metadata": {},
     "output_type": "execute_result"
    }
   ],
   "source": [
    "# 학습\n",
    "model.fit(train_input, train_target)"
   ]
  },
  {
   "cell_type": "code",
   "execution_count": 31,
   "metadata": {},
   "outputs": [
    {
     "name": "stdout",
     "output_type": "stream",
     "text": [
      "train score: 0.811, test score: 0.794\n"
     ]
    }
   ],
   "source": [
    "print('train score: {}, test score: {}'.format(round(model.score(train_input, train_target),3), round(model.score(test_input, test_target),3)))"
   ]
  },
  {
   "cell_type": "markdown",
   "metadata": {},
   "source": [
    "- 다중 회귀"
   ]
  },
  {
   "cell_type": "code",
   "execution_count": 32,
   "metadata": {},
   "outputs": [],
   "source": [
    "from sklearn.preprocessing import PolynomialFeatures\n",
    "\n",
    "poly = PolynomialFeatures(include_bias=False)"
   ]
  },
  {
   "cell_type": "code",
   "execution_count": 33,
   "metadata": {},
   "outputs": [
    {
     "name": "stdout",
     "output_type": "stream",
     "text": [
      "(313, 27)\n"
     ]
    }
   ],
   "source": [
    "poly.fit(train_input)\n",
    "train_poly = poly.transform(train_input)\n",
    "print(train_poly.shape)"
   ]
  },
  {
   "cell_type": "code",
   "execution_count": 34,
   "metadata": {},
   "outputs": [],
   "source": [
    "#PolynomialFeatures로 9개의 특성이 어떻게 만들어졌는지 확인\n",
    "poly.get_feature_names()\n",
    "#test set도 다중회귀식으로 만들기\n",
    "test_poly = poly.transform(test_input)"
   ]
  },
  {
   "cell_type": "code",
   "execution_count": 35,
   "metadata": {},
   "outputs": [
    {
     "data": {
      "text/plain": [
       "LinearRegression()"
      ]
     },
     "execution_count": 35,
     "metadata": {},
     "output_type": "execute_result"
    }
   ],
   "source": [
    "lr = LinearRegression()\n",
    "lr.fit(train_poly, train_target)"
   ]
  },
  {
   "cell_type": "code",
   "execution_count": 36,
   "metadata": {},
   "outputs": [
    {
     "name": "stdout",
     "output_type": "stream",
     "text": [
      "train score: 0.89, test score: 0.855\n"
     ]
    }
   ],
   "source": [
    "print('train score: {}, test score: {}'.format(round(lr.score(train_poly, train_target),3), round(lr.score(test_poly, test_target),3)))"
   ]
  },
  {
   "cell_type": "markdown",
   "metadata": {},
   "source": [
    "- 최적의 모델 찾기"
   ]
  },
  {
   "cell_type": "code",
   "execution_count": 37,
   "metadata": {},
   "outputs": [],
   "source": [
    "from sklearn.utils import all_estimators\n",
    "\n",
    "models = all_estimators(type_filter='regressor')\n",
    "scores = []\n",
    "names = []\n",
    "\n",
    "for name, model in models:\n",
    "    try:\n",
    "        # 모델 객체 생성\n",
    "        md = model()\n",
    "        # 학습\n",
    "        md.fit(train_input, train_target)\n",
    "        # 평가\n",
    "        result1 = md.score(train_input, train_target)\n",
    "        result2 = md.score(test_input, test_target)\n",
    "        names.append(name)\n",
    "        scores.append((name, np.round(result1,3), np.round(result2,3)))\n",
    "    except:\n",
    "        pass"
   ]
  },
  {
   "cell_type": "code",
   "execution_count": 38,
   "metadata": {},
   "outputs": [
    {
     "data": {
      "text/html": [
       "<div>\n",
       "<style scoped>\n",
       "    .dataframe tbody tr th:only-of-type {\n",
       "        vertical-align: middle;\n",
       "    }\n",
       "\n",
       "    .dataframe tbody tr th {\n",
       "        vertical-align: top;\n",
       "    }\n",
       "\n",
       "    .dataframe thead th {\n",
       "        text-align: right;\n",
       "    }\n",
       "</style>\n",
       "<table border=\"1\" class=\"dataframe\">\n",
       "  <thead>\n",
       "    <tr style=\"text-align: right;\">\n",
       "      <th></th>\n",
       "      <th>model</th>\n",
       "      <th>train_score</th>\n",
       "      <th>test_score</th>\n",
       "    </tr>\n",
       "  </thead>\n",
       "  <tbody>\n",
       "    <tr>\n",
       "      <th>0</th>\n",
       "      <td>ARDRegression</td>\n",
       "      <td>0.810</td>\n",
       "      <td>0.794</td>\n",
       "    </tr>\n",
       "    <tr>\n",
       "      <th>1</th>\n",
       "      <td>AdaBoostRegressor</td>\n",
       "      <td>0.907</td>\n",
       "      <td>0.835</td>\n",
       "    </tr>\n",
       "    <tr>\n",
       "      <th>2</th>\n",
       "      <td>BaggingRegressor</td>\n",
       "      <td>0.976</td>\n",
       "      <td>0.901</td>\n",
       "    </tr>\n",
       "    <tr>\n",
       "      <th>3</th>\n",
       "      <td>BayesianRidge</td>\n",
       "      <td>0.811</td>\n",
       "      <td>0.794</td>\n",
       "    </tr>\n",
       "    <tr>\n",
       "      <th>4</th>\n",
       "      <td>CCA</td>\n",
       "      <td>0.744</td>\n",
       "      <td>0.635</td>\n",
       "    </tr>\n",
       "  </tbody>\n",
       "</table>\n",
       "</div>"
      ],
      "text/plain": [
       "               model  train_score  test_score\n",
       "0      ARDRegression        0.810       0.794\n",
       "1  AdaBoostRegressor        0.907       0.835\n",
       "2   BaggingRegressor        0.976       0.901\n",
       "3      BayesianRidge        0.811       0.794\n",
       "4                CCA        0.744       0.635"
      ]
     },
     "execution_count": 38,
     "metadata": {},
     "output_type": "execute_result"
    }
   ],
   "source": [
    "scoresDf = pd.DataFrame(scores, columns=['model', 'train_score', 'test_score'])\n",
    "scoresDf.head()"
   ]
  },
  {
   "cell_type": "code",
   "execution_count": 39,
   "metadata": {},
   "outputs": [
    {
     "data": {
      "text/html": [
       "<div>\n",
       "<style scoped>\n",
       "    .dataframe tbody tr th:only-of-type {\n",
       "        vertical-align: middle;\n",
       "    }\n",
       "\n",
       "    .dataframe tbody tr th {\n",
       "        vertical-align: top;\n",
       "    }\n",
       "\n",
       "    .dataframe thead th {\n",
       "        text-align: right;\n",
       "    }\n",
       "</style>\n",
       "<table border=\"1\" class=\"dataframe\">\n",
       "  <thead>\n",
       "    <tr style=\"text-align: right;\">\n",
       "      <th></th>\n",
       "      <th>model</th>\n",
       "      <th>train_score</th>\n",
       "      <th>test_score</th>\n",
       "    </tr>\n",
       "  </thead>\n",
       "  <tbody>\n",
       "    <tr>\n",
       "      <th>10</th>\n",
       "      <td>ExtraTreesRegressor</td>\n",
       "      <td>1.000</td>\n",
       "      <td>0.903</td>\n",
       "    </tr>\n",
       "    <tr>\n",
       "      <th>2</th>\n",
       "      <td>BaggingRegressor</td>\n",
       "      <td>0.976</td>\n",
       "      <td>0.901</td>\n",
       "    </tr>\n",
       "    <tr>\n",
       "      <th>38</th>\n",
       "      <td>RandomForestRegressor</td>\n",
       "      <td>0.981</td>\n",
       "      <td>0.885</td>\n",
       "    </tr>\n",
       "    <tr>\n",
       "      <th>13</th>\n",
       "      <td>GradientBoostingRegressor</td>\n",
       "      <td>0.970</td>\n",
       "      <td>0.884</td>\n",
       "    </tr>\n",
       "    <tr>\n",
       "      <th>14</th>\n",
       "      <td>HistGradientBoostingRegressor</td>\n",
       "      <td>0.963</td>\n",
       "      <td>0.876</td>\n",
       "    </tr>\n",
       "    <tr>\n",
       "      <th>28</th>\n",
       "      <td>NuSVR</td>\n",
       "      <td>0.890</td>\n",
       "      <td>0.872</td>\n",
       "    </tr>\n",
       "    <tr>\n",
       "      <th>1</th>\n",
       "      <td>AdaBoostRegressor</td>\n",
       "      <td>0.907</td>\n",
       "      <td>0.835</td>\n",
       "    </tr>\n",
       "    <tr>\n",
       "      <th>16</th>\n",
       "      <td>KNeighborsRegressor</td>\n",
       "      <td>0.885</td>\n",
       "      <td>0.834</td>\n",
       "    </tr>\n",
       "    <tr>\n",
       "      <th>9</th>\n",
       "      <td>ExtraTreeRegressor</td>\n",
       "      <td>1.000</td>\n",
       "      <td>0.832</td>\n",
       "    </tr>\n",
       "    <tr>\n",
       "      <th>42</th>\n",
       "      <td>SVR</td>\n",
       "      <td>0.869</td>\n",
       "      <td>0.818</td>\n",
       "    </tr>\n",
       "  </tbody>\n",
       "</table>\n",
       "</div>"
      ],
      "text/plain": [
       "                            model  train_score  test_score\n",
       "10            ExtraTreesRegressor        1.000       0.903\n",
       "2                BaggingRegressor        0.976       0.901\n",
       "38          RandomForestRegressor        0.981       0.885\n",
       "13      GradientBoostingRegressor        0.970       0.884\n",
       "14  HistGradientBoostingRegressor        0.963       0.876\n",
       "28                          NuSVR        0.890       0.872\n",
       "1               AdaBoostRegressor        0.907       0.835\n",
       "16            KNeighborsRegressor        0.885       0.834\n",
       "9              ExtraTreeRegressor        1.000       0.832\n",
       "42                            SVR        0.869       0.818"
      ]
     },
     "execution_count": 39,
     "metadata": {},
     "output_type": "execute_result"
    }
   ],
   "source": [
    "scoresDf.sort_values(by='test_score', ascending=False).head(10)"
   ]
  },
  {
   "cell_type": "markdown",
   "metadata": {},
   "source": [
    "- 랜덤 포레스트"
   ]
  },
  {
   "cell_type": "code",
   "execution_count": 40,
   "metadata": {},
   "outputs": [],
   "source": [
    "from sklearn.ensemble import RandomForestRegressor"
   ]
  },
  {
   "cell_type": "code",
   "execution_count": 41,
   "metadata": {},
   "outputs": [],
   "source": [
    "rf = RandomForestRegressor()"
   ]
  },
  {
   "cell_type": "code",
   "execution_count": 42,
   "metadata": {},
   "outputs": [
    {
     "data": {
      "text/plain": [
       "RandomForestRegressor()"
      ]
     },
     "execution_count": 42,
     "metadata": {},
     "output_type": "execute_result"
    }
   ],
   "source": [
    "rf.fit(train_input, train_target)"
   ]
  },
  {
   "cell_type": "code",
   "execution_count": 43,
   "metadata": {},
   "outputs": [
    {
     "name": "stdout",
     "output_type": "stream",
     "text": [
      "train score: 0.98, test score: 0.889\n"
     ]
    }
   ],
   "source": [
    "print('train score: {}, test score: {}'.format(round(rf.score(train_input, train_target),3), round(rf.score(test_input, test_target),3)))"
   ]
  },
  {
   "cell_type": "code",
   "execution_count": 44,
   "metadata": {},
   "outputs": [
    {
     "name": "stdout",
     "output_type": "stream",
     "text": [
      "train score: 0.918, test score: 0.861\n"
     ]
    }
   ],
   "source": [
    "rf2 = RandomForestRegressor(random_state=42, max_depth=None, min_samples_split=5, min_samples_leaf=5, max_features=0.5)\n",
    "rf2.fit(train_input, train_target)\n",
    "print('train score: {}, test score: {}'.format(round(rf2.score(train_input, train_target),3), round(rf2.score(test_input, test_target),3)))"
   ]
  },
  {
   "cell_type": "markdown",
   "metadata": {},
   "source": [
    "- NuSVR (선택)"
   ]
  },
  {
   "cell_type": "code",
   "execution_count": 45,
   "metadata": {},
   "outputs": [],
   "source": [
    "from sklearn.svm import NuSVR"
   ]
  },
  {
   "cell_type": "code",
   "execution_count": 46,
   "metadata": {},
   "outputs": [],
   "source": [
    "nu = NuSVR()"
   ]
  },
  {
   "cell_type": "code",
   "execution_count": 47,
   "metadata": {},
   "outputs": [
    {
     "data": {
      "text/plain": [
       "NuSVR()"
      ]
     },
     "execution_count": 47,
     "metadata": {},
     "output_type": "execute_result"
    }
   ],
   "source": [
    "nu.fit(train_input, train_target)"
   ]
  },
  {
   "cell_type": "code",
   "execution_count": 48,
   "metadata": {},
   "outputs": [
    {
     "name": "stdout",
     "output_type": "stream",
     "text": [
      "train score: 0.89, test score: 0.872\n"
     ]
    }
   ],
   "source": [
    "print('train score: {}, test score: {}'.format(round(nu.score(train_input, train_target),3), round(nu.score(test_input, test_target),3)))"
   ]
  },
  {
   "cell_type": "code",
   "execution_count": 49,
   "metadata": {},
   "outputs": [
    {
     "name": "stdout",
     "output_type": "stream",
     "text": [
      "train score: 0.903, test score: 0.892\n"
     ]
    }
   ],
   "source": [
    "nu2 = NuSVR(C=6)\n",
    "nu2.fit(train_input, train_target)\n",
    "print('train score: {}, test score: {}'.format(round(nu2.score(train_input, train_target),3), round(nu2.score(test_input, test_target),3)))"
   ]
  },
  {
   "cell_type": "code",
   "execution_count": 50,
   "metadata": {},
   "outputs": [
    {
     "data": {
      "text/html": [
       "<div>\n",
       "<style scoped>\n",
       "    .dataframe tbody tr th:only-of-type {\n",
       "        vertical-align: middle;\n",
       "    }\n",
       "\n",
       "    .dataframe tbody tr th {\n",
       "        vertical-align: top;\n",
       "    }\n",
       "\n",
       "    .dataframe thead th {\n",
       "        text-align: right;\n",
       "    }\n",
       "</style>\n",
       "<table border=\"1\" class=\"dataframe\">\n",
       "  <thead>\n",
       "    <tr style=\"text-align: right;\">\n",
       "      <th></th>\n",
       "      <th>mpg</th>\n",
       "      <th>Km/L</th>\n",
       "      <th>cylinders</th>\n",
       "      <th>displacement</th>\n",
       "      <th>horsepower</th>\n",
       "      <th>weight</th>\n",
       "      <th>acceleration</th>\n",
       "      <th>model year</th>\n",
       "      <th>origin</th>\n",
       "      <th>horsepower_low</th>\n",
       "      <th>horsepower_normal</th>\n",
       "      <th>horsepower_high</th>\n",
       "    </tr>\n",
       "  </thead>\n",
       "  <tbody>\n",
       "    <tr>\n",
       "      <th>count</th>\n",
       "      <td>392.000000</td>\n",
       "      <td>392.000000</td>\n",
       "      <td>392.000000</td>\n",
       "      <td>392.000000</td>\n",
       "      <td>392.000000</td>\n",
       "      <td>392.000000</td>\n",
       "      <td>392.000000</td>\n",
       "      <td>392.000000</td>\n",
       "      <td>392.000000</td>\n",
       "      <td>392.000000</td>\n",
       "      <td>392.000000</td>\n",
       "      <td>392.000000</td>\n",
       "    </tr>\n",
       "    <tr>\n",
       "      <th>mean</th>\n",
       "      <td>23.445918</td>\n",
       "      <td>9.967892</td>\n",
       "      <td>5.471939</td>\n",
       "      <td>194.411990</td>\n",
       "      <td>104.469388</td>\n",
       "      <td>2977.584184</td>\n",
       "      <td>15.541327</td>\n",
       "      <td>75.979592</td>\n",
       "      <td>1.576531</td>\n",
       "      <td>0.655612</td>\n",
       "      <td>0.262755</td>\n",
       "      <td>0.081633</td>\n",
       "    </tr>\n",
       "    <tr>\n",
       "      <th>std</th>\n",
       "      <td>7.805007</td>\n",
       "      <td>3.318252</td>\n",
       "      <td>1.705783</td>\n",
       "      <td>104.644004</td>\n",
       "      <td>38.491160</td>\n",
       "      <td>849.402560</td>\n",
       "      <td>2.758864</td>\n",
       "      <td>3.683737</td>\n",
       "      <td>0.805518</td>\n",
       "      <td>0.475775</td>\n",
       "      <td>0.440693</td>\n",
       "      <td>0.274154</td>\n",
       "    </tr>\n",
       "    <tr>\n",
       "      <th>min</th>\n",
       "      <td>9.000000</td>\n",
       "      <td>3.826296</td>\n",
       "      <td>3.000000</td>\n",
       "      <td>68.000000</td>\n",
       "      <td>46.000000</td>\n",
       "      <td>1613.000000</td>\n",
       "      <td>8.000000</td>\n",
       "      <td>70.000000</td>\n",
       "      <td>1.000000</td>\n",
       "      <td>0.000000</td>\n",
       "      <td>0.000000</td>\n",
       "      <td>0.000000</td>\n",
       "    </tr>\n",
       "    <tr>\n",
       "      <th>25%</th>\n",
       "      <td>17.000000</td>\n",
       "      <td>7.227448</td>\n",
       "      <td>4.000000</td>\n",
       "      <td>105.000000</td>\n",
       "      <td>75.000000</td>\n",
       "      <td>2225.250000</td>\n",
       "      <td>13.775000</td>\n",
       "      <td>73.000000</td>\n",
       "      <td>1.000000</td>\n",
       "      <td>0.000000</td>\n",
       "      <td>0.000000</td>\n",
       "      <td>0.000000</td>\n",
       "    </tr>\n",
       "    <tr>\n",
       "      <th>50%</th>\n",
       "      <td>22.750000</td>\n",
       "      <td>9.672026</td>\n",
       "      <td>4.000000</td>\n",
       "      <td>151.000000</td>\n",
       "      <td>93.500000</td>\n",
       "      <td>2803.500000</td>\n",
       "      <td>15.500000</td>\n",
       "      <td>76.000000</td>\n",
       "      <td>1.000000</td>\n",
       "      <td>1.000000</td>\n",
       "      <td>0.000000</td>\n",
       "      <td>0.000000</td>\n",
       "    </tr>\n",
       "    <tr>\n",
       "      <th>75%</th>\n",
       "      <td>29.000000</td>\n",
       "      <td>12.329176</td>\n",
       "      <td>8.000000</td>\n",
       "      <td>275.750000</td>\n",
       "      <td>126.000000</td>\n",
       "      <td>3614.750000</td>\n",
       "      <td>17.025000</td>\n",
       "      <td>79.000000</td>\n",
       "      <td>2.000000</td>\n",
       "      <td>1.000000</td>\n",
       "      <td>1.000000</td>\n",
       "      <td>0.000000</td>\n",
       "    </tr>\n",
       "    <tr>\n",
       "      <th>max</th>\n",
       "      <td>46.600000</td>\n",
       "      <td>19.811710</td>\n",
       "      <td>8.000000</td>\n",
       "      <td>455.000000</td>\n",
       "      <td>230.000000</td>\n",
       "      <td>5140.000000</td>\n",
       "      <td>24.800000</td>\n",
       "      <td>82.000000</td>\n",
       "      <td>3.000000</td>\n",
       "      <td>1.000000</td>\n",
       "      <td>1.000000</td>\n",
       "      <td>1.000000</td>\n",
       "    </tr>\n",
       "  </tbody>\n",
       "</table>\n",
       "</div>"
      ],
      "text/plain": [
       "              mpg        Km/L   cylinders  displacement  horsepower  \\\n",
       "count  392.000000  392.000000  392.000000    392.000000  392.000000   \n",
       "mean    23.445918    9.967892    5.471939    194.411990  104.469388   \n",
       "std      7.805007    3.318252    1.705783    104.644004   38.491160   \n",
       "min      9.000000    3.826296    3.000000     68.000000   46.000000   \n",
       "25%     17.000000    7.227448    4.000000    105.000000   75.000000   \n",
       "50%     22.750000    9.672026    4.000000    151.000000   93.500000   \n",
       "75%     29.000000   12.329176    8.000000    275.750000  126.000000   \n",
       "max     46.600000   19.811710    8.000000    455.000000  230.000000   \n",
       "\n",
       "            weight  acceleration  model year      origin  horsepower_low  \\\n",
       "count   392.000000    392.000000  392.000000  392.000000      392.000000   \n",
       "mean   2977.584184     15.541327   75.979592    1.576531        0.655612   \n",
       "std     849.402560      2.758864    3.683737    0.805518        0.475775   \n",
       "min    1613.000000      8.000000   70.000000    1.000000        0.000000   \n",
       "25%    2225.250000     13.775000   73.000000    1.000000        0.000000   \n",
       "50%    2803.500000     15.500000   76.000000    1.000000        1.000000   \n",
       "75%    3614.750000     17.025000   79.000000    2.000000        1.000000   \n",
       "max    5140.000000     24.800000   82.000000    3.000000        1.000000   \n",
       "\n",
       "       horsepower_normal  horsepower_high  \n",
       "count         392.000000       392.000000  \n",
       "mean            0.262755         0.081633  \n",
       "std             0.440693         0.274154  \n",
       "min             0.000000         0.000000  \n",
       "25%             0.000000         0.000000  \n",
       "50%             0.000000         0.000000  \n",
       "75%             1.000000         0.000000  \n",
       "max             1.000000         1.000000  "
      ]
     },
     "execution_count": 50,
     "metadata": {},
     "output_type": "execute_result"
    }
   ],
   "source": [
    "mpgDf.describe()"
   ]
  },
  {
   "cell_type": "code",
   "execution_count": 51,
   "metadata": {},
   "outputs": [
    {
     "data": {
      "text/html": [
       "<div>\n",
       "<style scoped>\n",
       "    .dataframe tbody tr th:only-of-type {\n",
       "        vertical-align: middle;\n",
       "    }\n",
       "\n",
       "    .dataframe tbody tr th {\n",
       "        vertical-align: top;\n",
       "    }\n",
       "\n",
       "    .dataframe thead th {\n",
       "        text-align: right;\n",
       "    }\n",
       "</style>\n",
       "<table border=\"1\" class=\"dataframe\">\n",
       "  <thead>\n",
       "    <tr style=\"text-align: right;\">\n",
       "      <th></th>\n",
       "      <th>reKm/L</th>\n",
       "      <th>recylinders</th>\n",
       "      <th>redisplacement</th>\n",
       "      <th>rehorsepower</th>\n",
       "      <th>reweight</th>\n",
       "      <th>reacceleration</th>\n",
       "      <th>remodel_year</th>\n",
       "    </tr>\n",
       "  </thead>\n",
       "  <tbody>\n",
       "    <tr>\n",
       "      <th>0</th>\n",
       "      <td>0.386266</td>\n",
       "      <td>1.0</td>\n",
       "      <td>0.674725</td>\n",
       "      <td>0.565217</td>\n",
       "      <td>0.681712</td>\n",
       "      <td>0.483871</td>\n",
       "      <td>0.853659</td>\n",
       "    </tr>\n",
       "    <tr>\n",
       "      <th>1</th>\n",
       "      <td>0.321888</td>\n",
       "      <td>1.0</td>\n",
       "      <td>0.769231</td>\n",
       "      <td>0.717391</td>\n",
       "      <td>0.718482</td>\n",
       "      <td>0.463710</td>\n",
       "      <td>0.853659</td>\n",
       "    </tr>\n",
       "    <tr>\n",
       "      <th>2</th>\n",
       "      <td>0.386266</td>\n",
       "      <td>1.0</td>\n",
       "      <td>0.698901</td>\n",
       "      <td>0.652174</td>\n",
       "      <td>0.668482</td>\n",
       "      <td>0.443548</td>\n",
       "      <td>0.853659</td>\n",
       "    </tr>\n",
       "    <tr>\n",
       "      <th>3</th>\n",
       "      <td>0.343348</td>\n",
       "      <td>1.0</td>\n",
       "      <td>0.668132</td>\n",
       "      <td>0.652174</td>\n",
       "      <td>0.667899</td>\n",
       "      <td>0.483871</td>\n",
       "      <td>0.853659</td>\n",
       "    </tr>\n",
       "    <tr>\n",
       "      <th>4</th>\n",
       "      <td>0.364807</td>\n",
       "      <td>1.0</td>\n",
       "      <td>0.663736</td>\n",
       "      <td>0.608696</td>\n",
       "      <td>0.671012</td>\n",
       "      <td>0.423387</td>\n",
       "      <td>0.853659</td>\n",
       "    </tr>\n",
       "  </tbody>\n",
       "</table>\n",
       "</div>"
      ],
      "text/plain": [
       "     reKm/L  recylinders  redisplacement  rehorsepower  reweight  \\\n",
       "0  0.386266          1.0        0.674725      0.565217  0.681712   \n",
       "1  0.321888          1.0        0.769231      0.717391  0.718482   \n",
       "2  0.386266          1.0        0.698901      0.652174  0.668482   \n",
       "3  0.343348          1.0        0.668132      0.652174  0.667899   \n",
       "4  0.364807          1.0        0.663736      0.608696  0.671012   \n",
       "\n",
       "   reacceleration  remodel_year  \n",
       "0        0.483871      0.853659  \n",
       "1        0.463710      0.853659  \n",
       "2        0.443548      0.853659  \n",
       "3        0.483871      0.853659  \n",
       "4        0.423387      0.853659  "
      ]
     },
     "execution_count": 51,
     "metadata": {},
     "output_type": "execute_result"
    }
   ],
   "source": [
    "newDF.head()"
   ]
  },
  {
   "cell_type": "code",
   "execution_count": 52,
   "metadata": {},
   "outputs": [],
   "source": [
    "# 새로운 데이터로 예측\n",
    "test = [9, 3.3, 104.5, 46.333, 2008.08, 13.2, 82]"
   ]
  },
  {
   "cell_type": "code",
   "execution_count": 53,
   "metadata": {},
   "outputs": [],
   "source": [
    "for i in range(1,len(test)):\n",
    "    test[i] = test[i] / div_list[i]"
   ]
  },
  {
   "cell_type": "code",
   "execution_count": 54,
   "metadata": {},
   "outputs": [],
   "source": [
    "test = test[1:]"
   ]
  },
  {
   "cell_type": "code",
   "execution_count": 55,
   "metadata": {},
   "outputs": [
    {
     "name": "stdout",
     "output_type": "stream",
     "text": [
      "예측 Km/L: 13.591657690454653\n"
     ]
    }
   ],
   "source": [
    "print('예측 Km/L: {}'.format(nu2.predict([test])[0]*div_list[0]))"
   ]
  },
  {
   "cell_type": "markdown",
   "metadata": {},
   "source": [
    "---"
   ]
  },
  {
   "cell_type": "markdown",
   "metadata": {},
   "source": [
    "[1] 모델 구성"
   ]
  },
  {
   "cell_type": "code",
   "execution_count": 59,
   "metadata": {},
   "outputs": [
    {
     "data": {
      "text/html": [
       "<div>\n",
       "<style scoped>\n",
       "    .dataframe tbody tr th:only-of-type {\n",
       "        vertical-align: middle;\n",
       "    }\n",
       "\n",
       "    .dataframe tbody tr th {\n",
       "        vertical-align: top;\n",
       "    }\n",
       "\n",
       "    .dataframe thead th {\n",
       "        text-align: right;\n",
       "    }\n",
       "</style>\n",
       "<table border=\"1\" class=\"dataframe\">\n",
       "  <thead>\n",
       "    <tr style=\"text-align: right;\">\n",
       "      <th></th>\n",
       "      <th>reKm/L</th>\n",
       "      <th>recylinders</th>\n",
       "      <th>redisplacement</th>\n",
       "      <th>rehorsepower</th>\n",
       "      <th>reweight</th>\n",
       "      <th>reacceleration</th>\n",
       "      <th>remodel_year</th>\n",
       "    </tr>\n",
       "  </thead>\n",
       "  <tbody>\n",
       "    <tr>\n",
       "      <th>0</th>\n",
       "      <td>0.386266</td>\n",
       "      <td>1.0</td>\n",
       "      <td>0.674725</td>\n",
       "      <td>0.565217</td>\n",
       "      <td>0.681712</td>\n",
       "      <td>0.483871</td>\n",
       "      <td>0.853659</td>\n",
       "    </tr>\n",
       "    <tr>\n",
       "      <th>1</th>\n",
       "      <td>0.321888</td>\n",
       "      <td>1.0</td>\n",
       "      <td>0.769231</td>\n",
       "      <td>0.717391</td>\n",
       "      <td>0.718482</td>\n",
       "      <td>0.463710</td>\n",
       "      <td>0.853659</td>\n",
       "    </tr>\n",
       "    <tr>\n",
       "      <th>2</th>\n",
       "      <td>0.386266</td>\n",
       "      <td>1.0</td>\n",
       "      <td>0.698901</td>\n",
       "      <td>0.652174</td>\n",
       "      <td>0.668482</td>\n",
       "      <td>0.443548</td>\n",
       "      <td>0.853659</td>\n",
       "    </tr>\n",
       "    <tr>\n",
       "      <th>3</th>\n",
       "      <td>0.343348</td>\n",
       "      <td>1.0</td>\n",
       "      <td>0.668132</td>\n",
       "      <td>0.652174</td>\n",
       "      <td>0.667899</td>\n",
       "      <td>0.483871</td>\n",
       "      <td>0.853659</td>\n",
       "    </tr>\n",
       "    <tr>\n",
       "      <th>4</th>\n",
       "      <td>0.364807</td>\n",
       "      <td>1.0</td>\n",
       "      <td>0.663736</td>\n",
       "      <td>0.608696</td>\n",
       "      <td>0.671012</td>\n",
       "      <td>0.423387</td>\n",
       "      <td>0.853659</td>\n",
       "    </tr>\n",
       "  </tbody>\n",
       "</table>\n",
       "</div>"
      ],
      "text/plain": [
       "     reKm/L  recylinders  redisplacement  rehorsepower  reweight  \\\n",
       "0  0.386266          1.0        0.674725      0.565217  0.681712   \n",
       "1  0.321888          1.0        0.769231      0.717391  0.718482   \n",
       "2  0.386266          1.0        0.698901      0.652174  0.668482   \n",
       "3  0.343348          1.0        0.668132      0.652174  0.667899   \n",
       "4  0.364807          1.0        0.663736      0.608696  0.671012   \n",
       "\n",
       "   reacceleration  remodel_year  \n",
       "0        0.483871      0.853659  \n",
       "1        0.463710      0.853659  \n",
       "2        0.443548      0.853659  \n",
       "3        0.483871      0.853659  \n",
       "4        0.423387      0.853659  "
      ]
     },
     "execution_count": 59,
     "metadata": {},
     "output_type": "execute_result"
    }
   ],
   "source": [
    "newDF.head()"
   ]
  },
  {
   "cell_type": "code",
   "execution_count": 56,
   "metadata": {},
   "outputs": [],
   "source": [
    "from tensorflow.keras import Sequential\n",
    "from tensorflow.keras.layers import Dense\n",
    "import numpy as np"
   ]
  },
  {
   "cell_type": "code",
   "execution_count": 57,
   "metadata": {},
   "outputs": [],
   "source": [
    "model = Sequential(name='auto_mpg')"
   ]
  },
  {
   "cell_type": "code",
   "execution_count": 62,
   "metadata": {},
   "outputs": [],
   "source": [
    "# 첫번째 층은 반드시 입력 정보 파라미터 설정 => input_shape=() 튜플 타입, input_dim=숫자\n",
    "l1 = Dense(64, activation='relu', input_shape=(6,)) # 무조건 1차원"
   ]
  },
  {
   "cell_type": "code",
   "execution_count": 63,
   "metadata": {},
   "outputs": [],
   "source": [
    "l2 = Dense(64, activation='relu') # 히든레이어에서 기울기 손실 방지"
   ]
  },
  {
   "cell_type": "code",
   "execution_count": 64,
   "metadata": {},
   "outputs": [],
   "source": [
    "l3 = Dense(1)"
   ]
  },
  {
   "cell_type": "code",
   "execution_count": 65,
   "metadata": {},
   "outputs": [],
   "source": [
    "model.add(l1)\n",
    "model.add(l2)\n",
    "model.add(l3)"
   ]
  },
  {
   "cell_type": "code",
   "execution_count": 66,
   "metadata": {},
   "outputs": [
    {
     "name": "stdout",
     "output_type": "stream",
     "text": [
      "Model: \"auto_mpg\"\n",
      "_________________________________________________________________\n",
      "Layer (type)                 Output Shape              Param #   \n",
      "=================================================================\n",
      "dense_2 (Dense)              (None, 64)                448       \n",
      "_________________________________________________________________\n",
      "dense_3 (Dense)              (None, 64)                4160      \n",
      "_________________________________________________________________\n",
      "dense_4 (Dense)              (None, 1)                 65        \n",
      "=================================================================\n",
      "Total params: 4,673\n",
      "Trainable params: 4,673\n",
      "Non-trainable params: 0\n",
      "_________________________________________________________________\n"
     ]
    }
   ],
   "source": [
    "# 모델 구성확인 => summary()\n",
    "model.summary()"
   ]
  },
  {
   "cell_type": "markdown",
   "metadata": {},
   "source": [
    "[2] 모델 생성"
   ]
  },
  {
   "cell_type": "code",
   "execution_count": 67,
   "metadata": {},
   "outputs": [],
   "source": [
    "model.compile(optimizer='adam', loss='mse', metrics=['mae', 'mse'])"
   ]
  },
  {
   "cell_type": "code",
   "execution_count": 68,
   "metadata": {},
   "outputs": [],
   "source": [
    "from sklearn.model_selection import train_test_split\n",
    "\n",
    "train_X, test_X, train_y, test_y = train_test_split(newDF.iloc[:, 1:], newDF.iloc[:,0], test_size=0.2, random_state=42)"
   ]
  },
  {
   "cell_type": "code",
   "execution_count": 69,
   "metadata": {},
   "outputs": [
    {
     "data": {
      "text/plain": [
       "((313, 6), (79, 6), (313,), (79,))"
      ]
     },
     "execution_count": 69,
     "metadata": {},
     "output_type": "execute_result"
    }
   ],
   "source": [
    "train_X.shape, test_X.shape, train_y.shape, test_y.shape"
   ]
  },
  {
   "cell_type": "markdown",
   "metadata": {},
   "source": [
    "[3] 모델 학습"
   ]
  },
  {
   "cell_type": "code",
   "execution_count": 70,
   "metadata": {},
   "outputs": [
    {
     "name": "stdout",
     "output_type": "stream",
     "text": [
      "Epoch 1/100\n",
      "10/10 [==============================] - 1s 23ms/step - loss: 0.0675 - mae: 0.2094 - mse: 0.0675 - val_loss: 0.0374 - val_mae: 0.1582 - val_mse: 0.0374\n",
      "Epoch 2/100\n",
      "10/10 [==============================] - 0s 4ms/step - loss: 0.0268 - mae: 0.1361 - mse: 0.0268 - val_loss: 0.0104 - val_mae: 0.0742 - val_mse: 0.0104\n",
      "Epoch 3/100\n",
      "10/10 [==============================] - 0s 4ms/step - loss: 0.0141 - mae: 0.0879 - mse: 0.0141 - val_loss: 0.0089 - val_mae: 0.0759 - val_mse: 0.0089\n",
      "Epoch 4/100\n",
      "10/10 [==============================] - 0s 4ms/step - loss: 0.0106 - mae: 0.0811 - mse: 0.0106 - val_loss: 0.0081 - val_mae: 0.0746 - val_mse: 0.0081\n",
      "Epoch 5/100\n",
      "10/10 [==============================] - 0s 4ms/step - loss: 0.0098 - mae: 0.0775 - mse: 0.0098 - val_loss: 0.0080 - val_mae: 0.0720 - val_mse: 0.0080\n",
      "Epoch 6/100\n",
      "10/10 [==============================] - 0s 4ms/step - loss: 0.0089 - mae: 0.0716 - mse: 0.0089 - val_loss: 0.0065 - val_mae: 0.0634 - val_mse: 0.0065\n",
      "Epoch 7/100\n",
      "10/10 [==============================] - 0s 4ms/step - loss: 0.0079 - mae: 0.0657 - mse: 0.0079 - val_loss: 0.0063 - val_mae: 0.0628 - val_mse: 0.0063\n",
      "Epoch 8/100\n",
      "10/10 [==============================] - 0s 5ms/step - loss: 0.0073 - mae: 0.0628 - mse: 0.0073 - val_loss: 0.0063 - val_mae: 0.0624 - val_mse: 0.0063\n",
      "Epoch 9/100\n",
      "10/10 [==============================] - 0s 6ms/step - loss: 0.0067 - mae: 0.0594 - mse: 0.0067 - val_loss: 0.0057 - val_mae: 0.0588 - val_mse: 0.0057\n",
      "Epoch 10/100\n",
      "10/10 [==============================] - 0s 5ms/step - loss: 0.0065 - mae: 0.0581 - mse: 0.0065 - val_loss: 0.0055 - val_mae: 0.0573 - val_mse: 0.0055\n",
      "Epoch 11/100\n",
      "10/10 [==============================] - 0s 7ms/step - loss: 0.0061 - mae: 0.0551 - mse: 0.0061 - val_loss: 0.0059 - val_mae: 0.0605 - val_mse: 0.0059\n",
      "Epoch 12/100\n",
      "10/10 [==============================] - 0s 5ms/step - loss: 0.0059 - mae: 0.0548 - mse: 0.0059 - val_loss: 0.0051 - val_mae: 0.0547 - val_mse: 0.0051\n",
      "Epoch 13/100\n",
      "10/10 [==============================] - 0s 5ms/step - loss: 0.0056 - mae: 0.0529 - mse: 0.0056 - val_loss: 0.0050 - val_mae: 0.0539 - val_mse: 0.0050\n",
      "Epoch 14/100\n",
      "10/10 [==============================] - 0s 5ms/step - loss: 0.0053 - mae: 0.0509 - mse: 0.0053 - val_loss: 0.0051 - val_mae: 0.0543 - val_mse: 0.0051\n",
      "Epoch 15/100\n",
      "10/10 [==============================] - 0s 5ms/step - loss: 0.0052 - mae: 0.0507 - mse: 0.0052 - val_loss: 0.0046 - val_mae: 0.0522 - val_mse: 0.0046\n",
      "Epoch 16/100\n",
      "10/10 [==============================] - 0s 4ms/step - loss: 0.0055 - mae: 0.0522 - mse: 0.0055 - val_loss: 0.0048 - val_mae: 0.0558 - val_mse: 0.0048\n",
      "Epoch 17/100\n",
      "10/10 [==============================] - 0s 3ms/step - loss: 0.0052 - mae: 0.0522 - mse: 0.0052 - val_loss: 0.0054 - val_mae: 0.0571 - val_mse: 0.0054\n",
      "Epoch 18/100\n",
      "10/10 [==============================] - 0s 4ms/step - loss: 0.0049 - mae: 0.0492 - mse: 0.0049 - val_loss: 0.0046 - val_mae: 0.0509 - val_mse: 0.0046\n",
      "Epoch 19/100\n",
      "10/10 [==============================] - 0s 3ms/step - loss: 0.0047 - mae: 0.0483 - mse: 0.0047 - val_loss: 0.0047 - val_mae: 0.0511 - val_mse: 0.0047\n",
      "Epoch 20/100\n",
      "10/10 [==============================] - 0s 4ms/step - loss: 0.0046 - mae: 0.0479 - mse: 0.0046 - val_loss: 0.0044 - val_mae: 0.0496 - val_mse: 0.0044\n",
      "Epoch 21/100\n",
      "10/10 [==============================] - 0s 3ms/step - loss: 0.0046 - mae: 0.0474 - mse: 0.0046 - val_loss: 0.0042 - val_mae: 0.0485 - val_mse: 0.0042\n",
      "Epoch 22/100\n",
      "10/10 [==============================] - 0s 3ms/step - loss: 0.0045 - mae: 0.0479 - mse: 0.0045 - val_loss: 0.0041 - val_mae: 0.0496 - val_mse: 0.0041\n",
      "Epoch 23/100\n",
      "10/10 [==============================] - 0s 3ms/step - loss: 0.0046 - mae: 0.0481 - mse: 0.0046 - val_loss: 0.0040 - val_mae: 0.0498 - val_mse: 0.0040\n",
      "Epoch 24/100\n",
      "10/10 [==============================] - 0s 4ms/step - loss: 0.0046 - mae: 0.0485 - mse: 0.0046 - val_loss: 0.0039 - val_mae: 0.0467 - val_mse: 0.0039\n",
      "Epoch 25/100\n",
      "10/10 [==============================] - 0s 4ms/step - loss: 0.0044 - mae: 0.0468 - mse: 0.0044 - val_loss: 0.0039 - val_mae: 0.0481 - val_mse: 0.0039\n",
      "Epoch 26/100\n",
      "10/10 [==============================] - 0s 4ms/step - loss: 0.0043 - mae: 0.0470 - mse: 0.0043 - val_loss: 0.0039 - val_mae: 0.0472 - val_mse: 0.0039\n",
      "Epoch 27/100\n",
      "10/10 [==============================] - 0s 3ms/step - loss: 0.0042 - mae: 0.0457 - mse: 0.0042 - val_loss: 0.0041 - val_mae: 0.0468 - val_mse: 0.0041\n",
      "Epoch 28/100\n",
      "10/10 [==============================] - 0s 3ms/step - loss: 0.0044 - mae: 0.0468 - mse: 0.0044 - val_loss: 0.0040 - val_mae: 0.0459 - val_mse: 0.0040\n",
      "Epoch 29/100\n",
      "10/10 [==============================] - 0s 3ms/step - loss: 0.0045 - mae: 0.0485 - mse: 0.0045 - val_loss: 0.0055 - val_mae: 0.0563 - val_mse: 0.0055\n",
      "Epoch 30/100\n",
      "10/10 [==============================] - 0s 3ms/step - loss: 0.0052 - mae: 0.0533 - mse: 0.0052 - val_loss: 0.0052 - val_mae: 0.0557 - val_mse: 0.0052\n",
      "Epoch 31/100\n",
      "10/10 [==============================] - 0s 3ms/step - loss: 0.0048 - mae: 0.0514 - mse: 0.0048 - val_loss: 0.0050 - val_mae: 0.0534 - val_mse: 0.0050\n",
      "Epoch 32/100\n",
      "10/10 [==============================] - 0s 3ms/step - loss: 0.0043 - mae: 0.0473 - mse: 0.0043 - val_loss: 0.0043 - val_mae: 0.0485 - val_mse: 0.0043\n",
      "Epoch 33/100\n",
      "10/10 [==============================] - 0s 3ms/step - loss: 0.0041 - mae: 0.0448 - mse: 0.0041 - val_loss: 0.0038 - val_mae: 0.0456 - val_mse: 0.0038\n",
      "Epoch 34/100\n",
      "10/10 [==============================] - 0s 3ms/step - loss: 0.0040 - mae: 0.0444 - mse: 0.0040 - val_loss: 0.0043 - val_mae: 0.0494 - val_mse: 0.0043\n",
      "Epoch 35/100\n",
      "10/10 [==============================] - 0s 3ms/step - loss: 0.0042 - mae: 0.0455 - mse: 0.0042 - val_loss: 0.0049 - val_mae: 0.0538 - val_mse: 0.0049\n",
      "Epoch 36/100\n",
      "10/10 [==============================] - 0s 3ms/step - loss: 0.0045 - mae: 0.0492 - mse: 0.0045 - val_loss: 0.0041 - val_mae: 0.0475 - val_mse: 0.0041\n",
      "Epoch 37/100\n",
      "10/10 [==============================] - 0s 3ms/step - loss: 0.0040 - mae: 0.0451 - mse: 0.0040 - val_loss: 0.0036 - val_mae: 0.0453 - val_mse: 0.0036\n",
      "Epoch 38/100\n",
      "10/10 [==============================] - 0s 3ms/step - loss: 0.0040 - mae: 0.0445 - mse: 0.0040 - val_loss: 0.0037 - val_mae: 0.0454 - val_mse: 0.0037\n",
      "Epoch 39/100\n",
      "10/10 [==============================] - 0s 3ms/step - loss: 0.0041 - mae: 0.0458 - mse: 0.0041 - val_loss: 0.0038 - val_mae: 0.0488 - val_mse: 0.0038\n",
      "Epoch 40/100\n",
      "10/10 [==============================] - 0s 3ms/step - loss: 0.0043 - mae: 0.0479 - mse: 0.0043 - val_loss: 0.0036 - val_mae: 0.0473 - val_mse: 0.0036\n",
      "Epoch 41/100\n",
      "10/10 [==============================] - 0s 3ms/step - loss: 0.0042 - mae: 0.0468 - mse: 0.0042 - val_loss: 0.0038 - val_mae: 0.0455 - val_mse: 0.0038\n",
      "Epoch 42/100\n",
      "10/10 [==============================] - 0s 3ms/step - loss: 0.0040 - mae: 0.0444 - mse: 0.0040 - val_loss: 0.0038 - val_mae: 0.0452 - val_mse: 0.0038\n",
      "Epoch 43/100\n",
      "10/10 [==============================] - 0s 3ms/step - loss: 0.0039 - mae: 0.0443 - mse: 0.0039 - val_loss: 0.0039 - val_mae: 0.0459 - val_mse: 0.0039\n",
      "Epoch 44/100\n",
      "10/10 [==============================] - 0s 3ms/step - loss: 0.0039 - mae: 0.0448 - mse: 0.0039 - val_loss: 0.0038 - val_mae: 0.0454 - val_mse: 0.0038\n",
      "Epoch 45/100\n",
      "10/10 [==============================] - 0s 4ms/step - loss: 0.0039 - mae: 0.0438 - mse: 0.0039 - val_loss: 0.0035 - val_mae: 0.0432 - val_mse: 0.0035\n",
      "Epoch 46/100\n",
      "10/10 [==============================] - 0s 3ms/step - loss: 0.0039 - mae: 0.0441 - mse: 0.0039 - val_loss: 0.0050 - val_mae: 0.0543 - val_mse: 0.0050\n",
      "Epoch 47/100\n",
      "10/10 [==============================] - 0s 3ms/step - loss: 0.0042 - mae: 0.0476 - mse: 0.0042 - val_loss: 0.0049 - val_mae: 0.0541 - val_mse: 0.0049\n",
      "Epoch 48/100\n",
      "10/10 [==============================] - 0s 3ms/step - loss: 0.0041 - mae: 0.0461 - mse: 0.0041 - val_loss: 0.0036 - val_mae: 0.0450 - val_mse: 0.0036\n",
      "Epoch 49/100\n",
      "10/10 [==============================] - 0s 3ms/step - loss: 0.0038 - mae: 0.0434 - mse: 0.0038 - val_loss: 0.0035 - val_mae: 0.0433 - val_mse: 0.0035\n",
      "Epoch 50/100\n",
      "10/10 [==============================] - 0s 3ms/step - loss: 0.0039 - mae: 0.0440 - mse: 0.0039 - val_loss: 0.0036 - val_mae: 0.0443 - val_mse: 0.0036\n",
      "Epoch 51/100\n",
      "10/10 [==============================] - 0s 3ms/step - loss: 0.0038 - mae: 0.0432 - mse: 0.0038 - val_loss: 0.0036 - val_mae: 0.0437 - val_mse: 0.0036\n",
      "Epoch 52/100\n",
      "10/10 [==============================] - 0s 3ms/step - loss: 0.0038 - mae: 0.0431 - mse: 0.0038 - val_loss: 0.0037 - val_mae: 0.0451 - val_mse: 0.0037\n",
      "Epoch 53/100\n",
      "10/10 [==============================] - 0s 3ms/step - loss: 0.0038 - mae: 0.0441 - mse: 0.0038 - val_loss: 0.0038 - val_mae: 0.0455 - val_mse: 0.0038\n",
      "Epoch 54/100\n",
      "10/10 [==============================] - 0s 3ms/step - loss: 0.0038 - mae: 0.0444 - mse: 0.0038 - val_loss: 0.0035 - val_mae: 0.0450 - val_mse: 0.0035\n",
      "Epoch 55/100\n",
      "10/10 [==============================] - 0s 3ms/step - loss: 0.0040 - mae: 0.0463 - mse: 0.0040 - val_loss: 0.0035 - val_mae: 0.0443 - val_mse: 0.0035\n",
      "Epoch 56/100\n",
      "10/10 [==============================] - 0s 3ms/step - loss: 0.0040 - mae: 0.0450 - mse: 0.0040 - val_loss: 0.0041 - val_mae: 0.0476 - val_mse: 0.0041\n",
      "Epoch 57/100\n",
      "10/10 [==============================] - 0s 3ms/step - loss: 0.0039 - mae: 0.0442 - mse: 0.0039 - val_loss: 0.0035 - val_mae: 0.0447 - val_mse: 0.0035\n",
      "Epoch 58/100\n",
      "10/10 [==============================] - 0s 3ms/step - loss: 0.0040 - mae: 0.0460 - mse: 0.0040 - val_loss: 0.0035 - val_mae: 0.0434 - val_mse: 0.0035\n",
      "Epoch 59/100\n",
      "10/10 [==============================] - 0s 3ms/step - loss: 0.0041 - mae: 0.0469 - mse: 0.0041 - val_loss: 0.0039 - val_mae: 0.0460 - val_mse: 0.0039\n",
      "Epoch 60/100\n",
      "10/10 [==============================] - 0s 3ms/step - loss: 0.0039 - mae: 0.0456 - mse: 0.0039 - val_loss: 0.0036 - val_mae: 0.0454 - val_mse: 0.0036\n",
      "Epoch 61/100\n",
      "10/10 [==============================] - 0s 3ms/step - loss: 0.0038 - mae: 0.0447 - mse: 0.0038 - val_loss: 0.0035 - val_mae: 0.0448 - val_mse: 0.0035\n",
      "Epoch 62/100\n",
      "10/10 [==============================] - 0s 3ms/step - loss: 0.0040 - mae: 0.0459 - mse: 0.0040 - val_loss: 0.0035 - val_mae: 0.0461 - val_mse: 0.0035\n",
      "Epoch 63/100\n",
      "10/10 [==============================] - 0s 3ms/step - loss: 0.0039 - mae: 0.0448 - mse: 0.0039 - val_loss: 0.0039 - val_mae: 0.0463 - val_mse: 0.0039\n",
      "Epoch 64/100\n",
      "10/10 [==============================] - 0s 3ms/step - loss: 0.0038 - mae: 0.0439 - mse: 0.0038 - val_loss: 0.0043 - val_mae: 0.0504 - val_mse: 0.0043\n",
      "Epoch 65/100\n",
      "10/10 [==============================] - 0s 4ms/step - loss: 0.0040 - mae: 0.0472 - mse: 0.0040 - val_loss: 0.0044 - val_mae: 0.0491 - val_mse: 0.0044\n",
      "Epoch 66/100\n",
      "10/10 [==============================] - 0s 3ms/step - loss: 0.0039 - mae: 0.0456 - mse: 0.0039 - val_loss: 0.0034 - val_mae: 0.0432 - val_mse: 0.0034\n",
      "Epoch 67/100\n",
      "10/10 [==============================] - 0s 3ms/step - loss: 0.0041 - mae: 0.0455 - mse: 0.0041 - val_loss: 0.0034 - val_mae: 0.0447 - val_mse: 0.0034\n",
      "Epoch 68/100\n",
      "10/10 [==============================] - 0s 3ms/step - loss: 0.0042 - mae: 0.0469 - mse: 0.0042 - val_loss: 0.0036 - val_mae: 0.0466 - val_mse: 0.0036\n",
      "Epoch 69/100\n",
      "10/10 [==============================] - 0s 3ms/step - loss: 0.0037 - mae: 0.0443 - mse: 0.0037 - val_loss: 0.0037 - val_mae: 0.0451 - val_mse: 0.0037\n",
      "Epoch 70/100\n",
      "10/10 [==============================] - 0s 3ms/step - loss: 0.0038 - mae: 0.0450 - mse: 0.0038 - val_loss: 0.0035 - val_mae: 0.0456 - val_mse: 0.0035\n",
      "Epoch 71/100\n",
      "10/10 [==============================] - 0s 3ms/step - loss: 0.0038 - mae: 0.0440 - mse: 0.0038 - val_loss: 0.0039 - val_mae: 0.0468 - val_mse: 0.0039\n",
      "Epoch 72/100\n",
      "10/10 [==============================] - 0s 3ms/step - loss: 0.0038 - mae: 0.0445 - mse: 0.0038 - val_loss: 0.0037 - val_mae: 0.0449 - val_mse: 0.0037\n",
      "Epoch 73/100\n",
      "10/10 [==============================] - 0s 3ms/step - loss: 0.0039 - mae: 0.0452 - mse: 0.0039 - val_loss: 0.0041 - val_mae: 0.0488 - val_mse: 0.0041\n",
      "Epoch 74/100\n",
      "10/10 [==============================] - 0s 3ms/step - loss: 0.0039 - mae: 0.0456 - mse: 0.0039 - val_loss: 0.0041 - val_mae: 0.0484 - val_mse: 0.0041\n",
      "Epoch 75/100\n",
      "10/10 [==============================] - 0s 3ms/step - loss: 0.0037 - mae: 0.0437 - mse: 0.0037 - val_loss: 0.0035 - val_mae: 0.0443 - val_mse: 0.0035\n",
      "Epoch 76/100\n",
      "10/10 [==============================] - 0s 3ms/step - loss: 0.0038 - mae: 0.0436 - mse: 0.0038 - val_loss: 0.0038 - val_mae: 0.0453 - val_mse: 0.0038\n",
      "Epoch 77/100\n",
      "10/10 [==============================] - 0s 3ms/step - loss: 0.0037 - mae: 0.0431 - mse: 0.0037 - val_loss: 0.0038 - val_mae: 0.0457 - val_mse: 0.0038\n",
      "Epoch 78/100\n",
      "10/10 [==============================] - 0s 3ms/step - loss: 0.0036 - mae: 0.0431 - mse: 0.0036 - val_loss: 0.0047 - val_mae: 0.0528 - val_mse: 0.0047\n",
      "Epoch 79/100\n",
      "10/10 [==============================] - 0s 3ms/step - loss: 0.0041 - mae: 0.0489 - mse: 0.0041 - val_loss: 0.0055 - val_mae: 0.0595 - val_mse: 0.0055\n",
      "Epoch 80/100\n",
      "10/10 [==============================] - 0s 3ms/step - loss: 0.0042 - mae: 0.0488 - mse: 0.0042 - val_loss: 0.0042 - val_mae: 0.0488 - val_mse: 0.0042\n",
      "Epoch 81/100\n",
      "10/10 [==============================] - 0s 3ms/step - loss: 0.0040 - mae: 0.0472 - mse: 0.0040 - val_loss: 0.0036 - val_mae: 0.0441 - val_mse: 0.0036\n",
      "Epoch 82/100\n",
      "10/10 [==============================] - 0s 3ms/step - loss: 0.0039 - mae: 0.0464 - mse: 0.0039 - val_loss: 0.0037 - val_mae: 0.0475 - val_mse: 0.0037\n",
      "Epoch 83/100\n",
      "10/10 [==============================] - 0s 3ms/step - loss: 0.0040 - mae: 0.0466 - mse: 0.0040 - val_loss: 0.0035 - val_mae: 0.0453 - val_mse: 0.0035\n",
      "Epoch 84/100\n",
      "10/10 [==============================] - 0s 3ms/step - loss: 0.0037 - mae: 0.0445 - mse: 0.0037 - val_loss: 0.0036 - val_mae: 0.0444 - val_mse: 0.0036\n",
      "Epoch 85/100\n",
      "10/10 [==============================] - 0s 3ms/step - loss: 0.0038 - mae: 0.0446 - mse: 0.0038 - val_loss: 0.0035 - val_mae: 0.0456 - val_mse: 0.0035\n",
      "Epoch 86/100\n",
      "10/10 [==============================] - 0s 3ms/step - loss: 0.0041 - mae: 0.0465 - mse: 0.0041 - val_loss: 0.0040 - val_mae: 0.0484 - val_mse: 0.0040\n",
      "Epoch 87/100\n",
      "10/10 [==============================] - 0s 3ms/step - loss: 0.0038 - mae: 0.0440 - mse: 0.0038 - val_loss: 0.0045 - val_mae: 0.0512 - val_mse: 0.0045\n",
      "Epoch 88/100\n",
      "10/10 [==============================] - 0s 3ms/step - loss: 0.0038 - mae: 0.0453 - mse: 0.0038 - val_loss: 0.0037 - val_mae: 0.0453 - val_mse: 0.0037\n",
      "Epoch 89/100\n",
      "10/10 [==============================] - 0s 3ms/step - loss: 0.0041 - mae: 0.0480 - mse: 0.0041 - val_loss: 0.0034 - val_mae: 0.0429 - val_mse: 0.0034\n",
      "Epoch 90/100\n",
      "10/10 [==============================] - 0s 3ms/step - loss: 0.0039 - mae: 0.0464 - mse: 0.0039 - val_loss: 0.0036 - val_mae: 0.0453 - val_mse: 0.0036\n",
      "Epoch 91/100\n",
      "10/10 [==============================] - 0s 3ms/step - loss: 0.0038 - mae: 0.0451 - mse: 0.0038 - val_loss: 0.0035 - val_mae: 0.0449 - val_mse: 0.0035\n",
      "Epoch 92/100\n",
      "10/10 [==============================] - 0s 3ms/step - loss: 0.0038 - mae: 0.0441 - mse: 0.0038 - val_loss: 0.0038 - val_mae: 0.0460 - val_mse: 0.0038\n",
      "Epoch 93/100\n",
      "10/10 [==============================] - 0s 3ms/step - loss: 0.0036 - mae: 0.0437 - mse: 0.0036 - val_loss: 0.0041 - val_mae: 0.0473 - val_mse: 0.0041\n",
      "Epoch 94/100\n",
      "10/10 [==============================] - 0s 3ms/step - loss: 0.0037 - mae: 0.0445 - mse: 0.0037 - val_loss: 0.0048 - val_mae: 0.0548 - val_mse: 0.0048\n",
      "Epoch 95/100\n",
      "10/10 [==============================] - 0s 4ms/step - loss: 0.0037 - mae: 0.0450 - mse: 0.0037 - val_loss: 0.0038 - val_mae: 0.0462 - val_mse: 0.0038\n",
      "Epoch 96/100\n",
      "10/10 [==============================] - 0s 3ms/step - loss: 0.0036 - mae: 0.0437 - mse: 0.0036 - val_loss: 0.0037 - val_mae: 0.0451 - val_mse: 0.0037\n",
      "Epoch 97/100\n",
      "10/10 [==============================] - 0s 3ms/step - loss: 0.0036 - mae: 0.0430 - mse: 0.0036 - val_loss: 0.0035 - val_mae: 0.0441 - val_mse: 0.0035\n",
      "Epoch 98/100\n",
      "10/10 [==============================] - 0s 3ms/step - loss: 0.0036 - mae: 0.0433 - mse: 0.0036 - val_loss: 0.0036 - val_mae: 0.0447 - val_mse: 0.0036\n",
      "Epoch 99/100\n",
      "10/10 [==============================] - 0s 3ms/step - loss: 0.0037 - mae: 0.0441 - mse: 0.0037 - val_loss: 0.0035 - val_mae: 0.0438 - val_mse: 0.0035\n",
      "Epoch 100/100\n",
      "10/10 [==============================] - 0s 3ms/step - loss: 0.0036 - mae: 0.0428 - mse: 0.0036 - val_loss: 0.0037 - val_mae: 0.0454 - val_mse: 0.0037\n"
     ]
    }
   ],
   "source": [
    "hist = model.fit(train_X, train_y, validation_data=(test_X, test_y), epochs=100)"
   ]
  },
  {
   "cell_type": "code",
   "execution_count": 73,
   "metadata": {},
   "outputs": [
    {
     "data": {
      "image/png": "[encoded data removed]",
      "text/plain": [
       "<Figure size 864x576 with 1 Axes>"
      ]
     },
     "metadata": {
      "needs_background": "light"
     },
     "output_type": "display_data"
    }
   ],
   "source": [
    "import matplotlib.pyplot as plt\n",
    "\n",
    "plt.figure(figsize=(12,8))\n",
    "plt.plot(hist.history['loss'])\n",
    "plt.plot(hist.history['val_loss'])\n",
    "plt.plot(hist.history['mae'])\n",
    "plt.plot(hist.history['val_mae'])\n",
    "plt.plot(hist.history['mse'])\n",
    "plt.plot(hist.history['val_mse'])\n",
    "plt.legend(['loss','val_loss', 'mae','val_mae','mse','val_mse'])\n",
    "plt.grid()\n",
    "plt.show()"
   ]
  },
  {
   "cell_type": "markdown",
   "metadata": {},
   "source": [
    "[4] 모델 평가"
   ]
  },
  {
   "cell_type": "code",
   "execution_count": 95,
   "metadata": {},
   "outputs": [
    {
     "name": "stdout",
     "output_type": "stream",
     "text": [
      "3/3 [==============================] - 0s 1ms/step - loss: 0.0037 - mae: 0.0454 - mse: 0.0037\n"
     ]
    },
    {
     "data": {
      "text/plain": [
       "[0.003703364171087742, 0.045359738171100616, 0.003703364171087742]"
      ]
     },
     "execution_count": 95,
     "metadata": {},
     "output_type": "execute_result"
    }
   ],
   "source": [
    "model.evaluate(test_X, test_y)"
   ]
  },
  {
   "cell_type": "markdown",
   "metadata": {},
   "source": [
    "[4]-1 위에서 썼던 NuSVR 모델 평가  "
   ]
  },
  {
   "cell_type": "code",
   "execution_count": 96,
   "metadata": {},
   "outputs": [],
   "source": [
    "from sklearn.metrics import mean_squared_error, mean_absolute_error"
   ]
  },
  {
   "cell_type": "code",
   "execution_count": 100,
   "metadata": {},
   "outputs": [
    {
     "name": "stdout",
     "output_type": "stream",
     "text": [
      "mae: 0.038047791400937496, mse: 0.0025441527289205893\n"
     ]
    }
   ],
   "source": [
    "print('mae: {}, mse: {}'.format(mean_absolute_error(test_y, nu2.predict(test_X)), mean_squared_error(test_y, nu2.predict(test_X))))"
   ]
  },
  {
   "cell_type": "markdown",
   "metadata": {},
   "source": [
    "[5] 모델 예측"
   ]
  },
  {
   "cell_type": "code",
   "execution_count": 94,
   "metadata": {},
   "outputs": [
    {
     "name": "stdout",
     "output_type": "stream",
     "text": [
      "예측 Km/L: [15.706531]\n"
     ]
    }
   ],
   "source": [
    "print('예측 Km/L: {}'.format(model.predict([test])[0]*div_list[0]))"
   ]
  },
  {
   "cell_type": "code",
   "execution_count": null,
   "metadata": {},
   "outputs": [],
   "source": []
  }
 ],
 "metadata": {
  "kernelspec": {
   "display_name": "Python 3.9.12 ('base')",
   "language": "python",
   "name": "python3"
  },
  "language_info": {
   "codemirror_mode": {
    "name": "ipython",
    "version": 3
   },
   "file_extension": ".py",
   "mimetype": "text/x-python",
   "name": "python",
   "nbconvert_exporter": "python",
   "pygments_lexer": "ipython3",
   "version": "3.9.12"
  },
  "orig_nbformat": 4,
  "vscode": {
   "interpreter": {
    "hash": "ad2bdc8ecc057115af97d19610ffacc2b4e99fae6737bb82f5d7fb13d2f2c186"
   }
  }
 },
 "nbformat": 4,
 "nbformat_minor": 2
}
