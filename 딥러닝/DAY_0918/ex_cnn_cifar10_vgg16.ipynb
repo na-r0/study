{
 "cells": [
  {
   "cell_type": "markdown",
   "id": "4994c664",
   "metadata": {},
   "source": [
    "### CiFAR 이미지 분류 모델 구현\n",
    "- 데이터: ciFAR-10\n",
    "- 학습 방법: 10가지 이미지 종류 분류 => 다중 분류\n",
    "- 이미지: VGG16"
   ]
  },
  {
   "cell_type": "code",
   "execution_count": 1,
   "id": "81526d17",
   "metadata": {},
   "outputs": [],
   "source": [
    "from tensorflow import random # random seed 설정용\n",
    "from tensorflow.keras import Sequential\n",
    "from tensorflow.keras.layers import Dense, Conv2D, Flatten, MaxPool2D, Dropout\n",
    "from tensorflow.keras.datasets.cifar10 import load_data\n",
    "import matplotlib.pyplot as plt\n",
    "import numpy as np"
   ]
  },
  {
   "cell_type": "markdown",
   "id": "33f49a65",
   "metadata": {},
   "source": [
    "[1] 데이터 로딩 및 학습"
   ]
  },
  {
   "cell_type": "code",
   "execution_count": 2,
   "id": "df01ea27",
   "metadata": {},
   "outputs": [],
   "source": [
    "(train_X, train_y), (test_X, test_y) = load_data()"
   ]
  },
  {
   "cell_type": "code",
   "execution_count": 3,
   "id": "6852f0b8",
   "metadata": {},
   "outputs": [
    {
     "data": {
      "text/plain": [
       "((50000, 32, 32, 3), (50000, 1))"
      ]
     },
     "execution_count": 3,
     "metadata": {},
     "output_type": "execute_result"
    }
   ],
   "source": [
    "train_X.shape, train_y.shape"
   ]
  },
  {
   "cell_type": "markdown",
   "id": "e2cddeb8",
   "metadata": {},
   "source": [
    "[2] 데이터 전처리 및 학습 형태로 변환"
   ]
  },
  {
   "cell_type": "code",
   "execution_count": 4,
   "id": "8fed0a51",
   "metadata": {},
   "outputs": [],
   "source": [
    "# 스케일링 => 픽셀/255.0\n",
    "train_X = train_X/255.0\n",
    "test_X = test_X/255.0"
   ]
  },
  {
   "cell_type": "code",
   "execution_count": 5,
   "id": "5004dc06",
   "metadata": {},
   "outputs": [],
   "source": [
    "# 검증용 데이터 준비\n",
    "from sklearn.model_selection import train_test_split\n",
    "\n",
    "train_X, val_X, train_y, val_y = train_test_split(train_X, train_y,\n",
    "                                                  stratify=train_y,\n",
    "                                                  random_state=11)"
   ]
  },
  {
   "cell_type": "code",
   "execution_count": 6,
   "id": "733be5eb",
   "metadata": {},
   "outputs": [
    {
     "data": {
      "text/plain": [
       "((37500, 32, 32, 3), (12500, 32, 32, 3))"
      ]
     },
     "execution_count": 6,
     "metadata": {},
     "output_type": "execute_result"
    }
   ],
   "source": [
    "train_X.shape, val_X.shape"
   ]
  },
  {
   "cell_type": "markdown",
   "id": "97affc21",
   "metadata": {},
   "source": [
    "[3] 모델 구성 및 생성"
   ]
  },
  {
   "cell_type": "code",
   "execution_count": 8,
   "id": "4452d31c",
   "metadata": {},
   "outputs": [],
   "source": [
    "from tensorflow.keras.applications import vgg16"
   ]
  },
  {
   "cell_type": "code",
   "execution_count": 9,
   "id": "32d1e670",
   "metadata": {},
   "outputs": [],
   "source": [
    "random.set_seed(11)"
   ]
  },
  {
   "cell_type": "code",
   "execution_count": 11,
   "id": "3151c33d",
   "metadata": {},
   "outputs": [
    {
     "name": "stdout",
     "output_type": "stream",
     "text": [
      "Model: \"vgg16\"\n",
      "_________________________________________________________________\n",
      " Layer (type)                Output Shape              Param #   \n",
      "=================================================================\n",
      " input_2 (InputLayer)        [(None, 32, 32, 3)]       0         \n",
      "                                                                 \n",
      " block1_conv1 (Conv2D)       (None, 32, 32, 64)        1792      \n",
      "                                                                 \n",
      " block1_conv2 (Conv2D)       (None, 32, 32, 64)        36928     \n",
      "                                                                 \n",
      " block1_pool (MaxPooling2D)  (None, 16, 16, 64)        0         \n",
      "                                                                 \n",
      " block2_conv1 (Conv2D)       (None, 16, 16, 128)       73856     \n",
      "                                                                 \n",
      " block2_conv2 (Conv2D)       (None, 16, 16, 128)       147584    \n",
      "                                                                 \n",
      " block2_pool (MaxPooling2D)  (None, 8, 8, 128)         0         \n",
      "                                                                 \n",
      " block3_conv1 (Conv2D)       (None, 8, 8, 256)         295168    \n",
      "                                                                 \n",
      " block3_conv2 (Conv2D)       (None, 8, 8, 256)         590080    \n",
      "                                                                 \n",
      " block3_conv3 (Conv2D)       (None, 8, 8, 256)         590080    \n",
      "                                                                 \n",
      " block3_pool (MaxPooling2D)  (None, 4, 4, 256)         0         \n",
      "                                                                 \n",
      " block4_conv1 (Conv2D)       (None, 4, 4, 512)         1180160   \n",
      "                                                                 \n",
      " block4_conv2 (Conv2D)       (None, 4, 4, 512)         2359808   \n",
      "                                                                 \n",
      " block4_conv3 (Conv2D)       (None, 4, 4, 512)         2359808   \n",
      "                                                                 \n",
      " block4_pool (MaxPooling2D)  (None, 2, 2, 512)         0         \n",
      "                                                                 \n",
      " block5_conv1 (Conv2D)       (None, 2, 2, 512)         2359808   \n",
      "                                                                 \n",
      " block5_conv2 (Conv2D)       (None, 2, 2, 512)         2359808   \n",
      "                                                                 \n",
      " block5_conv3 (Conv2D)       (None, 2, 2, 512)         2359808   \n",
      "                                                                 \n",
      " block5_pool (MaxPooling2D)  (None, 1, 1, 512)         0         \n",
      "                                                                 \n",
      "=================================================================\n",
      "Total params: 14,714,688\n",
      "Trainable params: 14,714,688\n",
      "Non-trainable params: 0\n",
      "_________________________________________________________________\n"
     ]
    }
   ],
   "source": [
    "model = vgg16.VGG16(include_top=False, input_shape=(32,32,3))\n",
    "model.summary()"
   ]
  },
  {
   "cell_type": "code",
   "execution_count": 12,
   "id": "06f2debe",
   "metadata": {},
   "outputs": [],
   "source": [
    "remodel = Sequential()"
   ]
  },
  {
   "cell_type": "code",
   "execution_count": 13,
   "id": "262650cb",
   "metadata": {},
   "outputs": [],
   "source": [
    "remodel.add(model)"
   ]
  },
  {
   "cell_type": "code",
   "execution_count": 14,
   "id": "d1b50ef6",
   "metadata": {},
   "outputs": [],
   "source": [
    "remodel.add(Dropout(0.5))"
   ]
  },
  {
   "cell_type": "code",
   "execution_count": 15,
   "id": "87c94ccf",
   "metadata": {},
   "outputs": [],
   "source": [
    "remodel.add(Flatten())"
   ]
  },
  {
   "cell_type": "code",
   "execution_count": 16,
   "id": "bf0d9882",
   "metadata": {},
   "outputs": [],
   "source": [
    "# 출력층 => Node: 10개(0~9), activation: softmax\n",
    "remodel.add(Dense(10, activation='softmax')) # 1차원"
   ]
  },
  {
   "cell_type": "code",
   "execution_count": 17,
   "id": "e4943500",
   "metadata": {},
   "outputs": [
    {
     "name": "stdout",
     "output_type": "stream",
     "text": [
      "Model: \"sequential\"\n",
      "_________________________________________________________________\n",
      " Layer (type)                Output Shape              Param #   \n",
      "=================================================================\n",
      " vgg16 (Functional)          (None, 1, 1, 512)         14714688  \n",
      "                                                                 \n",
      " dropout (Dropout)           (None, 1, 1, 512)         0         \n",
      "                                                                 \n",
      " flatten (Flatten)           (None, 512)               0         \n",
      "                                                                 \n",
      " dense (Dense)               (None, 10)                5130      \n",
      "                                                                 \n",
      "=================================================================\n",
      "Total params: 14,719,818\n",
      "Trainable params: 14,719,818\n",
      "Non-trainable params: 0\n",
      "_________________________________________________________________\n"
     ]
    }
   ],
   "source": [
    "remodel.summary()"
   ]
  },
  {
   "cell_type": "code",
   "execution_count": 18,
   "id": "51ffbcd3",
   "metadata": {},
   "outputs": [],
   "source": [
    "remodel.compile(loss='sparse_categorical_crossentropy',\n",
    "              optimizer='SGD',\n",
    "              metrics='accuracy')"
   ]
  },
  {
   "cell_type": "code",
   "execution_count": 21,
   "id": "0f17e08e",
   "metadata": {},
   "outputs": [],
   "source": [
    "from tensorflow.keras.callbacks import EarlyStopping, ModelCheckpoint\n",
    "\n",
    "# 검증 데이터에 대한 loss 값이 3번 연속 개선되지 않으면 학습 중지\n",
    "stopCB = EarlyStopping(monitor='val_loss', patience=3)"
   ]
  },
  {
   "cell_type": "code",
   "execution_count": 22,
   "id": "ed234c0e",
   "metadata": {},
   "outputs": [
    {
     "name": "stdout",
     "output_type": "stream",
     "text": [
      "Epoch 1/10\n",
      "1875/1875 [==============================] - 2010s 1s/step - loss: 1.0314 - accuracy: 0.6511 - val_loss: 0.6201 - val_accuracy: 0.7868\n",
      "Epoch 2/10\n",
      "1875/1875 [==============================] - 1937s 1s/step - loss: 0.5937 - accuracy: 0.7996 - val_loss: 0.5453 - val_accuracy: 0.8128\n",
      "Epoch 3/10\n",
      "1875/1875 [==============================] - 1950s 1s/step - loss: 0.4421 - accuracy: 0.8499 - val_loss: 0.5319 - val_accuracy: 0.8192\n",
      "Epoch 4/10\n",
      "1875/1875 [==============================] - 1956s 1s/step - loss: 0.3364 - accuracy: 0.8870 - val_loss: 0.5652 - val_accuracy: 0.8155\n",
      "Epoch 5/10\n",
      "1875/1875 [==============================] - 1918s 1s/step - loss: 0.2538 - accuracy: 0.9128 - val_loss: 0.4908 - val_accuracy: 0.8453\n",
      "Epoch 6/10\n",
      "1875/1875 [==============================] - 1888s 1s/step - loss: 0.1905 - accuracy: 0.9366 - val_loss: 0.5491 - val_accuracy: 0.8331\n",
      "Epoch 7/10\n",
      "1875/1875 [==============================] - 1855s 989ms/step - loss: 0.1422 - accuracy: 0.9519 - val_loss: 0.5074 - val_accuracy: 0.8534\n",
      "Epoch 8/10\n",
      "1875/1875 [==============================] - 1820s 970ms/step - loss: 0.1138 - accuracy: 0.9621 - val_loss: 0.5488 - val_accuracy: 0.8515\n"
     ]
    }
   ],
   "source": [
    "hist = remodel.fit(train_X, train_y,\n",
    "                 batch_size=20,\n",
    "                 validation_data = (val_X, val_y),\n",
    "                 epochs=10,\n",
    "                 callbacks=[stopCB])"
   ]
  },
  {
   "cell_type": "code",
   "execution_count": 23,
   "id": "024c4a81",
   "metadata": {},
   "outputs": [
    {
     "data": {
      "image/png": "[encoded data removed]",
      "text/plain": [
       "<Figure size 576x360 with 1 Axes>"
      ]
     },
     "metadata": {
      "needs_background": "light"
     },
     "output_type": "display_data"
    }
   ],
   "source": [
    "import matplotlib.pyplot as plt\n",
    "\n",
    "plt.figure(figsize=(8,5))\n",
    "plt.plot(hist.history['accuracy'])\n",
    "plt.plot(hist.history['val_accuracy'])\n",
    "plt.xticks(hist.epoch)\n",
    "plt.legend(['accuracy', 'val_accuracy'])\n",
    "plt.grid()\n",
    "plt.show()"
   ]
  },
  {
   "cell_type": "markdown",
   "id": "855ce3d0",
   "metadata": {},
   "source": [
    "[4] 평가"
   ]
  },
  {
   "cell_type": "code",
   "execution_count": 24,
   "id": "ce15c9d4",
   "metadata": {},
   "outputs": [
    {
     "name": "stdout",
     "output_type": "stream",
     "text": [
      "313/313 [==============================] - 63s 200ms/step - loss: 0.5458 - accuracy: 0.8481\n"
     ]
    },
    {
     "data": {
      "text/plain": [
       "[0.545843243598938, 0.8481000065803528]"
      ]
     },
     "execution_count": 24,
     "metadata": {},
     "output_type": "execute_result"
    }
   ],
   "source": [
    "remodel.evaluate(test_X, test_y)"
   ]
  },
  {
   "cell_type": "markdown",
   "id": "21eab8fb",
   "metadata": {},
   "source": [
    "[5] 새로운 데이터로 테스트"
   ]
  },
  {
   "cell_type": "code",
   "execution_count": 27,
   "id": "47c0c3d6",
   "metadata": {},
   "outputs": [],
   "source": [
    "import PIL.Image as pilimg"
   ]
  },
  {
   "cell_type": "code",
   "execution_count": 41,
   "id": "1e31b151",
   "metadata": {},
   "outputs": [],
   "source": [
    "# 새로운 사진 예측 함수\n",
    "def pre_print(imagefile):\n",
    "    pre_val=['airplane','automobile','bird','cat','deer','dog','frog','horse','ship','truck']\n",
    "\n",
    "    # 이미지 불러오기\n",
    "    test_image=pilimg.open(imagefile).resize((32,32))\n",
    "    test_image_arr=np.array(test_image)\n",
    "\n",
    "    # 이미지 그래프로 그리기\n",
    "    plt.imshow(test_image)\n",
    "    plt.show()\n",
    "\n",
    "    # 예측\n",
    "    result=np.round(remodel.predict(test_image_arr.reshape(-1,32,32,3)),2)\n",
    "    print(f\"\"\"예측값: {result}\\n종류: {pre_val[result.argmax()]}\"\"\")"
   ]
  },
  {
   "cell_type": "code",
   "execution_count": 42,
   "id": "b22c73f6",
   "metadata": {},
   "outputs": [
    {
     "data": {
      "image/png": "[encoded data removed]",
      "text/plain": [
       "<Figure size 432x288 with 1 Axes>"
      ]
     },
     "metadata": {
      "needs_background": "light"
     },
     "output_type": "display_data"
    },
    {
     "name": "stdout",
     "output_type": "stream",
     "text": [
      "1/1 [==============================] - 0s 37ms/step\n",
      "예측값: [[0. 0. 0. 0. 0. 0. 1. 0. 0. 0.]]\n",
      "종류: frog\n"
     ]
    }
   ],
   "source": [
    "pre_print('삵.jfif')"
   ]
  },
  {
   "cell_type": "code",
   "execution_count": 43,
   "id": "bce69c08",
   "metadata": {},
   "outputs": [
    {
     "data": {
      "image/png": "[encoded data removed]",
      "text/plain": [
       "<Figure size 432x288 with 1 Axes>"
      ]
     },
     "metadata": {
      "needs_background": "light"
     },
     "output_type": "display_data"
    },
    {
     "name": "stdout",
     "output_type": "stream",
     "text": [
      "1/1 [==============================] - 0s 45ms/step\n",
      "예측값: [[0. 0. 0. 0. 0. 1. 0. 0. 0. 0.]]\n",
      "종류: dog\n"
     ]
    }
   ],
   "source": [
    "pre_print('고양이.jpg')"
   ]
  },
  {
   "cell_type": "code",
   "execution_count": 44,
   "id": "3e364466",
   "metadata": {},
   "outputs": [
    {
     "data": {
      "image/png": "[encoded data removed]",
      "text/plain": [
       "<Figure size 432x288 with 1 Axes>"
      ]
     },
     "metadata": {
      "needs_background": "light"
     },
     "output_type": "display_data"
    },
    {
     "name": "stdout",
     "output_type": "stream",
     "text": [
      "1/1 [==============================] - 0s 38ms/step\n",
      "예측값: [[1. 0. 0. 0. 0. 0. 0. 0. 0. 0.]]\n",
      "종류: airplane\n"
     ]
    }
   ],
   "source": [
    "pre_print('비행기.jpg')"
   ]
  },
  {
   "cell_type": "code",
   "execution_count": 45,
   "id": "930f4e35",
   "metadata": {},
   "outputs": [
    {
     "data": {
      "image/png": "[encoded data removed]",
      "text/plain": [
       "<Figure size 432x288 with 1 Axes>"
      ]
     },
     "metadata": {
      "needs_background": "light"
     },
     "output_type": "display_data"
    },
    {
     "name": "stdout",
     "output_type": "stream",
     "text": [
      "1/1 [==============================] - 0s 36ms/step\n",
      "예측값: [[1. 0. 0. 0. 0. 0. 0. 0. 0. 0.]]\n",
      "종류: airplane\n"
     ]
    }
   ],
   "source": [
    "pre_print('페가수스.jfif')"
   ]
  },
  {
   "cell_type": "code",
   "execution_count": 46,
   "id": "aa791faa",
   "metadata": {},
   "outputs": [
    {
     "data": {
      "image/png": "[encoded data removed]",
      "text/plain": [
       "<Figure size 432x288 with 1 Axes>"
      ]
     },
     "metadata": {
      "needs_background": "light"
     },
     "output_type": "display_data"
    },
    {
     "name": "stdout",
     "output_type": "stream",
     "text": [
      "1/1 [==============================] - 0s 36ms/step\n",
      "예측값: [[0. 1. 0. 0. 0. 0. 0. 0. 0. 0.]]\n",
      "종류: automobile\n"
     ]
    }
   ],
   "source": [
    "pre_print('자동차.jfif')"
   ]
  },
  {
   "cell_type": "code",
   "execution_count": 47,
   "id": "8a4e40ef",
   "metadata": {},
   "outputs": [
    {
     "data": {
      "image/png": "[encoded data removed]",
      "text/plain": [
       "<Figure size 432x288 with 1 Axes>"
      ]
     },
     "metadata": {
      "needs_background": "light"
     },
     "output_type": "display_data"
    },
    {
     "name": "stdout",
     "output_type": "stream",
     "text": [
      "1/1 [==============================] - 0s 38ms/step\n",
      "예측값: [[0. 0. 0. 0. 0. 0. 1. 0. 0. 0.]]\n",
      "종류: frog\n"
     ]
    }
   ],
   "source": [
    "pre_print('개구리.jfif')"
   ]
  },
  {
   "cell_type": "code",
   "execution_count": 48,
   "id": "bc24f88b",
   "metadata": {},
   "outputs": [
    {
     "data": {
      "image/png": "[encoded data removed]",
      "text/plain": [
       "<Figure size 432x288 with 1 Axes>"
      ]
     },
     "metadata": {
      "needs_background": "light"
     },
     "output_type": "display_data"
    },
    {
     "name": "stdout",
     "output_type": "stream",
     "text": [
      "1/1 [==============================] - 0s 38ms/step\n",
      "예측값: [[0. 0. 0. 0. 0. 1. 0. 0. 0. 0.]]\n",
      "종류: dog\n"
     ]
    }
   ],
   "source": [
    "pre_print('강아지.jfif')"
   ]
  },
  {
   "cell_type": "code",
   "execution_count": null,
   "id": "89d22b50",
   "metadata": {},
   "outputs": [],
   "source": []
  }
 ],
 "metadata": {
  "kernelspec": {
   "display_name": "Python 3 (ipykernel)",
   "language": "python",
   "name": "python3"
  },
  "language_info": {
   "codemirror_mode": {
    "name": "ipython",
    "version": 3
   },
   "file_extension": ".py",
   "mimetype": "text/x-python",
   "name": "python",
   "nbconvert_exporter": "python",
   "pygments_lexer": "ipython3",
   "version": "3.9.12"
  }
 },
 "nbformat": 4,
 "nbformat_minor": 5
}
