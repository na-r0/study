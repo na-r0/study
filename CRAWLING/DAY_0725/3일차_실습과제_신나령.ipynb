{
 "cells": [
  {
   "cell_type": "markdown",
   "metadata": {},
   "source": [
    "## 과제 #3\n",
    "\n",
    "- 시가 총액 10위까지의 기업 정보를 크롤링\n",
    "- 네이버 금융 웹사이트\n",
    "    - https://finance.naver.com/sise/sise_market_sum.naver\n",
    "- 크롤링 항목 7개 출력\n",
    "    - 종목명, 종목코드, 현재가, 전일가, 시가, 고가, 저가\n",
    "- 프로그램 동작\n",
    "    - 코스피 상위 10개 기업의 URL 및 기업 이름을 리스트에 저장\n",
    "    - 메뉴에서 선택한 기업의 세부 주식 정보를 화면에 출력\n",
    "    -  사용자가 -1을 입력할 때 까지 계속 반복함"
   ]
  },
  {
   "cell_type": "code",
   "execution_count": 13,
   "metadata": {},
   "outputs": [
    {
     "name": "stdout",
     "output_type": "stream",
     "text": [
      "-------------------------------------\n",
      "[ 네이버 코스피 상위 10대 기업 목록 ]\n",
      "-------------------------------------\n",
      "[ 1] 삼성전자\n",
      "[ 2] LG에너지솔루션\n",
      "[ 3] SK하이닉스\n",
      "[ 4] 삼성바이오로직스\n",
      "[ 5] 삼성전자우\n",
      "[ 6] 현대차\n",
      "[ 7] NAVER\n",
      "[ 8] LG화학\n",
      "[ 9] 삼성SDI\n",
      "[10] 기아\n",
      "https://finance.naver.com//item/main.naver?code=000270\n",
      "종목명: 기아\n",
      "종목코드: 000270\n",
      "현재가: 82,300\n",
      "전일가: 80,900\n",
      "시가: 81,300\n",
      "고가: 83,300\n",
      "저가: 81,200\n",
      "프로그램 종료\n"
     ]
    }
   ],
   "source": [
    "import requests\n",
    "from selenium import webdriver\n",
    "from bs4 import BeautifulSoup\n",
    "\n",
    "# 한글 깨져서 requests 사용\n",
    "html=requests.get('https://finance.naver.com/sise/sise_market_sum.naver') # 처음 페이지\n",
    "soup=BeautifulSoup(html.text,'html.parser')\n",
    "stocks=soup.find('div',class_=\"box_type_l\").find_all('td') # <div> 태그 안의 모든 <td> 정보\n",
    "stock_list=[]\n",
    "stock_url=[]\n",
    "stock_dict={}\n",
    "\n",
    "for stock in stocks:\n",
    "    if len(stock('a'))!=0: # 길이가 0이 아니고\n",
    "        if stock('a')[0].text!='': # 텍스트가 None이 아닐 경우\n",
    "            stock_url.append(stock('a')[0]['href']) # 내부 링크\n",
    "            stock_list.append(stock('a')[0].text)\n",
    "        if len(stock_list)==10: break # 값 10개만 리스트에 넣어 주고 중단\n",
    "print('-------------------------------------\\n[ 네이버 코스피 상위 10대 기업 목록 ]\\n-------------------------------------')\n",
    "for i in range(len(stock_list)):\n",
    "    print('[{0:2}] {1}'.format(i+1,stock_list[i]))\n",
    "    stock_dict[i+1]=stock_url[i]   \n",
    "while True:\n",
    "    num=input('주가를 검색할 기업의 번호를 입력하세요(-1: 종료) ')\n",
    "    if int(num)==-1:\n",
    "        print('프로그램 종료')\n",
    "        break\n",
    "    elif 1<=int(num)<=10:\n",
    "        url='https://finance.naver.com/'+stock_dict.get(int(num)) # 두번째 페이지(항목 클릭)\n",
    "        print(url) # 주소 출력\n",
    "\n",
    "        html=requests.get(url)\n",
    "        soup=BeautifulSoup(html.text,'html.parser')\n",
    "        item_list=soup.find('dl').find_all('dd') # 모든 <dd> 정보\n",
    "        total_list=[]\n",
    "\n",
    "        for item in item_list:\n",
    "            total_list.append(item.text)\n",
    "\n",
    "        for i in range(len(total_list)):\n",
    "            if i in (1,2,3,4,5,6,8):\n",
    "                print('{}: {}'.format(total_list[i].split(' ')[0],total_list[i].split(' ')[1]))\n",
    "    else: continue\n",
    "    "
   ]
  },
  {
   "cell_type": "code",
   "execution_count": null,
   "metadata": {},
   "outputs": [],
   "source": []
  }
 ],
 "metadata": {
  "kernelspec": {
   "display_name": "Python 3 (ipykernel)",
   "language": "python",
   "name": "python3"
  },
  "language_info": {
   "codemirror_mode": {
    "name": "ipython",
    "version": 3
   },
   "file_extension": ".py",
   "mimetype": "text/x-python",
   "name": "python",
   "nbconvert_exporter": "python",
   "pygments_lexer": "ipython3",
   "version": "3.9.12"
  },
  "vscode": {
   "interpreter": {
    "hash": "ad2bdc8ecc057115af97d19610ffacc2b4e99fae6737bb82f5d7fb13d2f2c186"
   }
  }
 },
 "nbformat": 4,
 "nbformat_minor": 2
}
